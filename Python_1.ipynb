{
  "nbformat": 4,
  "nbformat_minor": 0,
  "metadata": {
    "kernelspec": {
      "display_name": "Python 3",
      "language": "python",
      "name": "python3"
    },
    "language_info": {
      "codemirror_mode": {
        "name": "ipython",
        "version": 3
      },
      "file_extension": ".py",
      "mimetype": "text/x-python",
      "name": "python",
      "nbconvert_exporter": "python",
      "pygments_lexer": "ipython3",
      "version": "3.7.6"
    },
    "latex_metadata": {
      "author": "Andreas C. M\\\"ller",
      "title": "Machine Learning with Python"
    },
    "colab": {
      "name": "Python_1.ipynb",
      "provenance": [],
      "collapsed_sections": [],
      "toc_visible": true,
      "include_colab_link": true
    }
  },
  "cells": [
    {
      "cell_type": "markdown",
      "metadata": {
        "id": "view-in-github",
        "colab_type": "text"
      },
      "source": [
        "<a href=\"https://colab.research.google.com/github/Rogerio-mack/Mack_Python_Introducao/blob/main/Python_1.ipynb\" target=\"_parent\"><img src=\"https://colab.research.google.com/assets/colab-badge.svg\" alt=\"Open In Colab\"/></a>"
      ]
    },
    {
      "cell_type": "markdown",
      "metadata": {
        "id": "pqEhMdFQO3A-"
      },
      "source": [
        "<head>\n",
        "  <meta name=\"author\" content=\"Rogério de Oliveira\">\n",
        "  <meta institution=\"author\" content=\"Universidade Presbiteriana Mackenzie\">\n",
        "</head>\n",
        "\n",
        "<img src=\"http://meusite.mackenzie.br/rogerio/mackenzie_logo/UPM.2_horizontal_vermelho.jpg\" width=300, align=\"right\"> \n",
        "\n",
        "<br>\n",
        "<br>\n",
        "\n",
        "# **Introdução ao Python**\n",
        "### *Ambiente Google Colab, Variáveis, Controles de Fluxo, NumPy*\n",
        "\n",
        "\n",
        "\n",
        "---\n"
      ]
    },
    {
      "cell_type": "markdown",
      "metadata": {
        "id": "4pJask4BvIUL"
      },
      "source": [
        "# Introdução \n",
        "\n",
        "A familiaridade com alguma linguagem de programação Java, Java Script, C não é necessariamente obrigatória, mas ajuda bastante e você pode fazer um paralelo dessa linguagem com o Python. Python é uma linguagem simples, fácil de usar e com uma curva de aprendizado muito rápida. Ela implementa todos conceitos comuns de programação como variável, atribuição, tipos de dados básicos como numéricos e cadeias de caracteres, laços e condicionais de programa, e entrada e saída de dados básicas. \n",
        "\n",
        "Vamos então percorrer os principais conceitos da linguagem Python: variáveis e tipos, atribuições, operações numéricas, entradas e saídas de dados básicas pelo terminal, instruções de controle de fluxo, uso de funções, acesso básico a arquivos e as coleções de dados do Python, listas, sets, tuplas e dicionários.  Ao final vamos também ver algumas funções da biblioteca Numpy que implementa uma série de funções sobre arrays numéricos que são muito úteis no uso de Python para processamento científico de análise de dados.\n",
        "\n",
        "\n"
      ]
    },
    {
      "cell_type": "markdown",
      "source": [
        "## ***Discussão***: Por que Python? \n",
        "\n",
        "> *Ou por que não? Ou ainda por que aprender a programar?*\n",
        "\n"
      ],
      "metadata": {
        "id": "tCYASwwizwSR"
      }
    },
    {
      "cell_type": "markdown",
      "source": [
        "## ***Discussão***: Como programamos hoje?\n",
        "\n",
        "> *Internet, Mudanças contínuas, Comunidades*\n"
      ],
      "metadata": {
        "id": "Xx4WKrnH2DrR"
      }
    },
    {
      "cell_type": "markdown",
      "source": [
        "# Regras para programar\n",
        "\n",
        "Tendo ou não familiaridade com programação vale a pena lembrar algumas regras e boas práticas que são úteis para você no aprendizado de uma  nova linguagem de programação. \n",
        "\n",
        "1. **Programar não é fácil**, exige esforço e tempo. \n",
        "> Como aprender uma  nova língua você precisa assimilar e praticar os seus conhecimentos \n",
        "1. **Building Blocks**. Programe de modo **incremental** \n",
        "> Para resolver um problema vá construindo a solução aos poucos. Resolva um parte do problema e verifique se os resultados são os esperados. Em seguinda incremente sua solução com outras partes do problema e assim sucessivamente.\n",
        "1. **Small Building Blocks**.`Debug` o seu programa\n",
        "> Guanhou um erro? Não está funcionando? **Leia a mensagem de erro com atenção**. Se não ficou claro o problema volte e você está construindo seu programa de modo incremental, volte um passo na solução e **reconstrua sua solução em etapas ainda menores**. **Inspecione as variáveis** a cada passo fazendo `print` dos valores e verificando se o conteúdo das variáveis é o esperado.\n",
        "1.  **Copy Building Blocks**.Copy $\\rightarrow$ Paste $\\rightarrow$ Adapte\n",
        "> Empregue o Google e a internet ao seu favor. Existem milhares de soluções disponíveis. Empregue também alguma **referência online** de sua preferência. Você pode começar [aqui](https://www.w3schools.com/python/).\n",
        "1. **Reuse Building Blocks**. \n",
        "> Você deve aprender a 'ler' um código mesmo que não seja capaz de 'escrevê-lo'. Isso lhe dará a capacidade de criar inúmeras soluções poderosas mesmo que você não domine completamente a linguagem!\n",
        "\n"
      ],
      "metadata": {
        "id": "MJhQs-092P5Z"
      }
    },
    {
      "cell_type": "markdown",
      "source": [
        "![imagem](https://github.com/Rogerio-mack/Ling-de-Prog-para-Ciencia-de-Dados/blob/main/LP_Apresentacao.png?raw=true)"
      ],
      "metadata": {
        "id": "YpBMoJukz696"
      }
    },
    {
      "cell_type": "markdown",
      "source": [
        "## ***Tente você***: \n",
        "\n",
        "> *Aprenda a exibir uma imagem da internet com a linguagem html.*"
      ],
      "metadata": {
        "id": "9CnMuAa347EK"
      }
    },
    {
      "cell_type": "markdown",
      "source": [
        "## Hmtl\n",
        "\n",
        "O código html abaixo mostra a imagem do endereço *http://...* com tamanho (`width`) 300\n",
        "```\n",
        "<img src=\"http://meusite.mackenzie.br/rogerio/mackenzie_logo/UPM.2_horizontal_vermelho.jpg\" width=300>\n",
        "\n",
        "```\n",
        "\n",
        "</br>\n",
        "\n",
        "<img src=\"http://meusite.mackenzie.br/rogerio/mackenzie_logo/UPM.2_horizontal_vermelho.jpg\" width=300>\n",
        "\n",
        "Adicione e uma célula de texto e (Click em +Text na barra de ferramentas) e empregue o código acima para exibir a imagem endereço \n",
        "\n",
        "https://github.com/Rogerio-mack/Mack_Python_Introducao/blob/main/imagens/Wonder%20Woman%201984%20(2020).png?raw=true\n",
        "\n",
        "com tamanho de 500.\n",
        "\n",
        "\n"
      ],
      "metadata": {
        "id": "Z3g7sNMX41vf"
      }
    },
    {
      "cell_type": "markdown",
      "source": [
        "Double-Click **aqui** para ver a solução  \n",
        "<!-- \n",
        "<img src=\"https://github.com/Rogerio-mack/Mack_Python_Introducao/blob/main/imagens/Wonder%20Woman%201984%20(2020).png?raw=true\" width=500></comment>\n",
        "-->"
      ],
      "metadata": {
        "id": "WpSL9wLI9I9M"
      }
    },
    {
      "cell_type": "markdown",
      "source": [
        "## Agora em Python\n",
        "\n",
        "O código Python abaixo mostra como produzir um gráfico da função:\n",
        "\n",
        "$$ y = sin(x) $$\n",
        "\n",
        "\n",
        "\n"
      ],
      "metadata": {
        "id": "aSxehlZTCA0C"
      }
    },
    {
      "cell_type": "code",
      "source": [
        "import numpy as np\n",
        "from matplotlib import pyplot as plt\n",
        "\n",
        "x = np.arange(0,50,0.1)\n",
        "y = np.sin(x) \n",
        "\n",
        "plt.plot(x, y, linestyle='solid', color='k')\n",
        "\n",
        "plt.title(\"Sin(x)\")\n",
        "plt.show()"
      ],
      "metadata": {
        "id": "0FY2KrFO-8JK",
        "outputId": "526452e2-2101-4fa9-8bba-1b8bdd377eb9",
        "colab": {
          "base_uri": "https://localhost:8080/",
          "height": 281
        }
      },
      "execution_count": null,
      "outputs": [
        {
          "output_type": "display_data",
          "data": {
            "image/png": "[encoded data removed]",
            "text/plain": [
              "<Figure size 432x288 with 1 Axes>"
            ]
          },
          "metadata": {
            "needs_background": "light"
          }
        }
      ]
    },
    {
      "cell_type": "markdown",
      "source": [
        "Adicione e uma célula de Código e (Click em +Code na barra de ferramentas) e empregue o código acima para criar um programa que exibe o gráfico da função\n",
        "\n",
        "$$ y(t) = e^{-t} sin(t) $$\n",
        "\n",
        "No intervalo de $[0,10]$. \n",
        "\n",
        "Você ainda pode experimentar diferentes estilos de linha e cores consultando [aqui](https://www.w3schools.com/python/matplotlib_line.asp). Para a função exponencial empregue `np.exp(x)`.\n",
        "\n",
        "\n",
        "\n",
        "\n"
      ],
      "metadata": {
        "id": "hj2alLkUCFRS"
      }
    },
    {
      "cell_type": "markdown",
      "source": [
        "Double-Click **aqui** para ver a solução \n",
        "<!--\n",
        "import numpy as np\n",
        "from matplotlib import pyplot as plt\n",
        "\n",
        "x = np.arange(0,10,0.1)\n",
        "y = np.exp(-x)*np.sin(x)\n",
        "\n",
        "plt.plot(x, y, linestyle='dashed', color='r')\n",
        "\n",
        "plt.show()\n",
        "-->"
      ],
      "metadata": {
        "id": "d3IbvTfKG4GM"
      }
    },
    {
      "cell_type": "markdown",
      "metadata": {
        "id": "NMA0_zHO_qh0"
      },
      "source": [
        "# Ambientes Python de Programação "
      ]
    },
    {
      "cell_type": "markdown",
      "metadata": {
        "id": "Rewsejvwt-BO"
      },
      "source": [
        "## Ambiente Google Colaboratory ou `Colab`\n",
        "\n",
        "O Google Colaboratory ou simplesmente *Colab* é um ambiente que permite você  escrever código Python diretamente em seu navegador, sem nenhuma configuração ou instalação de softwares necessária, e que ainda fornece acesso a recursos de GPU para o processamento e compartilhamento fácil de código (GitHub, Google Drive etc.). Para acessar, basta digitar no seu navegador https://colab.research.google.com/. "
      ]
    },
    {
      "cell_type": "markdown",
      "metadata": {
        "id": "nDvkveEM83mf"
      },
      "source": [
        "<img src=\"http://meusite.mackenzie.br/rogerio/LP/LP.png\" width=900, align=\"center\"> "
      ]
    },
    {
      "cell_type": "markdown",
      "metadata": {
        "id": "5fCEDCU_qrC0"
      },
      "source": [
        "Esse será nosso ambiente preferencial de programação Python e, mais adiante, ao estudar a linguagem R você encontrará um ambiente semelhante para o desenvolvimento em R. \n",
        "\n",
        "O Colaboratory ou \"Colab\" permite escrever código Python no seu navegador, com: \n",
        "- Nenhuma configuração necessária\n",
        "- Acesso gratuito a GPUs\n",
        "- Compartilhamento fácil\n",
        "\n"
      ]
    },
    {
      "cell_type": "markdown",
      "metadata": {
        "id": "GJBs_flRovLc"
      },
      "source": [
        "## Notebooks Python\n",
        "\n",
        "Os notebooks Python (**Jupyter** notebooks) permitem combinar <strong>código executável</strong> e <strong>rich text</strong> e as saídas do seu código em um só documento, além de <strong>imagens</strong>, <strong>HTML</strong>, <strong>LaTeX</strong> e muito mais. O documento dos notebooks Python são dividos em\n",
        "\n",
        "- **Celulas de Código** \n",
        "- **Celulas de Texto**\n",
        "- a as saídas dos Programas\n",
        "\n",
        "O documento que você está lendo não é uma página da Web estática, mas sim um ambiente interativo chamado <strong>notebook Colab</strong> que permite escrever e executar código.\n",
        "\n",
        "Por exemplo, aqui está uma <strong>célula de código</strong> com um breve script Python que calcula um valor, armazena-o em uma variável e imprime o resultado:"
      ]
    },
    {
      "cell_type": "code",
      "metadata": {
        "colab": {
          "base_uri": "https://localhost:8080/",
          "height": 34
        },
        "id": "gJr_9dXGpJ05",
        "outputId": "9f556d03-ec67-4950-a485-cfdba9ddd14d"
      },
      "source": [
        "seconds_in_a_day = 24 * 60 * 60\n",
        "seconds_in_a_day"
      ],
      "execution_count": null,
      "outputs": [
        {
          "output_type": "execute_result",
          "data": {
            "text/plain": [
              "86400"
            ]
          },
          "metadata": {
            "tags": []
          },
          "execution_count": 0
        }
      ]
    },
    {
      "cell_type": "markdown",
      "metadata": {
        "id": "pPZLdhy5Q6TZ"
      },
      "source": [
        "## Células de Código\n",
        "\n",
        "As células de código podem conter qualquer script Python."
      ]
    },
    {
      "cell_type": "code",
      "metadata": {
        "id": "fXmiIc01RHWR",
        "colab": {
          "base_uri": "https://localhost:8080/",
          "height": 299
        },
        "outputId": "709f487c-b722-459d-c32c-09fb198e80eb"
      },
      "source": [
        "# imports\n",
        "import numpy as np\n",
        "import matplotlib.pyplot as plt\n",
        "\n",
        "cores = 'rgbcmyk'\n",
        "label = ['red','green','blue','cyan','magenta','yellow','black']\n",
        "\n",
        "n = int( input('Entre com um número inteiro: ') )\n",
        "\n",
        "cor = n % len(cores)\n",
        "\n",
        "x = 200 + np.random.randn(100)\n",
        "plt.plot(x,color=cores[cor])\n",
        "\n",
        "plt.title(label[cor].upper(),fontsize=14)\n",
        "plt.show()"
      ],
      "execution_count": null,
      "outputs": [
        {
          "output_type": "stream",
          "text": [
            "Entre com um número inteiro: 5\n"
          ],
          "name": "stdout"
        },
        {
          "output_type": "display_data",
          "data": {
            "image/png": "[encoded data removed]",
            "text/plain": [
              "<Figure size 432x288 with 1 Axes>"
            ]
          },
          "metadata": {
            "tags": [],
            "needs_background": "light"
          }
        }
      ]
    },
    {
      "cell_type": "markdown",
      "metadata": {
        "id": "ZfGZ_TasuViM"
      },
      "source": [
        "### Alerta importante: Espaço de Trabalho\n",
        "\n",
        "Todas as células compartilham o mesmo espaço de execução. Assim as variáveis de criadas e alteradas em uma célula são imediatamente acessíveis a todas as demais células. Independente da ordem em que aparecem. \n",
        "\n",
        "- As células de código não são programas independentes\n",
        "- Seus resultados persistem após cada execução\n",
        "\n",
        "Como você pode executar qualquer célula a qualquer momento a ideia execução *sequencial* do programa é aqui um pouco modificada."
      ]
    },
    {
      "cell_type": "code",
      "metadata": {
        "id": "cGoSdW2PuViU"
      },
      "source": [
        "x = np.random.randint(10) # gera um valor aleatório entre 0 e 100"
      ],
      "execution_count": null,
      "outputs": []
    },
    {
      "cell_type": "code",
      "metadata": {
        "colab": {
          "base_uri": "https://localhost:8080/"
        },
        "id": "4m0kakCsuViU",
        "outputId": "d3c4b2f2-904a-4f3d-bf9f-3cb591466483"
      },
      "source": [
        "# Você pode executar essa célula uma vez, mas ganhará um erro ao executá-la novamente\n",
        "print(x) \n",
        "del x"
      ],
      "execution_count": null,
      "outputs": [
        {
          "output_type": "stream",
          "name": "stdout",
          "text": [
            "7\n"
          ]
        }
      ]
    },
    {
      "cell_type": "markdown",
      "metadata": {
        "id": "HeFMabhHUFax"
      },
      "source": [
        "## Células de Texto\n",
        "\n",
        "As células de texto são criadas no formato **Markdown**. Clique duas vezes no texto para editar uma célula e você pode querer empregar barra de ferramentas para formata-lo ou, quando estiver mais familiarizado com a notação **Markdown**, escrever diretamente a formatação. Experimente abaixo.\n"
      ]
    },
    {
      "cell_type": "markdown",
      "metadata": {
        "id": "2fhs6GZ4qFMx"
      },
      "source": [
        "---\n",
        "> ### **Títulos**\n",
        "--- \n",
        "```\n",
        "# Título 1\n",
        "\n",
        "## Título 2\n",
        "\n",
        "### Título 3\n",
        "```\n",
        "> Produz...\n",
        "\n",
        "# Título 1\n",
        "\n",
        "## Título 2\n",
        "\n",
        "### Título 3\n",
        "\n",
        "---\n",
        "> ### Textos \n",
        "--- \n",
        "```\n",
        "**bold**\n",
        "\n",
        "*italic*\n",
        "```\n",
        "> Produz...\n",
        "\n",
        "**bold**\n",
        "\n",
        "*italic*\n",
        "\n",
        "---\n",
        "> ### Identação\n",
        "---\n",
        "```\n",
        "> indent 1\n",
        "\n",
        ">> indent 2\n",
        "```\n",
        "> Produz... \n",
        "\n",
        "> indent 1\n",
        "\n",
        ">> indent 2\n",
        "\n",
        "--- \n",
        "### Listas\n",
        "---\n",
        "```\n",
        "* item  \n",
        "* item\n",
        "* item\n",
        "```\n",
        "> Produz...\n",
        "\n",
        "* item  \n",
        "* item\n",
        "* item\n",
        "\n",
        "> ou\n",
        "\n",
        "```\n",
        "1. item 1\n",
        "2. item 2\n",
        "3. item 3\n",
        "```\n",
        "> Produz...\n",
        "\n",
        "1. item 1\n",
        "2. item 2\n",
        "3. item 3\n",
        "\n",
        "\n"
      ]
    },
    {
      "cell_type": "markdown",
      "metadata": {
        "id": "aIBwXwOCYSXp"
      },
      "source": [
        "## Salvando e abrindo um Colab notebook\n",
        "\n",
        "Seus notebooks Pythons são **salvos no seu Google Drive**. Mas **CUIDADO!** suas alterações são salvas **automaticamente**! **RECOMENDO** você empregar a opção `Arquivo >` na barra de ferramentas para carregar ou salvar seu notebook Python em um arquivo `.ipynb`. \n",
        "\n",
        "* `Arquivo > Fazer download > Fazer download do .ipynb`\n",
        "* `Arquivo > Faze upload de um notebook`"
      ]
    },
    {
      "cell_type": "markdown",
      "source": [
        "## ***Tente você***: \n",
        "\n",
        "> 1. *Crie uma cópia do seu notebook* `File > Save a copy in Drive`\n",
        "> 2. Faça algumas alterações como modificar a imagem que empregamos do logo do Mackenzie no documento, incluir uma seção com título de uma disciplina ou tópico e o seu nome como autor. \n",
        "> 3. *Salve o notebook na sua máquina* `Download > Download .ipynb`\n",
        "> 4. Feche seu browser.\n",
        "> 5. Abra novamente uma nova sessão de Colab e carregue seu arquivo `File > Upload notebook`"
      ],
      "metadata": {
        "id": "VEoGKW7sI0h4"
      }
    },
    {
      "cell_type": "markdown",
      "source": [
        "## ***Discussão***: Python notebook  $\\times$  IDE's "
      ],
      "metadata": {
        "id": "gb2EWz-XKnAR"
      }
    },
    {
      "cell_type": "markdown",
      "metadata": {
        "id": "eGCYLQKCcWEq"
      },
      "source": [
        "## Python notebook $\\times$ IDE's\n",
        "\n",
        "O uso de notebooks Python tem a vantagem de ser de fácil acesso, compartilhar em um mesmo documento código, texto e suas saídas e facilitar o trabalho colaborativo. Tem sido uma opção bastante aplicada em soluções de **Ciência de Dados** e a preferencial para o ensino.\n",
        "\n",
        "Projetos mais complexos que envolvem programas longos e em grande número podem se beneficiar do uso de ambientes integrados de desenvolvimento (IDE's) como o PyCharm, Visual Code ou o Spyder para maior produtividade. \n",
        "\n",
        "- notebooks Python, extensão `.ipynb`\n",
        "- scripts Python, extensão `.py`\n",
        "\n",
        "Para uso de um ambiente Python local recomendamos a instalação do ambiente [Anaconda](https://www.anaconda.com/products/individual). Ele irá incluir a instalação do Python, do ambiente [Jupyter](https://jupyter.org/) notebook local e do IDE [Spyder](https://www.spyder-ide.org/)."
      ]
    },
    {
      "cell_type": "markdown",
      "metadata": {
        "id": "8XowDN9Etvef"
      },
      "source": [
        "# Python\n",
        "\n",
        "Python é uma linguagem bastante poderosa e com muitos recursos. Nessa introdução de Python vamos apenas apresentar um conjunto de recursos mínimo de recursos havendo diversas boas fontes online e livros de introdução ao Python."
      ]
    },
    {
      "cell_type": "markdown",
      "metadata": {
        "id": "kuSOumUSw142"
      },
      "source": [
        "## Imports básicos \n",
        "\n",
        "Empregue para importar bibliotecas que adicionam funcionalidades ao Python. Em geral, para nós, os seguintes imports serão suficientes:"
      ]
    },
    {
      "cell_type": "code",
      "metadata": {
        "id": "qRTKp_OVwxEq"
      },
      "source": [
        "import pandas as pd                  # Pandas para acesso e manipulação de dados\n",
        "import numpy as np                   # Numpy para operações de vetores e matrizes numéricas (arrays)\n",
        "import matplotlib.pyplot as plt      # Bibliotecas de gráficos e visuallização de dados\n",
        "import matplotlib as mpl\n",
        "# import seaborn as sns\n",
        "%matplotlib inline\n"
      ],
      "execution_count": null,
      "outputs": []
    },
    {
      "cell_type": "markdown",
      "metadata": {
        "id": "oTM8Qhy2tqPj"
      },
      "source": [
        "## Variáveis e Atribuições\n",
        "\n",
        "O `Python` implementa tipos fracos, isto é, você não precisa declarar uma variável antes de empregá-la, ela e seu tipo de dado serão automaticamente definidos na primeira atribuição a um rótulo (nome da variável)."
      ]
    },
    {
      "cell_type": "code",
      "metadata": {
        "id": "RyTJOsK5qdtB",
        "colab": {
          "base_uri": "https://localhost:8080/"
        },
        "outputId": "bb8f32db-2892-4327-b4c3-4aaf3f86e08d"
      },
      "source": [
        "inteiro = 123\n",
        "real = np.pi\n",
        "texto1 = '123'\n",
        "texto2 = 'Led Zeppelin'\n",
        "print(type(inteiro), type(real), type(texto1), type(texto2))\n",
        "print(inteiro, real, texto1, texto2)"
      ],
      "execution_count": null,
      "outputs": [
        {
          "output_type": "stream",
          "text": [
            "<class 'int'> <class 'float'> <class 'str'> <class 'str'>\n",
            "123 3.141592653589793 123 Led Zeppelin\n"
          ],
          "name": "stdout"
        }
      ]
    },
    {
      "cell_type": "markdown",
      "metadata": {
        "id": "4JP3gsGP0ZdZ"
      },
      "source": [
        "## Caracteres e Valores Numéricos\n",
        "\n",
        "O `Python` implementa valores numéricos inteiros e de ponto flutuante com as operações básicas, e cadeias de caracteres (`strings`)."
      ]
    },
    {
      "cell_type": "code",
      "metadata": {
        "id": "5waHa86uur4C",
        "colab": {
          "base_uri": "https://localhost:8080/"
        },
        "outputId": "0a4ce85c-2bed-4378-cb14-e50c31f9bcfa"
      },
      "source": [
        "inteiro = inteiro + 1\n",
        "real = real + 1\n",
        "exto1 = texto1 + '4'\n",
        "texto2 = texto2 + ': Stairway to Heaven'\n",
        "print(inteiro, real, texto1, texto2)\n",
        "print(inteiro, '\\n', real, '\\n', texto1, '\\n', '\\t'*4 , texto2)\n",
        "print('Valor real {:0.2f}'.format(real))"
      ],
      "execution_count": null,
      "outputs": [
        {
          "output_type": "stream",
          "text": [
            "124 4.141592653589793 123 Led Zeppelin: Stairway to Heaven\n",
            "124 \n",
            " 4.141592653589793 \n",
            " 123 \n",
            " \t\t\t\t Led Zeppelin: Stairway to Heaven\n",
            "Valor real 4.14\n"
          ],
          "name": "stdout"
        }
      ]
    },
    {
      "cell_type": "markdown",
      "metadata": {
        "id": "bBO8cKayouUr"
      },
      "source": [
        "### Integer, Float-point, Boolean "
      ]
    },
    {
      "cell_type": "code",
      "metadata": {
        "id": "PwIVdvKBouUt",
        "colab": {
          "base_uri": "https://localhost:8080/"
        },
        "outputId": "40e31057-d8de-4c17-e7f4-ac38ee58663c"
      },
      "source": [
        "print(3 * 4, 3 + 4, 3 - 4, 3 / 4, 3.14, 4.2e-4 ) \n",
        "print(type(3 * 4), type(3.14), type(4.2e-4) ) \n",
        "print(3 ** 2, 3 // 4, 3 % 4 )                       # potência, divisão inteira e resto da divisão (mod)\n",
        "print(4 > 3, 4 >= 3, 3 == 3.0, 3 != 4, 3 <= 4 )\n",
        "print(1 < 2 < 9)                                    # boolean\n",
        "\n"
      ],
      "execution_count": null,
      "outputs": [
        {
          "output_type": "stream",
          "text": [
            "12 7 -1 0.75 3.14 0.00042\n",
            "<class 'int'> <class 'float'> <class 'float'>\n",
            "9 0 3\n",
            "True True True True True\n",
            "True\n"
          ],
          "name": "stdout"
        }
      ]
    },
    {
      "cell_type": "markdown",
      "metadata": {
        "id": "MwYZaE9rd2Pm"
      },
      "source": [
        "### Numpy functions\n",
        "\n",
        "As funções básicas estão disponíveis nativamente, mas para muitas funções matemáticas como funções trigonométricas, randomização de valores e constantes como o $\\pi$ e $e$ é necessário recorrer a bibliotecas numéricas como o `numpy` e `math` e, em geral, empregaremos o `numpy` e vermos mais sobre essa biblioteca adiante. \n",
        "\n"
      ]
    },
    {
      "cell_type": "code",
      "metadata": {
        "id": "Ud0GcfPXouUy",
        "colab": {
          "base_uri": "https://localhost:8080/"
        },
        "outputId": "bceb1e58-158d-4e1b-df46-859ca620d4a1"
      },
      "source": [
        "import numpy as np\n",
        "              \n",
        "print(np.pi)            # pi \n",
        "print(np.exp(1))        # e\n",
        "\n",
        "print(5 % 2)\n",
        "# o mesmo que\n",
        "print(np.mod(5,2))\n",
        "\n",
        "print(np.random.rand(1))\n",
        "print(np.random.sample(10))"
      ],
      "execution_count": null,
      "outputs": [
        {
          "output_type": "stream",
          "text": [
            "3.141592653589793\n",
            "2.718281828459045\n",
            "1\n",
            "1\n",
            "[0.10284181]\n",
            "[0.90906841 0.80500469 0.08408398 0.08634413 0.85411987 0.76337207\n",
            " 0.55200052 0.7204412  0.68073271 0.43283886]\n"
          ],
          "name": "stdout"
        }
      ]
    },
    {
      "cell_type": "markdown",
      "metadata": {
        "id": "RDwLsBxk1JYj"
      },
      "source": [
        "## Strings  \n",
        "\n",
        "As strings em `Python` são como arrays de caracteres e são estruturas **imutáveis**. Isso significa que você não pode em `Python` atribuir um valor a uma posição específica de um array de string. \n",
        "\n",
        "Além disso note a indexação dos *slices* de strings:\n",
        "\n",
        "`str[ inicio : tamanho ]` \n",
        "ou\n",
        "`str[ inicio : fim+1 ]` \n",
        "\n",
        "Elas iniciam por 0 mas, em `Python`, o limite superior indicará um valor $<$ do caracter que será exibido e não $\\le$ como em outras linguagens como C ou Java.\n",
        "\n",
        "```{note}\n",
        "em `Python`, o limite superior indicará um valor $<$ do caracter que será exibido e não $\\le$ como em outras linguagens como C ou Java.\n",
        "\n",
        "```\n",
        "\n"
      ]
    },
    {
      "cell_type": "code",
      "metadata": {
        "id": "YfIiwfR71MaH",
        "colab": {
          "base_uri": "https://localhost:8080/"
        },
        "outputId": "e72eaeac-c71d-4da1-a008-59f3f72dbce3"
      },
      "source": [
        "print(texto2[0:12])\n",
        "print('0123456789012'[0:12])\n",
        "\n",
        "# e, \n",
        "# texto2[1] = 'x'\n",
        "# não funciona uma vez que uma string é imutável em Python"
      ],
      "execution_count": null,
      "outputs": [
        {
          "output_type": "stream",
          "text": [
            "Led Zeppelin\n",
            "012345678901\n"
          ],
          "name": "stdout"
        }
      ]
    },
    {
      "cell_type": "markdown",
      "metadata": {
        "id": "LbKjbRuaouVL"
      },
      "source": [
        "### Operações com Strings  \n",
        "\n",
        "As operações com strings são implementadas como métodos da classe `string` e algumas dessas operações encontram-se abaixo."
      ]
    },
    {
      "cell_type": "code",
      "metadata": {
        "scrolled": true,
        "id": "Pugx1dQpouVM",
        "colab": {
          "base_uri": "https://localhost:8080/"
        },
        "outputId": "71ecfb71-a874-4a50-82a5-f9bbdc987108"
      },
      "source": [
        "str1 ='A arte existe porque a vida não basta. – Ferreira Gullar'\n",
        "\n",
        "print(str1.find('arte'))\n",
        "print(str1.lower())\n",
        "str2 = str1.replace('arte','life')\n",
        "print(str2)\n",
        "\n"
      ],
      "execution_count": null,
      "outputs": [
        {
          "output_type": "stream",
          "text": [
            "2\n",
            "a arte existe porque a vida não basta. – ferreira gullar\n",
            "A life existe porque a vida não basta. – Ferreira Gullar\n"
          ],
          "name": "stdout"
        }
      ]
    },
    {
      "cell_type": "markdown",
      "metadata": {
        "id": "_MYS4zjb17uE"
      },
      "source": [
        "Em geral, em cursos básicos de programação, muita atenção é dada para manipulação Strings e obtenção de *slices*, subconjuntos indexados Strings. Essas operações não são tão importantes aqui para o que desenvolveremos em análise de dados e é então suficiente conhercemos as operações acima. "
      ]
    },
    {
      "cell_type": "markdown",
      "metadata": {
        "id": "j3S7qoJTouUb"
      },
      "source": [
        "## Print & Input\n",
        "\n",
        "A operação `input` permite a entrada de dados pelo terminal e mesmo na execução de notebooks `Python`. O `print` exibe a saída de caracteres no terminal e permite o uso de caracteres de controle como `\\n` para salto de linha, `\\t` para *tab* e formatação de números ao estilo de C.\n"
      ]
    },
    {
      "cell_type": "code",
      "metadata": {
        "id": "AajnwWcebwRB",
        "colab": {
          "base_uri": "https://localhost:8080/"
        },
        "outputId": "e3bf50d4-0e09-43a9-84b1-fd42c21b2c63"
      },
      "source": [
        "# Print & Input...\n",
        "\n",
        "# 'input' não suportado para edição de JupyterBooks, comente e tire os comentários conforme indicado para execução no Colab\n",
        "\n",
        "# text = input('Entre com um texto: ')  # Tire o comentário aqui\n",
        "text = 'Texto'                          # Comente aqui\n",
        "\n",
        "print(type(text))\n",
        "\n",
        "# numero = float(input('Entre com um número: '))  # Tire o comentário aqui\n",
        "numero = 2.25                                     # Comente aqui\n",
        "\n",
        "print('Seu texto: ', text, '\\n', 'Seu número: ', '%0.2f'%numero)"
      ],
      "execution_count": null,
      "outputs": [
        {
          "output_type": "stream",
          "text": [
            "Entre com um texto: Texto\n",
            "<class 'str'>\n",
            "Entre com um número: 2.25\n",
            "Seu texto:  Texto \n",
            " Seu número:  2.25\n"
          ],
          "name": "stdout"
        }
      ]
    },
    {
      "cell_type": "markdown",
      "metadata": {
        "id": "ZAvDpRw6N2lT"
      },
      "source": [
        "## Controle de Fluxo nos Programa"
      ]
    },
    {
      "cell_type": "markdown",
      "metadata": {
        "id": "pFNaHFSEtNow"
      },
      "source": [
        "## If-Then-Else \n",
        "\n",
        "Em  `Python` as instruções **aninhadas** são **identadas** (*tab*), o que corresponde ao `{}` de linguagens como Java e C. Assim os comandos *aninhados* à condição ou laço do programa devem estar à direita do comando inicial da condição ou laço.\n",
        "\n",
        "```\n",
        "Condição 1...\n",
        " Comando A...\n",
        " Comando B...\n",
        " Condição 2...\n",
        "   Comando C...\n",
        "\n",
        " Comando D...\n",
        "\n",
        "Comando E \n",
        "```\n",
        "\n",
        "Comando D executa dentro da condição 1, mas fora da condição 2.\n",
        "\n"
      ]
    },
    {
      "cell_type": "code",
      "metadata": {
        "id": "10t2mTyQouWI",
        "colab": {
          "base_uri": "https://localhost:8080/"
        },
        "outputId": "983f18dc-e4ec-425b-ced5-f8314995ca2b"
      },
      "source": [
        "a = 1964\n",
        "b = 1984\n",
        "if b > a:\n",
        "  print(\"b is greater than a\")\n",
        "else:\n",
        "  print(\"a is greater than b\")  \n",
        "\n",
        "if b > a:\n",
        "  print(\"b is greater than a\")\n",
        "elif a == b:\n",
        "  print(\"a and b are equal\")\n",
        "else:\n",
        "  print(\"a is greater than b\")\n"
      ],
      "execution_count": null,
      "outputs": [
        {
          "output_type": "stream",
          "text": [
            "b is greater than a\n",
            "b is greater than a\n"
          ],
          "name": "stdout"
        }
      ]
    },
    {
      "cell_type": "markdown",
      "source": [
        "## ***Tente você***: \n",
        "\n",
        "> *A conversão de graus Celsius para Fehrenheit pode ser obtida por:* \n",
        "\n",
        "$$ C = \\frac{5}{9}(F - 32) $$\n",
        "\n",
        "> *Faça um programa que pergunta ao usuário o tipo de conversão desejada e converte o valor informado.*\n"
      ],
      "metadata": {
        "id": "pKrwCAN5hY0f"
      }
    },
    {
      "cell_type": "markdown",
      "source": [
        "Double-Click **aqui** para ver a solução \n",
        "<!--\n",
        "conv = input('Entre com o tipo de conversão desejada (FC ou CF):')\n",
        "\n",
        "if conv == 'FC':\n",
        "  F = float(input('Entre com a temperatura em F:'))\n",
        "  C = (5/9)*(F - 32)\n",
        "  print(\"%.2f\" %F, \"Fahrenheit =\" , \"%.2f\" %C, \"Celsius\") \n",
        "\n",
        "if conv == 'CF':\n",
        "  C = float(input('Entre com a temperatura em C:'))\n",
        "  F = C*(9/5) + 32\n",
        "  print(\"%.2f\" %C, \"Celsius =\" , \"%.2f\" %F, \"Fahrenheit\") \n",
        "\n",
        "if conv != 'CF' and conv != 'FC':\n",
        "  print('Tipo de conversão precisa ser (FC ou CF)')\n",
        "\n",
        "-->"
      ],
      "metadata": {
        "id": "m87S5jkMkAlm"
      }
    },
    {
      "cell_type": "markdown",
      "source": [
        "## ***Tente você***: \n",
        "\n",
        "> *É aqui que a lógica de programação começa a ficar interessante. É quando passamos a controlar o fluxo de execução de um progama e não somente fazendo execuções sequenciais linha a linha.* \n",
        "\n",
        "> *No código abaixo você recebe entradas para fazer uma única jogada do jogo da velha*\n",
        "\n",
        "> *Altere o código abaixo para também incluir:*\n",
        "\n",
        "> 1. A validação da posição selecionada, exibindo uma mensagem de erro no caso de uma posição inválida\n",
        "\n",
        "> 2. Em seguida altere o mesmo programa para permitir a identificação do jogador. Por exemplo você pode criar uma variável jogador:\n"
      ],
      "metadata": {
        "id": "YW13903xMbJ-"
      }
    },
    {
      "cell_type": "code",
      "source": [
        "!pip install ipythonblocks"
      ],
      "metadata": {
        "id": "LeiuZKG6Lts2",
        "outputId": "9024f072-341a-400f-cd59-d97f5fdd3074",
        "colab": {
          "base_uri": "https://localhost:8080/"
        }
      },
      "execution_count": null,
      "outputs": [
        {
          "output_type": "stream",
          "name": "stdout",
          "text": [
            "Collecting ipythonblocks\n",
            "  Downloading ipythonblocks-1.9.0-py2.py3-none-any.whl (13 kB)\n",
            "Requirement already satisfied: notebook>=4.0 in /usr/local/lib/python3.7/dist-packages (from ipythonblocks) (5.3.1)\n",
            "Requirement already satisfied: requests>=1.0 in /usr/local/lib/python3.7/dist-packages (from ipythonblocks) (2.23.0)\n",
            "Requirement already satisfied: ipython>=4.0 in /usr/local/lib/python3.7/dist-packages (from ipythonblocks) (5.5.0)\n",
            "Requirement already satisfied: prompt-toolkit<2.0.0,>=1.0.4 in /usr/local/lib/python3.7/dist-packages (from ipython>=4.0->ipythonblocks) (1.0.18)\n",
            "Requirement already satisfied: traitlets>=4.2 in /usr/local/lib/python3.7/dist-packages (from ipython>=4.0->ipythonblocks) (5.1.1)\n",
            "Requirement already satisfied: setuptools>=18.5 in /usr/local/lib/python3.7/dist-packages (from ipython>=4.0->ipythonblocks) (57.4.0)\n",
            "Requirement already satisfied: pickleshare in /usr/local/lib/python3.7/dist-packages (from ipython>=4.0->ipythonblocks) (0.7.5)\n",
            "Requirement already satisfied: decorator in /usr/local/lib/python3.7/dist-packages (from ipython>=4.0->ipythonblocks) (4.4.2)\n",
            "Requirement already satisfied: pexpect in /usr/local/lib/python3.7/dist-packages (from ipython>=4.0->ipythonblocks) (4.8.0)\n",
            "Requirement already satisfied: simplegeneric>0.8 in /usr/local/lib/python3.7/dist-packages (from ipython>=4.0->ipythonblocks) (0.8.1)\n",
            "Requirement already satisfied: pygments in /usr/local/lib/python3.7/dist-packages (from ipython>=4.0->ipythonblocks) (2.6.1)\n",
            "Requirement already satisfied: terminado>=0.8.1 in /usr/local/lib/python3.7/dist-packages (from notebook>=4.0->ipythonblocks) (0.12.1)\n",
            "Requirement already satisfied: ipykernel in /usr/local/lib/python3.7/dist-packages (from notebook>=4.0->ipythonblocks) (4.10.1)\n",
            "Requirement already satisfied: Send2Trash in /usr/local/lib/python3.7/dist-packages (from notebook>=4.0->ipythonblocks) (1.8.0)\n",
            "Requirement already satisfied: jupyter-core>=4.4.0 in /usr/local/lib/python3.7/dist-packages (from notebook>=4.0->ipythonblocks) (4.9.1)\n",
            "Requirement already satisfied: ipython-genutils in /usr/local/lib/python3.7/dist-packages (from notebook>=4.0->ipythonblocks) (0.2.0)\n",
            "Requirement already satisfied: nbformat in /usr/local/lib/python3.7/dist-packages (from notebook>=4.0->ipythonblocks) (5.1.3)\n",
            "Requirement already satisfied: jupyter-client>=5.2.0 in /usr/local/lib/python3.7/dist-packages (from notebook>=4.0->ipythonblocks) (5.3.5)\n",
            "Requirement already satisfied: tornado>=4 in /usr/local/lib/python3.7/dist-packages (from notebook>=4.0->ipythonblocks) (5.1.1)\n",
            "Requirement already satisfied: nbconvert in /usr/local/lib/python3.7/dist-packages (from notebook>=4.0->ipythonblocks) (5.6.1)\n",
            "Requirement already satisfied: jinja2 in /usr/local/lib/python3.7/dist-packages (from notebook>=4.0->ipythonblocks) (2.11.3)\n",
            "Requirement already satisfied: python-dateutil>=2.1 in /usr/local/lib/python3.7/dist-packages (from jupyter-client>=5.2.0->notebook>=4.0->ipythonblocks) (2.8.2)\n",
            "Requirement already satisfied: pyzmq>=13 in /usr/local/lib/python3.7/dist-packages (from jupyter-client>=5.2.0->notebook>=4.0->ipythonblocks) (22.3.0)\n",
            "Requirement already satisfied: wcwidth in /usr/local/lib/python3.7/dist-packages (from prompt-toolkit<2.0.0,>=1.0.4->ipython>=4.0->ipythonblocks) (0.2.5)\n",
            "Requirement already satisfied: six>=1.9.0 in /usr/local/lib/python3.7/dist-packages (from prompt-toolkit<2.0.0,>=1.0.4->ipython>=4.0->ipythonblocks) (1.15.0)\n",
            "Requirement already satisfied: urllib3!=1.25.0,!=1.25.1,<1.26,>=1.21.1 in /usr/local/lib/python3.7/dist-packages (from requests>=1.0->ipythonblocks) (1.24.3)\n",
            "Requirement already satisfied: idna<3,>=2.5 in /usr/local/lib/python3.7/dist-packages (from requests>=1.0->ipythonblocks) (2.10)\n",
            "Requirement already satisfied: certifi>=2017.4.17 in /usr/local/lib/python3.7/dist-packages (from requests>=1.0->ipythonblocks) (2021.10.8)\n",
            "Requirement already satisfied: chardet<4,>=3.0.2 in /usr/local/lib/python3.7/dist-packages (from requests>=1.0->ipythonblocks) (3.0.4)\n",
            "Requirement already satisfied: ptyprocess in /usr/local/lib/python3.7/dist-packages (from terminado>=0.8.1->notebook>=4.0->ipythonblocks) (0.7.0)\n",
            "Requirement already satisfied: MarkupSafe>=0.23 in /usr/local/lib/python3.7/dist-packages (from jinja2->notebook>=4.0->ipythonblocks) (2.0.1)\n",
            "Requirement already satisfied: bleach in /usr/local/lib/python3.7/dist-packages (from nbconvert->notebook>=4.0->ipythonblocks) (4.1.0)\n",
            "Requirement already satisfied: entrypoints>=0.2.2 in /usr/local/lib/python3.7/dist-packages (from nbconvert->notebook>=4.0->ipythonblocks) (0.3)\n",
            "Requirement already satisfied: testpath in /usr/local/lib/python3.7/dist-packages (from nbconvert->notebook>=4.0->ipythonblocks) (0.5.0)\n",
            "Requirement already satisfied: pandocfilters>=1.4.1 in /usr/local/lib/python3.7/dist-packages (from nbconvert->notebook>=4.0->ipythonblocks) (1.5.0)\n",
            "Requirement already satisfied: mistune<2,>=0.8.1 in /usr/local/lib/python3.7/dist-packages (from nbconvert->notebook>=4.0->ipythonblocks) (0.8.4)\n",
            "Requirement already satisfied: defusedxml in /usr/local/lib/python3.7/dist-packages (from nbconvert->notebook>=4.0->ipythonblocks) (0.7.1)\n",
            "Requirement already satisfied: jsonschema!=2.5.0,>=2.4 in /usr/local/lib/python3.7/dist-packages (from nbformat->notebook>=4.0->ipythonblocks) (4.3.3)\n",
            "Requirement already satisfied: importlib-resources>=1.4.0 in /usr/local/lib/python3.7/dist-packages (from jsonschema!=2.5.0,>=2.4->nbformat->notebook>=4.0->ipythonblocks) (5.4.0)\n",
            "Requirement already satisfied: attrs>=17.4.0 in /usr/local/lib/python3.7/dist-packages (from jsonschema!=2.5.0,>=2.4->nbformat->notebook>=4.0->ipythonblocks) (21.4.0)\n",
            "Requirement already satisfied: importlib-metadata in /usr/local/lib/python3.7/dist-packages (from jsonschema!=2.5.0,>=2.4->nbformat->notebook>=4.0->ipythonblocks) (4.10.1)\n",
            "Requirement already satisfied: pyrsistent!=0.17.0,!=0.17.1,!=0.17.2,>=0.14.0 in /usr/local/lib/python3.7/dist-packages (from jsonschema!=2.5.0,>=2.4->nbformat->notebook>=4.0->ipythonblocks) (0.18.1)\n",
            "Requirement already satisfied: typing-extensions in /usr/local/lib/python3.7/dist-packages (from jsonschema!=2.5.0,>=2.4->nbformat->notebook>=4.0->ipythonblocks) (3.10.0.2)\n",
            "Requirement already satisfied: zipp>=3.1.0 in /usr/local/lib/python3.7/dist-packages (from importlib-resources>=1.4.0->jsonschema!=2.5.0,>=2.4->nbformat->notebook>=4.0->ipythonblocks) (3.7.0)\n",
            "Requirement already satisfied: webencodings in /usr/local/lib/python3.7/dist-packages (from bleach->nbconvert->notebook>=4.0->ipythonblocks) (0.5.1)\n",
            "Requirement already satisfied: packaging in /usr/local/lib/python3.7/dist-packages (from bleach->nbconvert->notebook>=4.0->ipythonblocks) (21.3)\n",
            "Requirement already satisfied: pyparsing!=3.0.5,>=2.0.2 in /usr/local/lib/python3.7/dist-packages (from packaging->bleach->nbconvert->notebook>=4.0->ipythonblocks) (3.0.7)\n",
            "Installing collected packages: ipythonblocks\n",
            "Successfully installed ipythonblocks-1.9.0\n"
          ]
        }
      ]
    },
    {
      "cell_type": "code",
      "execution_count": null,
      "metadata": {
        "id": "YpKEcvGa3FWm"
      },
      "outputs": [],
      "source": [
        "from ipythonblocks import BlockGrid, colors\n"
      ]
    },
    {
      "cell_type": "code",
      "source": [
        "jogo = BlockGrid(3, 3, fill = colors.RosyBrown)\n",
        "\n",
        "linha = int(input('Entre com a linha da jogada:'))\n",
        "coluna = int(input('Entre com a coluna da jogada:'))\n",
        "\n",
        "jogo[linha,coluna] = colors.Blue\n",
        "\n",
        "jogo.show()"
      ],
      "metadata": {
        "colab": {
          "base_uri": "https://localhost:8080/",
          "height": 126
        },
        "id": "jmjBFFZ-3wUU",
        "outputId": "4bd8de81-cbe2-478c-d28f-e13eed3f466f"
      },
      "execution_count": null,
      "outputs": [
        {
          "name": "stdout",
          "output_type": "stream",
          "text": [
            "Entre com a linha da jogada:0\n",
            "Entre com a coluna da jogada:1\n"
          ]
        },
        {
          "output_type": "display_data",
          "data": {
            "text/html": [
              "<style type=\"text/css\">table.blockgrid {border: none;} .blockgrid tr {border: none;} .blockgrid td {padding: 0px;} #blocks63db8eff-789a-49ab-9e67-a4bfdcc814a0 td {border: 1px solid white;}</style><table id=\"blocks63db8eff-789a-49ab-9e67-a4bfdcc814a0\" class=\"blockgrid\"><tbody><tr><td title=\"Index: [0, 0]&#10;Color: (188, 143, 143)\" style=\"width: 20px; height: 20px;background-color: rgb(188, 143, 143);\"></td><td title=\"Index: [0, 1]&#10;Color: (0, 0, 255)\" style=\"width: 20px; height: 20px;background-color: rgb(0, 0, 255);\"></td><td title=\"Index: [0, 2]&#10;Color: (188, 143, 143)\" style=\"width: 20px; height: 20px;background-color: rgb(188, 143, 143);\"></td></tr><tr><td title=\"Index: [1, 0]&#10;Color: (188, 143, 143)\" style=\"width: 20px; height: 20px;background-color: rgb(188, 143, 143);\"></td><td title=\"Index: [1, 1]&#10;Color: (188, 143, 143)\" style=\"width: 20px; height: 20px;background-color: rgb(188, 143, 143);\"></td><td title=\"Index: [1, 2]&#10;Color: (188, 143, 143)\" style=\"width: 20px; height: 20px;background-color: rgb(188, 143, 143);\"></td></tr><tr><td title=\"Index: [2, 0]&#10;Color: (188, 143, 143)\" style=\"width: 20px; height: 20px;background-color: rgb(188, 143, 143);\"></td><td title=\"Index: [2, 1]&#10;Color: (188, 143, 143)\" style=\"width: 20px; height: 20px;background-color: rgb(188, 143, 143);\"></td><td title=\"Index: [2, 2]&#10;Color: (188, 143, 143)\" style=\"width: 20px; height: 20px;background-color: rgb(188, 143, 143);\"></td></tr></tbody></table>"
            ],
            "text/plain": [
              "<IPython.core.display.HTML object>"
            ]
          },
          "metadata": {}
        }
      ]
    },
    {
      "cell_type": "markdown",
      "source": [
        "Double-Click **aqui** para ver a solução \n",
        "<!--\n",
        "jogo = BlockGrid(3, 3, fill = colors.RosyBrown)\n",
        "\n",
        "jogador = input('Entre com o jogador (Blue|Green):') \n",
        "linha = int(input('Entre com a linha da jogada:'))\n",
        "coluna = int(input('Entre com a coluna da jogada:'))\n",
        "\n",
        "if jogador != 'Blue' and jogador != 'Green':\n",
        "  print('Jogador precisa ser (Blue|Green)')\n",
        "else:\n",
        "  if (linha >= 0) and (linha <= 2) and (coluna >= 0) and (coluna <= 2): \n",
        "    if jogador == 'Blue':\n",
        "      jogo[linha,coluna] = colors.Blue\n",
        "    else:\n",
        "      jogo[linha,coluna] = colors.Green\n",
        "  else: \n",
        "    print('Linha e coluna precisam estar entre [0,2]')\n",
        "    \n",
        "jogo.show()\n",
        "-->"
      ],
      "metadata": {
        "id": "mlDK5BzzRv61"
      }
    },
    {
      "cell_type": "markdown",
      "metadata": {
        "id": "fDIvl1BCouWM"
      },
      "source": [
        "## For & While \n",
        "\n",
        "Em geral, neste livro vamos dar preferência ao uso do `for` para criar laços de programa. O comando `range(inicio, fim, incremento)` pode ser empregado para definir os limites e o incremento de uma variável em um laço do tipo `for`, mas lembre que o limite indicado, do mesmo modo que a indexação  de uma string, é um limite superior ($<$ e não $\\le$) que nunca é atingido.\n"
      ]
    },
    {
      "cell_type": "markdown",
      "source": [
        "## ***Discussão***: Modo sequencial $\\times$ loops\n",
        "\n",
        "> *Os loops criarmos operações que são repetidas muitas vezes sem a necessidade e de modo genérico, mesmo quando não sabemos antecipadamente quantas vezes iremos executar...*"
      ],
      "metadata": {
        "id": "6E9HBja3SoCe"
      }
    },
    {
      "cell_type": "code",
      "source": [
        "jogo = BlockGrid(3, 3, fill = colors.RosyBrown)\n",
        "\n",
        "jogo[0,0] = colors.Green\n",
        "jogo[1,1] = colors.Green\n",
        "jogo[2,2] = colors.Green\n",
        "\n",
        "jogo.show()"
      ],
      "metadata": {
        "id": "aEqZoCcgSOqn",
        "outputId": "12e879b5-1df7-4892-f848-26802a530311",
        "colab": {
          "base_uri": "https://localhost:8080/",
          "height": 91
        }
      },
      "execution_count": null,
      "outputs": [
        {
          "output_type": "display_data",
          "data": {
            "text/html": [
              "<style type=\"text/css\">table.blockgrid {border: none;} .blockgrid tr {border: none;} .blockgrid td {padding: 0px;} #blocks252a6a73-5eec-4a36-a426-73163fc795ae td {border: 1px solid white;}</style><table id=\"blocks252a6a73-5eec-4a36-a426-73163fc795ae\" class=\"blockgrid\"><tbody><tr><td title=\"Index: [0, 0]&#10;Color: (0, 128, 0)\" style=\"width: 20px; height: 20px;background-color: rgb(0, 128, 0);\"></td><td title=\"Index: [0, 1]&#10;Color: (188, 143, 143)\" style=\"width: 20px; height: 20px;background-color: rgb(188, 143, 143);\"></td><td title=\"Index: [0, 2]&#10;Color: (188, 143, 143)\" style=\"width: 20px; height: 20px;background-color: rgb(188, 143, 143);\"></td></tr><tr><td title=\"Index: [1, 0]&#10;Color: (188, 143, 143)\" style=\"width: 20px; height: 20px;background-color: rgb(188, 143, 143);\"></td><td title=\"Index: [1, 1]&#10;Color: (0, 128, 0)\" style=\"width: 20px; height: 20px;background-color: rgb(0, 128, 0);\"></td><td title=\"Index: [1, 2]&#10;Color: (188, 143, 143)\" style=\"width: 20px; height: 20px;background-color: rgb(188, 143, 143);\"></td></tr><tr><td title=\"Index: [2, 0]&#10;Color: (188, 143, 143)\" style=\"width: 20px; height: 20px;background-color: rgb(188, 143, 143);\"></td><td title=\"Index: [2, 1]&#10;Color: (188, 143, 143)\" style=\"width: 20px; height: 20px;background-color: rgb(188, 143, 143);\"></td><td title=\"Index: [2, 2]&#10;Color: (0, 128, 0)\" style=\"width: 20px; height: 20px;background-color: rgb(0, 128, 0);\"></td></tr></tbody></table>"
            ],
            "text/plain": [
              "<IPython.core.display.HTML object>"
            ]
          },
          "metadata": {}
        }
      ]
    },
    {
      "cell_type": "code",
      "source": [
        "jogo = BlockGrid(5, 5, fill = colors.RosyBrown)\n",
        "\n",
        "jogo[0,0] = colors.Green\n",
        "jogo[1,1] = colors.Green\n",
        "jogo[2,2] = colors.Green\n",
        "jogo[3,3] = colors.Green\n",
        "jogo[4,4] = colors.Green\n",
        "\n",
        "jogo.show()"
      ],
      "metadata": {
        "id": "rozHCtivTtWm",
        "outputId": "567f3a78-1302-4724-dd1a-6786808bc548",
        "colab": {
          "base_uri": "https://localhost:8080/",
          "height": 139
        }
      },
      "execution_count": null,
      "outputs": [
        {
          "output_type": "display_data",
          "data": {
            "text/html": [
              "<style type=\"text/css\">table.blockgrid {border: none;} .blockgrid tr {border: none;} .blockgrid td {padding: 0px;} #blocksbdae79e4-8db2-4d80-8619-75cf557ecd51 td {border: 1px solid white;}</style><table id=\"blocksbdae79e4-8db2-4d80-8619-75cf557ecd51\" class=\"blockgrid\"><tbody><tr><td title=\"Index: [0, 0]&#10;Color: (0, 128, 0)\" style=\"width: 20px; height: 20px;background-color: rgb(0, 128, 0);\"></td><td title=\"Index: [0, 1]&#10;Color: (188, 143, 143)\" style=\"width: 20px; height: 20px;background-color: rgb(188, 143, 143);\"></td><td title=\"Index: [0, 2]&#10;Color: (188, 143, 143)\" style=\"width: 20px; height: 20px;background-color: rgb(188, 143, 143);\"></td><td title=\"Index: [0, 3]&#10;Color: (188, 143, 143)\" style=\"width: 20px; height: 20px;background-color: rgb(188, 143, 143);\"></td><td title=\"Index: [0, 4]&#10;Color: (188, 143, 143)\" style=\"width: 20px; height: 20px;background-color: rgb(188, 143, 143);\"></td></tr><tr><td title=\"Index: [1, 0]&#10;Color: (188, 143, 143)\" style=\"width: 20px; height: 20px;background-color: rgb(188, 143, 143);\"></td><td title=\"Index: [1, 1]&#10;Color: (0, 128, 0)\" style=\"width: 20px; height: 20px;background-color: rgb(0, 128, 0);\"></td><td title=\"Index: [1, 2]&#10;Color: (188, 143, 143)\" style=\"width: 20px; height: 20px;background-color: rgb(188, 143, 143);\"></td><td title=\"Index: [1, 3]&#10;Color: (188, 143, 143)\" style=\"width: 20px; height: 20px;background-color: rgb(188, 143, 143);\"></td><td title=\"Index: [1, 4]&#10;Color: (188, 143, 143)\" style=\"width: 20px; height: 20px;background-color: rgb(188, 143, 143);\"></td></tr><tr><td title=\"Index: [2, 0]&#10;Color: (188, 143, 143)\" style=\"width: 20px; height: 20px;background-color: rgb(188, 143, 143);\"></td><td title=\"Index: [2, 1]&#10;Color: (188, 143, 143)\" style=\"width: 20px; height: 20px;background-color: rgb(188, 143, 143);\"></td><td title=\"Index: [2, 2]&#10;Color: (0, 128, 0)\" style=\"width: 20px; height: 20px;background-color: rgb(0, 128, 0);\"></td><td title=\"Index: [2, 3]&#10;Color: (188, 143, 143)\" style=\"width: 20px; height: 20px;background-color: rgb(188, 143, 143);\"></td><td title=\"Index: [2, 4]&#10;Color: (188, 143, 143)\" style=\"width: 20px; height: 20px;background-color: rgb(188, 143, 143);\"></td></tr><tr><td title=\"Index: [3, 0]&#10;Color: (188, 143, 143)\" style=\"width: 20px; height: 20px;background-color: rgb(188, 143, 143);\"></td><td title=\"Index: [3, 1]&#10;Color: (188, 143, 143)\" style=\"width: 20px; height: 20px;background-color: rgb(188, 143, 143);\"></td><td title=\"Index: [3, 2]&#10;Color: (188, 143, 143)\" style=\"width: 20px; height: 20px;background-color: rgb(188, 143, 143);\"></td><td title=\"Index: [3, 3]&#10;Color: (0, 128, 0)\" style=\"width: 20px; height: 20px;background-color: rgb(0, 128, 0);\"></td><td title=\"Index: [3, 4]&#10;Color: (188, 143, 143)\" style=\"width: 20px; height: 20px;background-color: rgb(188, 143, 143);\"></td></tr><tr><td title=\"Index: [4, 0]&#10;Color: (188, 143, 143)\" style=\"width: 20px; height: 20px;background-color: rgb(188, 143, 143);\"></td><td title=\"Index: [4, 1]&#10;Color: (188, 143, 143)\" style=\"width: 20px; height: 20px;background-color: rgb(188, 143, 143);\"></td><td title=\"Index: [4, 2]&#10;Color: (188, 143, 143)\" style=\"width: 20px; height: 20px;background-color: rgb(188, 143, 143);\"></td><td title=\"Index: [4, 3]&#10;Color: (188, 143, 143)\" style=\"width: 20px; height: 20px;background-color: rgb(188, 143, 143);\"></td><td title=\"Index: [4, 4]&#10;Color: (0, 128, 0)\" style=\"width: 20px; height: 20px;background-color: rgb(0, 128, 0);\"></td></tr></tbody></table>"
            ],
            "text/plain": [
              "<IPython.core.display.HTML object>"
            ]
          },
          "metadata": {}
        }
      ]
    },
    {
      "cell_type": "code",
      "source": [
        "jogo = BlockGrid(15, 15, fill = colors.RosyBrown)\n",
        "\n",
        "jogo[0,0] = colors.Green\n",
        "jogo[1,1] = colors.Green\n",
        "# ...\n",
        "jogo[14,14] = colors.Green\n",
        "\n",
        "jogo.show()"
      ],
      "metadata": {
        "id": "796xHFS9T5Zl",
        "outputId": "103f06be-946b-4ff4-a52d-a16b5e75d744",
        "colab": {
          "base_uri": "https://localhost:8080/",
          "height": 379
        }
      },
      "execution_count": null,
      "outputs": [
        {
          "output_type": "display_data",
          "data": {
            "text/html": [
              "<style type=\"text/css\">table.blockgrid {border: none;} .blockgrid tr {border: none;} .blockgrid td {padding: 0px;} #blocks8db1ac6f-e413-4abe-92ae-f62d6c6571ad td {border: 1px solid white;}</style><table id=\"blocks8db1ac6f-e413-4abe-92ae-f62d6c6571ad\" class=\"blockgrid\"><tbody><tr><td title=\"Index: [0, 0]&#10;Color: (0, 128, 0)\" style=\"width: 20px; height: 20px;background-color: rgb(0, 128, 0);\"></td><td title=\"Index: [0, 1]&#10;Color: (188, 143, 143)\" style=\"width: 20px; height: 20px;background-color: rgb(188, 143, 143);\"></td><td title=\"Index: [0, 2]&#10;Color: (188, 143, 143)\" style=\"width: 20px; height: 20px;background-color: rgb(188, 143, 143);\"></td><td title=\"Index: [0, 3]&#10;Color: (188, 143, 143)\" style=\"width: 20px; height: 20px;background-color: rgb(188, 143, 143);\"></td><td title=\"Index: [0, 4]&#10;Color: (188, 143, 143)\" style=\"width: 20px; height: 20px;background-color: rgb(188, 143, 143);\"></td><td title=\"Index: [0, 5]&#10;Color: (188, 143, 143)\" style=\"width: 20px; height: 20px;background-color: rgb(188, 143, 143);\"></td><td title=\"Index: [0, 6]&#10;Color: (188, 143, 143)\" style=\"width: 20px; height: 20px;background-color: rgb(188, 143, 143);\"></td><td title=\"Index: [0, 7]&#10;Color: (188, 143, 143)\" style=\"width: 20px; height: 20px;background-color: rgb(188, 143, 143);\"></td><td title=\"Index: [0, 8]&#10;Color: (188, 143, 143)\" style=\"width: 20px; height: 20px;background-color: rgb(188, 143, 143);\"></td><td title=\"Index: [0, 9]&#10;Color: (188, 143, 143)\" style=\"width: 20px; height: 20px;background-color: rgb(188, 143, 143);\"></td><td title=\"Index: [0, 10]&#10;Color: (188, 143, 143)\" style=\"width: 20px; height: 20px;background-color: rgb(188, 143, 143);\"></td><td title=\"Index: [0, 11]&#10;Color: (188, 143, 143)\" style=\"width: 20px; height: 20px;background-color: rgb(188, 143, 143);\"></td><td title=\"Index: [0, 12]&#10;Color: (188, 143, 143)\" style=\"width: 20px; height: 20px;background-color: rgb(188, 143, 143);\"></td><td title=\"Index: [0, 13]&#10;Color: (188, 143, 143)\" style=\"width: 20px; height: 20px;background-color: rgb(188, 143, 143);\"></td><td title=\"Index: [0, 14]&#10;Color: (188, 143, 143)\" style=\"width: 20px; height: 20px;background-color: rgb(188, 143, 143);\"></td></tr><tr><td title=\"Index: [1, 0]&#10;Color: (188, 143, 143)\" style=\"width: 20px; height: 20px;background-color: rgb(188, 143, 143);\"></td><td title=\"Index: [1, 1]&#10;Color: (0, 128, 0)\" style=\"width: 20px; height: 20px;background-color: rgb(0, 128, 0);\"></td><td title=\"Index: [1, 2]&#10;Color: (188, 143, 143)\" style=\"width: 20px; height: 20px;background-color: rgb(188, 143, 143);\"></td><td title=\"Index: [1, 3]&#10;Color: (188, 143, 143)\" style=\"width: 20px; height: 20px;background-color: rgb(188, 143, 143);\"></td><td title=\"Index: [1, 4]&#10;Color: (188, 143, 143)\" style=\"width: 20px; height: 20px;background-color: rgb(188, 143, 143);\"></td><td title=\"Index: [1, 5]&#10;Color: (188, 143, 143)\" style=\"width: 20px; height: 20px;background-color: rgb(188, 143, 143);\"></td><td title=\"Index: [1, 6]&#10;Color: (188, 143, 143)\" style=\"width: 20px; height: 20px;background-color: rgb(188, 143, 143);\"></td><td title=\"Index: [1, 7]&#10;Color: (188, 143, 143)\" style=\"width: 20px; height: 20px;background-color: rgb(188, 143, 143);\"></td><td title=\"Index: [1, 8]&#10;Color: (188, 143, 143)\" style=\"width: 20px; height: 20px;background-color: rgb(188, 143, 143);\"></td><td title=\"Index: [1, 9]&#10;Color: (188, 143, 143)\" style=\"width: 20px; height: 20px;background-color: rgb(188, 143, 143);\"></td><td title=\"Index: [1, 10]&#10;Color: (188, 143, 143)\" style=\"width: 20px; height: 20px;background-color: rgb(188, 143, 143);\"></td><td title=\"Index: [1, 11]&#10;Color: (188, 143, 143)\" style=\"width: 20px; height: 20px;background-color: rgb(188, 143, 143);\"></td><td title=\"Index: [1, 12]&#10;Color: (188, 143, 143)\" style=\"width: 20px; height: 20px;background-color: rgb(188, 143, 143);\"></td><td title=\"Index: [1, 13]&#10;Color: (188, 143, 143)\" style=\"width: 20px; height: 20px;background-color: rgb(188, 143, 143);\"></td><td title=\"Index: [1, 14]&#10;Color: (188, 143, 143)\" style=\"width: 20px; height: 20px;background-color: rgb(188, 143, 143);\"></td></tr><tr><td title=\"Index: [2, 0]&#10;Color: (188, 143, 143)\" style=\"width: 20px; height: 20px;background-color: rgb(188, 143, 143);\"></td><td title=\"Index: [2, 1]&#10;Color: (188, 143, 143)\" style=\"width: 20px; height: 20px;background-color: rgb(188, 143, 143);\"></td><td title=\"Index: [2, 2]&#10;Color: (188, 143, 143)\" style=\"width: 20px; height: 20px;background-color: rgb(188, 143, 143);\"></td><td title=\"Index: [2, 3]&#10;Color: (188, 143, 143)\" style=\"width: 20px; height: 20px;background-color: rgb(188, 143, 143);\"></td><td title=\"Index: [2, 4]&#10;Color: (188, 143, 143)\" style=\"width: 20px; height: 20px;background-color: rgb(188, 143, 143);\"></td><td title=\"Index: [2, 5]&#10;Color: (188, 143, 143)\" style=\"width: 20px; height: 20px;background-color: rgb(188, 143, 143);\"></td><td title=\"Index: [2, 6]&#10;Color: (188, 143, 143)\" style=\"width: 20px; height: 20px;background-color: rgb(188, 143, 143);\"></td><td title=\"Index: [2, 7]&#10;Color: (188, 143, 143)\" style=\"width: 20px; height: 20px;background-color: rgb(188, 143, 143);\"></td><td title=\"Index: [2, 8]&#10;Color: (188, 143, 143)\" style=\"width: 20px; height: 20px;background-color: rgb(188, 143, 143);\"></td><td title=\"Index: [2, 9]&#10;Color: (188, 143, 143)\" style=\"width: 20px; height: 20px;background-color: rgb(188, 143, 143);\"></td><td title=\"Index: [2, 10]&#10;Color: (188, 143, 143)\" style=\"width: 20px; height: 20px;background-color: rgb(188, 143, 143);\"></td><td title=\"Index: [2, 11]&#10;Color: (188, 143, 143)\" style=\"width: 20px; height: 20px;background-color: rgb(188, 143, 143);\"></td><td title=\"Index: [2, 12]&#10;Color: (188, 143, 143)\" style=\"width: 20px; height: 20px;background-color: rgb(188, 143, 143);\"></td><td title=\"Index: [2, 13]&#10;Color: (188, 143, 143)\" style=\"width: 20px; height: 20px;background-color: rgb(188, 143, 143);\"></td><td title=\"Index: [2, 14]&#10;Color: (188, 143, 143)\" style=\"width: 20px; height: 20px;background-color: rgb(188, 143, 143);\"></td></tr><tr><td title=\"Index: [3, 0]&#10;Color: (188, 143, 143)\" style=\"width: 20px; height: 20px;background-color: rgb(188, 143, 143);\"></td><td title=\"Index: [3, 1]&#10;Color: (188, 143, 143)\" style=\"width: 20px; height: 20px;background-color: rgb(188, 143, 143);\"></td><td title=\"Index: [3, 2]&#10;Color: (188, 143, 143)\" style=\"width: 20px; height: 20px;background-color: rgb(188, 143, 143);\"></td><td title=\"Index: [3, 3]&#10;Color: (188, 143, 143)\" style=\"width: 20px; height: 20px;background-color: rgb(188, 143, 143);\"></td><td title=\"Index: [3, 4]&#10;Color: (188, 143, 143)\" style=\"width: 20px; height: 20px;background-color: rgb(188, 143, 143);\"></td><td title=\"Index: [3, 5]&#10;Color: (188, 143, 143)\" style=\"width: 20px; height: 20px;background-color: rgb(188, 143, 143);\"></td><td title=\"Index: [3, 6]&#10;Color: (188, 143, 143)\" style=\"width: 20px; height: 20px;background-color: rgb(188, 143, 143);\"></td><td title=\"Index: [3, 7]&#10;Color: (188, 143, 143)\" style=\"width: 20px; height: 20px;background-color: rgb(188, 143, 143);\"></td><td title=\"Index: [3, 8]&#10;Color: (188, 143, 143)\" style=\"width: 20px; height: 20px;background-color: rgb(188, 143, 143);\"></td><td title=\"Index: [3, 9]&#10;Color: (188, 143, 143)\" style=\"width: 20px; height: 20px;background-color: rgb(188, 143, 143);\"></td><td title=\"Index: [3, 10]&#10;Color: (188, 143, 143)\" style=\"width: 20px; height: 20px;background-color: rgb(188, 143, 143);\"></td><td title=\"Index: [3, 11]&#10;Color: (188, 143, 143)\" style=\"width: 20px; height: 20px;background-color: rgb(188, 143, 143);\"></td><td title=\"Index: [3, 12]&#10;Color: (188, 143, 143)\" style=\"width: 20px; height: 20px;background-color: rgb(188, 143, 143);\"></td><td title=\"Index: [3, 13]&#10;Color: (188, 143, 143)\" style=\"width: 20px; height: 20px;background-color: rgb(188, 143, 143);\"></td><td title=\"Index: [3, 14]&#10;Color: (188, 143, 143)\" style=\"width: 20px; height: 20px;background-color: rgb(188, 143, 143);\"></td></tr><tr><td title=\"Index: [4, 0]&#10;Color: (188, 143, 143)\" style=\"width: 20px; height: 20px;background-color: rgb(188, 143, 143);\"></td><td title=\"Index: [4, 1]&#10;Color: (188, 143, 143)\" style=\"width: 20px; height: 20px;background-color: rgb(188, 143, 143);\"></td><td title=\"Index: [4, 2]&#10;Color: (188, 143, 143)\" style=\"width: 20px; height: 20px;background-color: rgb(188, 143, 143);\"></td><td title=\"Index: [4, 3]&#10;Color: (188, 143, 143)\" style=\"width: 20px; height: 20px;background-color: rgb(188, 143, 143);\"></td><td title=\"Index: [4, 4]&#10;Color: (188, 143, 143)\" style=\"width: 20px; height: 20px;background-color: rgb(188, 143, 143);\"></td><td title=\"Index: [4, 5]&#10;Color: (188, 143, 143)\" style=\"width: 20px; height: 20px;background-color: rgb(188, 143, 143);\"></td><td title=\"Index: [4, 6]&#10;Color: (188, 143, 143)\" style=\"width: 20px; height: 20px;background-color: rgb(188, 143, 143);\"></td><td title=\"Index: [4, 7]&#10;Color: (188, 143, 143)\" style=\"width: 20px; height: 20px;background-color: rgb(188, 143, 143);\"></td><td title=\"Index: [4, 8]&#10;Color: (188, 143, 143)\" style=\"width: 20px; height: 20px;background-color: rgb(188, 143, 143);\"></td><td title=\"Index: [4, 9]&#10;Color: (188, 143, 143)\" style=\"width: 20px; height: 20px;background-color: rgb(188, 143, 143);\"></td><td title=\"Index: [4, 10]&#10;Color: (188, 143, 143)\" style=\"width: 20px; height: 20px;background-color: rgb(188, 143, 143);\"></td><td title=\"Index: [4, 11]&#10;Color: (188, 143, 143)\" style=\"width: 20px; height: 20px;background-color: rgb(188, 143, 143);\"></td><td title=\"Index: [4, 12]&#10;Color: (188, 143, 143)\" style=\"width: 20px; height: 20px;background-color: rgb(188, 143, 143);\"></td><td title=\"Index: [4, 13]&#10;Color: (188, 143, 143)\" style=\"width: 20px; height: 20px;background-color: rgb(188, 143, 143);\"></td><td title=\"Index: [4, 14]&#10;Color: (188, 143, 143)\" style=\"width: 20px; height: 20px;background-color: rgb(188, 143, 143);\"></td></tr><tr><td title=\"Index: [5, 0]&#10;Color: (188, 143, 143)\" style=\"width: 20px; height: 20px;background-color: rgb(188, 143, 143);\"></td><td title=\"Index: [5, 1]&#10;Color: (188, 143, 143)\" style=\"width: 20px; height: 20px;background-color: rgb(188, 143, 143);\"></td><td title=\"Index: [5, 2]&#10;Color: (188, 143, 143)\" style=\"width: 20px; height: 20px;background-color: rgb(188, 143, 143);\"></td><td title=\"Index: [5, 3]&#10;Color: (188, 143, 143)\" style=\"width: 20px; height: 20px;background-color: rgb(188, 143, 143);\"></td><td title=\"Index: [5, 4]&#10;Color: (188, 143, 143)\" style=\"width: 20px; height: 20px;background-color: rgb(188, 143, 143);\"></td><td title=\"Index: [5, 5]&#10;Color: (188, 143, 143)\" style=\"width: 20px; height: 20px;background-color: rgb(188, 143, 143);\"></td><td title=\"Index: [5, 6]&#10;Color: (188, 143, 143)\" style=\"width: 20px; height: 20px;background-color: rgb(188, 143, 143);\"></td><td title=\"Index: [5, 7]&#10;Color: (188, 143, 143)\" style=\"width: 20px; height: 20px;background-color: rgb(188, 143, 143);\"></td><td title=\"Index: [5, 8]&#10;Color: (188, 143, 143)\" style=\"width: 20px; height: 20px;background-color: rgb(188, 143, 143);\"></td><td title=\"Index: [5, 9]&#10;Color: (188, 143, 143)\" style=\"width: 20px; height: 20px;background-color: rgb(188, 143, 143);\"></td><td title=\"Index: [5, 10]&#10;Color: (188, 143, 143)\" style=\"width: 20px; height: 20px;background-color: rgb(188, 143, 143);\"></td><td title=\"Index: [5, 11]&#10;Color: (188, 143, 143)\" style=\"width: 20px; height: 20px;background-color: rgb(188, 143, 143);\"></td><td title=\"Index: [5, 12]&#10;Color: (188, 143, 143)\" style=\"width: 20px; height: 20px;background-color: rgb(188, 143, 143);\"></td><td title=\"Index: [5, 13]&#10;Color: (188, 143, 143)\" style=\"width: 20px; height: 20px;background-color: rgb(188, 143, 143);\"></td><td title=\"Index: [5, 14]&#10;Color: (188, 143, 143)\" style=\"width: 20px; height: 20px;background-color: rgb(188, 143, 143);\"></td></tr><tr><td title=\"Index: [6, 0]&#10;Color: (188, 143, 143)\" style=\"width: 20px; height: 20px;background-color: rgb(188, 143, 143);\"></td><td title=\"Index: [6, 1]&#10;Color: (188, 143, 143)\" style=\"width: 20px; height: 20px;background-color: rgb(188, 143, 143);\"></td><td title=\"Index: [6, 2]&#10;Color: (188, 143, 143)\" style=\"width: 20px; height: 20px;background-color: rgb(188, 143, 143);\"></td><td title=\"Index: [6, 3]&#10;Color: (188, 143, 143)\" style=\"width: 20px; height: 20px;background-color: rgb(188, 143, 143);\"></td><td title=\"Index: [6, 4]&#10;Color: (188, 143, 143)\" style=\"width: 20px; height: 20px;background-color: rgb(188, 143, 143);\"></td><td title=\"Index: [6, 5]&#10;Color: (188, 143, 143)\" style=\"width: 20px; height: 20px;background-color: rgb(188, 143, 143);\"></td><td title=\"Index: [6, 6]&#10;Color: (188, 143, 143)\" style=\"width: 20px; height: 20px;background-color: rgb(188, 143, 143);\"></td><td title=\"Index: [6, 7]&#10;Color: (188, 143, 143)\" style=\"width: 20px; height: 20px;background-color: rgb(188, 143, 143);\"></td><td title=\"Index: [6, 8]&#10;Color: (188, 143, 143)\" style=\"width: 20px; height: 20px;background-color: rgb(188, 143, 143);\"></td><td title=\"Index: [6, 9]&#10;Color: (188, 143, 143)\" style=\"width: 20px; height: 20px;background-color: rgb(188, 143, 143);\"></td><td title=\"Index: [6, 10]&#10;Color: (188, 143, 143)\" style=\"width: 20px; height: 20px;background-color: rgb(188, 143, 143);\"></td><td title=\"Index: [6, 11]&#10;Color: (188, 143, 143)\" style=\"width: 20px; height: 20px;background-color: rgb(188, 143, 143);\"></td><td title=\"Index: [6, 12]&#10;Color: (188, 143, 143)\" style=\"width: 20px; height: 20px;background-color: rgb(188, 143, 143);\"></td><td title=\"Index: [6, 13]&#10;Color: (188, 143, 143)\" style=\"width: 20px; height: 20px;background-color: rgb(188, 143, 143);\"></td><td title=\"Index: [6, 14]&#10;Color: (188, 143, 143)\" style=\"width: 20px; height: 20px;background-color: rgb(188, 143, 143);\"></td></tr><tr><td title=\"Index: [7, 0]&#10;Color: (188, 143, 143)\" style=\"width: 20px; height: 20px;background-color: rgb(188, 143, 143);\"></td><td title=\"Index: [7, 1]&#10;Color: (188, 143, 143)\" style=\"width: 20px; height: 20px;background-color: rgb(188, 143, 143);\"></td><td title=\"Index: [7, 2]&#10;Color: (188, 143, 143)\" style=\"width: 20px; height: 20px;background-color: rgb(188, 143, 143);\"></td><td title=\"Index: [7, 3]&#10;Color: (188, 143, 143)\" style=\"width: 20px; height: 20px;background-color: rgb(188, 143, 143);\"></td><td title=\"Index: [7, 4]&#10;Color: (188, 143, 143)\" style=\"width: 20px; height: 20px;background-color: rgb(188, 143, 143);\"></td><td title=\"Index: [7, 5]&#10;Color: (188, 143, 143)\" style=\"width: 20px; height: 20px;background-color: rgb(188, 143, 143);\"></td><td title=\"Index: [7, 6]&#10;Color: (188, 143, 143)\" style=\"width: 20px; height: 20px;background-color: rgb(188, 143, 143);\"></td><td title=\"Index: [7, 7]&#10;Color: (188, 143, 143)\" style=\"width: 20px; height: 20px;background-color: rgb(188, 143, 143);\"></td><td title=\"Index: [7, 8]&#10;Color: (188, 143, 143)\" style=\"width: 20px; height: 20px;background-color: rgb(188, 143, 143);\"></td><td title=\"Index: [7, 9]&#10;Color: (188, 143, 143)\" style=\"width: 20px; height: 20px;background-color: rgb(188, 143, 143);\"></td><td title=\"Index: [7, 10]&#10;Color: (188, 143, 143)\" style=\"width: 20px; height: 20px;background-color: rgb(188, 143, 143);\"></td><td title=\"Index: [7, 11]&#10;Color: (188, 143, 143)\" style=\"width: 20px; height: 20px;background-color: rgb(188, 143, 143);\"></td><td title=\"Index: [7, 12]&#10;Color: (188, 143, 143)\" style=\"width: 20px; height: 20px;background-color: rgb(188, 143, 143);\"></td><td title=\"Index: [7, 13]&#10;Color: (188, 143, 143)\" style=\"width: 20px; height: 20px;background-color: rgb(188, 143, 143);\"></td><td title=\"Index: [7, 14]&#10;Color: (188, 143, 143)\" style=\"width: 20px; height: 20px;background-color: rgb(188, 143, 143);\"></td></tr><tr><td title=\"Index: [8, 0]&#10;Color: (188, 143, 143)\" style=\"width: 20px; height: 20px;background-color: rgb(188, 143, 143);\"></td><td title=\"Index: [8, 1]&#10;Color: (188, 143, 143)\" style=\"width: 20px; height: 20px;background-color: rgb(188, 143, 143);\"></td><td title=\"Index: [8, 2]&#10;Color: (188, 143, 143)\" style=\"width: 20px; height: 20px;background-color: rgb(188, 143, 143);\"></td><td title=\"Index: [8, 3]&#10;Color: (188, 143, 143)\" style=\"width: 20px; height: 20px;background-color: rgb(188, 143, 143);\"></td><td title=\"Index: [8, 4]&#10;Color: (188, 143, 143)\" style=\"width: 20px; height: 20px;background-color: rgb(188, 143, 143);\"></td><td title=\"Index: [8, 5]&#10;Color: (188, 143, 143)\" style=\"width: 20px; height: 20px;background-color: rgb(188, 143, 143);\"></td><td title=\"Index: [8, 6]&#10;Color: (188, 143, 143)\" style=\"width: 20px; height: 20px;background-color: rgb(188, 143, 143);\"></td><td title=\"Index: [8, 7]&#10;Color: (188, 143, 143)\" style=\"width: 20px; height: 20px;background-color: rgb(188, 143, 143);\"></td><td title=\"Index: [8, 8]&#10;Color: (188, 143, 143)\" style=\"width: 20px; height: 20px;background-color: rgb(188, 143, 143);\"></td><td title=\"Index: [8, 9]&#10;Color: (188, 143, 143)\" style=\"width: 20px; height: 20px;background-color: rgb(188, 143, 143);\"></td><td title=\"Index: [8, 10]&#10;Color: (188, 143, 143)\" style=\"width: 20px; height: 20px;background-color: rgb(188, 143, 143);\"></td><td title=\"Index: [8, 11]&#10;Color: (188, 143, 143)\" style=\"width: 20px; height: 20px;background-color: rgb(188, 143, 143);\"></td><td title=\"Index: [8, 12]&#10;Color: (188, 143, 143)\" style=\"width: 20px; height: 20px;background-color: rgb(188, 143, 143);\"></td><td title=\"Index: [8, 13]&#10;Color: (188, 143, 143)\" style=\"width: 20px; height: 20px;background-color: rgb(188, 143, 143);\"></td><td title=\"Index: [8, 14]&#10;Color: (188, 143, 143)\" style=\"width: 20px; height: 20px;background-color: rgb(188, 143, 143);\"></td></tr><tr><td title=\"Index: [9, 0]&#10;Color: (188, 143, 143)\" style=\"width: 20px; height: 20px;background-color: rgb(188, 143, 143);\"></td><td title=\"Index: [9, 1]&#10;Color: (188, 143, 143)\" style=\"width: 20px; height: 20px;background-color: rgb(188, 143, 143);\"></td><td title=\"Index: [9, 2]&#10;Color: (188, 143, 143)\" style=\"width: 20px; height: 20px;background-color: rgb(188, 143, 143);\"></td><td title=\"Index: [9, 3]&#10;Color: (188, 143, 143)\" style=\"width: 20px; height: 20px;background-color: rgb(188, 143, 143);\"></td><td title=\"Index: [9, 4]&#10;Color: (188, 143, 143)\" style=\"width: 20px; height: 20px;background-color: rgb(188, 143, 143);\"></td><td title=\"Index: [9, 5]&#10;Color: (188, 143, 143)\" style=\"width: 20px; height: 20px;background-color: rgb(188, 143, 143);\"></td><td title=\"Index: [9, 6]&#10;Color: (188, 143, 143)\" style=\"width: 20px; height: 20px;background-color: rgb(188, 143, 143);\"></td><td title=\"Index: [9, 7]&#10;Color: (188, 143, 143)\" style=\"width: 20px; height: 20px;background-color: rgb(188, 143, 143);\"></td><td title=\"Index: [9, 8]&#10;Color: (188, 143, 143)\" style=\"width: 20px; height: 20px;background-color: rgb(188, 143, 143);\"></td><td title=\"Index: [9, 9]&#10;Color: (188, 143, 143)\" style=\"width: 20px; height: 20px;background-color: rgb(188, 143, 143);\"></td><td title=\"Index: [9, 10]&#10;Color: (188, 143, 143)\" style=\"width: 20px; height: 20px;background-color: rgb(188, 143, 143);\"></td><td title=\"Index: [9, 11]&#10;Color: (188, 143, 143)\" style=\"width: 20px; height: 20px;background-color: rgb(188, 143, 143);\"></td><td title=\"Index: [9, 12]&#10;Color: (188, 143, 143)\" style=\"width: 20px; height: 20px;background-color: rgb(188, 143, 143);\"></td><td title=\"Index: [9, 13]&#10;Color: (188, 143, 143)\" style=\"width: 20px; height: 20px;background-color: rgb(188, 143, 143);\"></td><td title=\"Index: [9, 14]&#10;Color: (188, 143, 143)\" style=\"width: 20px; height: 20px;background-color: rgb(188, 143, 143);\"></td></tr><tr><td title=\"Index: [10, 0]&#10;Color: (188, 143, 143)\" style=\"width: 20px; height: 20px;background-color: rgb(188, 143, 143);\"></td><td title=\"Index: [10, 1]&#10;Color: (188, 143, 143)\" style=\"width: 20px; height: 20px;background-color: rgb(188, 143, 143);\"></td><td title=\"Index: [10, 2]&#10;Color: (188, 143, 143)\" style=\"width: 20px; height: 20px;background-color: rgb(188, 143, 143);\"></td><td title=\"Index: [10, 3]&#10;Color: (188, 143, 143)\" style=\"width: 20px; height: 20px;background-color: rgb(188, 143, 143);\"></td><td title=\"Index: [10, 4]&#10;Color: (188, 143, 143)\" style=\"width: 20px; height: 20px;background-color: rgb(188, 143, 143);\"></td><td title=\"Index: [10, 5]&#10;Color: (188, 143, 143)\" style=\"width: 20px; height: 20px;background-color: rgb(188, 143, 143);\"></td><td title=\"Index: [10, 6]&#10;Color: (188, 143, 143)\" style=\"width: 20px; height: 20px;background-color: rgb(188, 143, 143);\"></td><td title=\"Index: [10, 7]&#10;Color: (188, 143, 143)\" style=\"width: 20px; height: 20px;background-color: rgb(188, 143, 143);\"></td><td title=\"Index: [10, 8]&#10;Color: (188, 143, 143)\" style=\"width: 20px; height: 20px;background-color: rgb(188, 143, 143);\"></td><td title=\"Index: [10, 9]&#10;Color: (188, 143, 143)\" style=\"width: 20px; height: 20px;background-color: rgb(188, 143, 143);\"></td><td title=\"Index: [10, 10]&#10;Color: (188, 143, 143)\" style=\"width: 20px; height: 20px;background-color: rgb(188, 143, 143);\"></td><td title=\"Index: [10, 11]&#10;Color: (188, 143, 143)\" style=\"width: 20px; height: 20px;background-color: rgb(188, 143, 143);\"></td><td title=\"Index: [10, 12]&#10;Color: (188, 143, 143)\" style=\"width: 20px; height: 20px;background-color: rgb(188, 143, 143);\"></td><td title=\"Index: [10, 13]&#10;Color: (188, 143, 143)\" style=\"width: 20px; height: 20px;background-color: rgb(188, 143, 143);\"></td><td title=\"Index: [10, 14]&#10;Color: (188, 143, 143)\" style=\"width: 20px; height: 20px;background-color: rgb(188, 143, 143);\"></td></tr><tr><td title=\"Index: [11, 0]&#10;Color: (188, 143, 143)\" style=\"width: 20px; height: 20px;background-color: rgb(188, 143, 143);\"></td><td title=\"Index: [11, 1]&#10;Color: (188, 143, 143)\" style=\"width: 20px; height: 20px;background-color: rgb(188, 143, 143);\"></td><td title=\"Index: [11, 2]&#10;Color: (188, 143, 143)\" style=\"width: 20px; height: 20px;background-color: rgb(188, 143, 143);\"></td><td title=\"Index: [11, 3]&#10;Color: (188, 143, 143)\" style=\"width: 20px; height: 20px;background-color: rgb(188, 143, 143);\"></td><td title=\"Index: [11, 4]&#10;Color: (188, 143, 143)\" style=\"width: 20px; height: 20px;background-color: rgb(188, 143, 143);\"></td><td title=\"Index: [11, 5]&#10;Color: (188, 143, 143)\" style=\"width: 20px; height: 20px;background-color: rgb(188, 143, 143);\"></td><td title=\"Index: [11, 6]&#10;Color: (188, 143, 143)\" style=\"width: 20px; height: 20px;background-color: rgb(188, 143, 143);\"></td><td title=\"Index: [11, 7]&#10;Color: (188, 143, 143)\" style=\"width: 20px; height: 20px;background-color: rgb(188, 143, 143);\"></td><td title=\"Index: [11, 8]&#10;Color: (188, 143, 143)\" style=\"width: 20px; height: 20px;background-color: rgb(188, 143, 143);\"></td><td title=\"Index: [11, 9]&#10;Color: (188, 143, 143)\" style=\"width: 20px; height: 20px;background-color: rgb(188, 143, 143);\"></td><td title=\"Index: [11, 10]&#10;Color: (188, 143, 143)\" style=\"width: 20px; height: 20px;background-color: rgb(188, 143, 143);\"></td><td title=\"Index: [11, 11]&#10;Color: (188, 143, 143)\" style=\"width: 20px; height: 20px;background-color: rgb(188, 143, 143);\"></td><td title=\"Index: [11, 12]&#10;Color: (188, 143, 143)\" style=\"width: 20px; height: 20px;background-color: rgb(188, 143, 143);\"></td><td title=\"Index: [11, 13]&#10;Color: (188, 143, 143)\" style=\"width: 20px; height: 20px;background-color: rgb(188, 143, 143);\"></td><td title=\"Index: [11, 14]&#10;Color: (188, 143, 143)\" style=\"width: 20px; height: 20px;background-color: rgb(188, 143, 143);\"></td></tr><tr><td title=\"Index: [12, 0]&#10;Color: (188, 143, 143)\" style=\"width: 20px; height: 20px;background-color: rgb(188, 143, 143);\"></td><td title=\"Index: [12, 1]&#10;Color: (188, 143, 143)\" style=\"width: 20px; height: 20px;background-color: rgb(188, 143, 143);\"></td><td title=\"Index: [12, 2]&#10;Color: (188, 143, 143)\" style=\"width: 20px; height: 20px;background-color: rgb(188, 143, 143);\"></td><td title=\"Index: [12, 3]&#10;Color: (188, 143, 143)\" style=\"width: 20px; height: 20px;background-color: rgb(188, 143, 143);\"></td><td title=\"Index: [12, 4]&#10;Color: (188, 143, 143)\" style=\"width: 20px; height: 20px;background-color: rgb(188, 143, 143);\"></td><td title=\"Index: [12, 5]&#10;Color: (188, 143, 143)\" style=\"width: 20px; height: 20px;background-color: rgb(188, 143, 143);\"></td><td title=\"Index: [12, 6]&#10;Color: (188, 143, 143)\" style=\"width: 20px; height: 20px;background-color: rgb(188, 143, 143);\"></td><td title=\"Index: [12, 7]&#10;Color: (188, 143, 143)\" style=\"width: 20px; height: 20px;background-color: rgb(188, 143, 143);\"></td><td title=\"Index: [12, 8]&#10;Color: (188, 143, 143)\" style=\"width: 20px; height: 20px;background-color: rgb(188, 143, 143);\"></td><td title=\"Index: [12, 9]&#10;Color: (188, 143, 143)\" style=\"width: 20px; height: 20px;background-color: rgb(188, 143, 143);\"></td><td title=\"Index: [12, 10]&#10;Color: (188, 143, 143)\" style=\"width: 20px; height: 20px;background-color: rgb(188, 143, 143);\"></td><td title=\"Index: [12, 11]&#10;Color: (188, 143, 143)\" style=\"width: 20px; height: 20px;background-color: rgb(188, 143, 143);\"></td><td title=\"Index: [12, 12]&#10;Color: (188, 143, 143)\" style=\"width: 20px; height: 20px;background-color: rgb(188, 143, 143);\"></td><td title=\"Index: [12, 13]&#10;Color: (188, 143, 143)\" style=\"width: 20px; height: 20px;background-color: rgb(188, 143, 143);\"></td><td title=\"Index: [12, 14]&#10;Color: (188, 143, 143)\" style=\"width: 20px; height: 20px;background-color: rgb(188, 143, 143);\"></td></tr><tr><td title=\"Index: [13, 0]&#10;Color: (188, 143, 143)\" style=\"width: 20px; height: 20px;background-color: rgb(188, 143, 143);\"></td><td title=\"Index: [13, 1]&#10;Color: (188, 143, 143)\" style=\"width: 20px; height: 20px;background-color: rgb(188, 143, 143);\"></td><td title=\"Index: [13, 2]&#10;Color: (188, 143, 143)\" style=\"width: 20px; height: 20px;background-color: rgb(188, 143, 143);\"></td><td title=\"Index: [13, 3]&#10;Color: (188, 143, 143)\" style=\"width: 20px; height: 20px;background-color: rgb(188, 143, 143);\"></td><td title=\"Index: [13, 4]&#10;Color: (188, 143, 143)\" style=\"width: 20px; height: 20px;background-color: rgb(188, 143, 143);\"></td><td title=\"Index: [13, 5]&#10;Color: (188, 143, 143)\" style=\"width: 20px; height: 20px;background-color: rgb(188, 143, 143);\"></td><td title=\"Index: [13, 6]&#10;Color: (188, 143, 143)\" style=\"width: 20px; height: 20px;background-color: rgb(188, 143, 143);\"></td><td title=\"Index: [13, 7]&#10;Color: (188, 143, 143)\" style=\"width: 20px; height: 20px;background-color: rgb(188, 143, 143);\"></td><td title=\"Index: [13, 8]&#10;Color: (188, 143, 143)\" style=\"width: 20px; height: 20px;background-color: rgb(188, 143, 143);\"></td><td title=\"Index: [13, 9]&#10;Color: (188, 143, 143)\" style=\"width: 20px; height: 20px;background-color: rgb(188, 143, 143);\"></td><td title=\"Index: [13, 10]&#10;Color: (188, 143, 143)\" style=\"width: 20px; height: 20px;background-color: rgb(188, 143, 143);\"></td><td title=\"Index: [13, 11]&#10;Color: (188, 143, 143)\" style=\"width: 20px; height: 20px;background-color: rgb(188, 143, 143);\"></td><td title=\"Index: [13, 12]&#10;Color: (188, 143, 143)\" style=\"width: 20px; height: 20px;background-color: rgb(188, 143, 143);\"></td><td title=\"Index: [13, 13]&#10;Color: (188, 143, 143)\" style=\"width: 20px; height: 20px;background-color: rgb(188, 143, 143);\"></td><td title=\"Index: [13, 14]&#10;Color: (188, 143, 143)\" style=\"width: 20px; height: 20px;background-color: rgb(188, 143, 143);\"></td></tr><tr><td title=\"Index: [14, 0]&#10;Color: (188, 143, 143)\" style=\"width: 20px; height: 20px;background-color: rgb(188, 143, 143);\"></td><td title=\"Index: [14, 1]&#10;Color: (188, 143, 143)\" style=\"width: 20px; height: 20px;background-color: rgb(188, 143, 143);\"></td><td title=\"Index: [14, 2]&#10;Color: (188, 143, 143)\" style=\"width: 20px; height: 20px;background-color: rgb(188, 143, 143);\"></td><td title=\"Index: [14, 3]&#10;Color: (188, 143, 143)\" style=\"width: 20px; height: 20px;background-color: rgb(188, 143, 143);\"></td><td title=\"Index: [14, 4]&#10;Color: (188, 143, 143)\" style=\"width: 20px; height: 20px;background-color: rgb(188, 143, 143);\"></td><td title=\"Index: [14, 5]&#10;Color: (188, 143, 143)\" style=\"width: 20px; height: 20px;background-color: rgb(188, 143, 143);\"></td><td title=\"Index: [14, 6]&#10;Color: (188, 143, 143)\" style=\"width: 20px; height: 20px;background-color: rgb(188, 143, 143);\"></td><td title=\"Index: [14, 7]&#10;Color: (188, 143, 143)\" style=\"width: 20px; height: 20px;background-color: rgb(188, 143, 143);\"></td><td title=\"Index: [14, 8]&#10;Color: (188, 143, 143)\" style=\"width: 20px; height: 20px;background-color: rgb(188, 143, 143);\"></td><td title=\"Index: [14, 9]&#10;Color: (188, 143, 143)\" style=\"width: 20px; height: 20px;background-color: rgb(188, 143, 143);\"></td><td title=\"Index: [14, 10]&#10;Color: (188, 143, 143)\" style=\"width: 20px; height: 20px;background-color: rgb(188, 143, 143);\"></td><td title=\"Index: [14, 11]&#10;Color: (188, 143, 143)\" style=\"width: 20px; height: 20px;background-color: rgb(188, 143, 143);\"></td><td title=\"Index: [14, 12]&#10;Color: (188, 143, 143)\" style=\"width: 20px; height: 20px;background-color: rgb(188, 143, 143);\"></td><td title=\"Index: [14, 13]&#10;Color: (188, 143, 143)\" style=\"width: 20px; height: 20px;background-color: rgb(188, 143, 143);\"></td><td title=\"Index: [14, 14]&#10;Color: (0, 128, 0)\" style=\"width: 20px; height: 20px;background-color: rgb(0, 128, 0);\"></td></tr></tbody></table>"
            ],
            "text/plain": [
              "<IPython.core.display.HTML object>"
            ]
          },
          "metadata": {}
        }
      ]
    },
    {
      "cell_type": "code",
      "source": [
        "jogo = BlockGrid(15, 15, fill = colors.RosyBrown)\n",
        "\n",
        "for i in range(15):\n",
        "  jogo[i,i] = colors.Green\n",
        "\n",
        "jogo.show()"
      ],
      "metadata": {
        "id": "dM9AbmXXUCzl",
        "outputId": "41c07865-0fb4-4024-bb33-f460f71160a4",
        "colab": {
          "base_uri": "https://localhost:8080/",
          "height": 379
        }
      },
      "execution_count": null,
      "outputs": [
        {
          "output_type": "display_data",
          "data": {
            "text/html": [
              "<style type=\"text/css\">table.blockgrid {border: none;} .blockgrid tr {border: none;} .blockgrid td {padding: 0px;} #blocks42ab2f01-994b-4a38-ae87-1c1af9c48c0b td {border: 1px solid white;}</style><table id=\"blocks42ab2f01-994b-4a38-ae87-1c1af9c48c0b\" class=\"blockgrid\"><tbody><tr><td title=\"Index: [0, 0]&#10;Color: (0, 128, 0)\" style=\"width: 20px; height: 20px;background-color: rgb(0, 128, 0);\"></td><td title=\"Index: [0, 1]&#10;Color: (188, 143, 143)\" style=\"width: 20px; height: 20px;background-color: rgb(188, 143, 143);\"></td><td title=\"Index: [0, 2]&#10;Color: (188, 143, 143)\" style=\"width: 20px; height: 20px;background-color: rgb(188, 143, 143);\"></td><td title=\"Index: [0, 3]&#10;Color: (188, 143, 143)\" style=\"width: 20px; height: 20px;background-color: rgb(188, 143, 143);\"></td><td title=\"Index: [0, 4]&#10;Color: (188, 143, 143)\" style=\"width: 20px; height: 20px;background-color: rgb(188, 143, 143);\"></td><td title=\"Index: [0, 5]&#10;Color: (188, 143, 143)\" style=\"width: 20px; height: 20px;background-color: rgb(188, 143, 143);\"></td><td title=\"Index: [0, 6]&#10;Color: (188, 143, 143)\" style=\"width: 20px; height: 20px;background-color: rgb(188, 143, 143);\"></td><td title=\"Index: [0, 7]&#10;Color: (188, 143, 143)\" style=\"width: 20px; height: 20px;background-color: rgb(188, 143, 143);\"></td><td title=\"Index: [0, 8]&#10;Color: (188, 143, 143)\" style=\"width: 20px; height: 20px;background-color: rgb(188, 143, 143);\"></td><td title=\"Index: [0, 9]&#10;Color: (188, 143, 143)\" style=\"width: 20px; height: 20px;background-color: rgb(188, 143, 143);\"></td><td title=\"Index: [0, 10]&#10;Color: (188, 143, 143)\" style=\"width: 20px; height: 20px;background-color: rgb(188, 143, 143);\"></td><td title=\"Index: [0, 11]&#10;Color: (188, 143, 143)\" style=\"width: 20px; height: 20px;background-color: rgb(188, 143, 143);\"></td><td title=\"Index: [0, 12]&#10;Color: (188, 143, 143)\" style=\"width: 20px; height: 20px;background-color: rgb(188, 143, 143);\"></td><td title=\"Index: [0, 13]&#10;Color: (188, 143, 143)\" style=\"width: 20px; height: 20px;background-color: rgb(188, 143, 143);\"></td><td title=\"Index: [0, 14]&#10;Color: (188, 143, 143)\" style=\"width: 20px; height: 20px;background-color: rgb(188, 143, 143);\"></td></tr><tr><td title=\"Index: [1, 0]&#10;Color: (188, 143, 143)\" style=\"width: 20px; height: 20px;background-color: rgb(188, 143, 143);\"></td><td title=\"Index: [1, 1]&#10;Color: (0, 128, 0)\" style=\"width: 20px; height: 20px;background-color: rgb(0, 128, 0);\"></td><td title=\"Index: [1, 2]&#10;Color: (188, 143, 143)\" style=\"width: 20px; height: 20px;background-color: rgb(188, 143, 143);\"></td><td title=\"Index: [1, 3]&#10;Color: (188, 143, 143)\" style=\"width: 20px; height: 20px;background-color: rgb(188, 143, 143);\"></td><td title=\"Index: [1, 4]&#10;Color: (188, 143, 143)\" style=\"width: 20px; height: 20px;background-color: rgb(188, 143, 143);\"></td><td title=\"Index: [1, 5]&#10;Color: (188, 143, 143)\" style=\"width: 20px; height: 20px;background-color: rgb(188, 143, 143);\"></td><td title=\"Index: [1, 6]&#10;Color: (188, 143, 143)\" style=\"width: 20px; height: 20px;background-color: rgb(188, 143, 143);\"></td><td title=\"Index: [1, 7]&#10;Color: (188, 143, 143)\" style=\"width: 20px; height: 20px;background-color: rgb(188, 143, 143);\"></td><td title=\"Index: [1, 8]&#10;Color: (188, 143, 143)\" style=\"width: 20px; height: 20px;background-color: rgb(188, 143, 143);\"></td><td title=\"Index: [1, 9]&#10;Color: (188, 143, 143)\" style=\"width: 20px; height: 20px;background-color: rgb(188, 143, 143);\"></td><td title=\"Index: [1, 10]&#10;Color: (188, 143, 143)\" style=\"width: 20px; height: 20px;background-color: rgb(188, 143, 143);\"></td><td title=\"Index: [1, 11]&#10;Color: (188, 143, 143)\" style=\"width: 20px; height: 20px;background-color: rgb(188, 143, 143);\"></td><td title=\"Index: [1, 12]&#10;Color: (188, 143, 143)\" style=\"width: 20px; height: 20px;background-color: rgb(188, 143, 143);\"></td><td title=\"Index: [1, 13]&#10;Color: (188, 143, 143)\" style=\"width: 20px; height: 20px;background-color: rgb(188, 143, 143);\"></td><td title=\"Index: [1, 14]&#10;Color: (188, 143, 143)\" style=\"width: 20px; height: 20px;background-color: rgb(188, 143, 143);\"></td></tr><tr><td title=\"Index: [2, 0]&#10;Color: (188, 143, 143)\" style=\"width: 20px; height: 20px;background-color: rgb(188, 143, 143);\"></td><td title=\"Index: [2, 1]&#10;Color: (188, 143, 143)\" style=\"width: 20px; height: 20px;background-color: rgb(188, 143, 143);\"></td><td title=\"Index: [2, 2]&#10;Color: (0, 128, 0)\" style=\"width: 20px; height: 20px;background-color: rgb(0, 128, 0);\"></td><td title=\"Index: [2, 3]&#10;Color: (188, 143, 143)\" style=\"width: 20px; height: 20px;background-color: rgb(188, 143, 143);\"></td><td title=\"Index: [2, 4]&#10;Color: (188, 143, 143)\" style=\"width: 20px; height: 20px;background-color: rgb(188, 143, 143);\"></td><td title=\"Index: [2, 5]&#10;Color: (188, 143, 143)\" style=\"width: 20px; height: 20px;background-color: rgb(188, 143, 143);\"></td><td title=\"Index: [2, 6]&#10;Color: (188, 143, 143)\" style=\"width: 20px; height: 20px;background-color: rgb(188, 143, 143);\"></td><td title=\"Index: [2, 7]&#10;Color: (188, 143, 143)\" style=\"width: 20px; height: 20px;background-color: rgb(188, 143, 143);\"></td><td title=\"Index: [2, 8]&#10;Color: (188, 143, 143)\" style=\"width: 20px; height: 20px;background-color: rgb(188, 143, 143);\"></td><td title=\"Index: [2, 9]&#10;Color: (188, 143, 143)\" style=\"width: 20px; height: 20px;background-color: rgb(188, 143, 143);\"></td><td title=\"Index: [2, 10]&#10;Color: (188, 143, 143)\" style=\"width: 20px; height: 20px;background-color: rgb(188, 143, 143);\"></td><td title=\"Index: [2, 11]&#10;Color: (188, 143, 143)\" style=\"width: 20px; height: 20px;background-color: rgb(188, 143, 143);\"></td><td title=\"Index: [2, 12]&#10;Color: (188, 143, 143)\" style=\"width: 20px; height: 20px;background-color: rgb(188, 143, 143);\"></td><td title=\"Index: [2, 13]&#10;Color: (188, 143, 143)\" style=\"width: 20px; height: 20px;background-color: rgb(188, 143, 143);\"></td><td title=\"Index: [2, 14]&#10;Color: (188, 143, 143)\" style=\"width: 20px; height: 20px;background-color: rgb(188, 143, 143);\"></td></tr><tr><td title=\"Index: [3, 0]&#10;Color: (188, 143, 143)\" style=\"width: 20px; height: 20px;background-color: rgb(188, 143, 143);\"></td><td title=\"Index: [3, 1]&#10;Color: (188, 143, 143)\" style=\"width: 20px; height: 20px;background-color: rgb(188, 143, 143);\"></td><td title=\"Index: [3, 2]&#10;Color: (188, 143, 143)\" style=\"width: 20px; height: 20px;background-color: rgb(188, 143, 143);\"></td><td title=\"Index: [3, 3]&#10;Color: (0, 128, 0)\" style=\"width: 20px; height: 20px;background-color: rgb(0, 128, 0);\"></td><td title=\"Index: [3, 4]&#10;Color: (188, 143, 143)\" style=\"width: 20px; height: 20px;background-color: rgb(188, 143, 143);\"></td><td title=\"Index: [3, 5]&#10;Color: (188, 143, 143)\" style=\"width: 20px; height: 20px;background-color: rgb(188, 143, 143);\"></td><td title=\"Index: [3, 6]&#10;Color: (188, 143, 143)\" style=\"width: 20px; height: 20px;background-color: rgb(188, 143, 143);\"></td><td title=\"Index: [3, 7]&#10;Color: (188, 143, 143)\" style=\"width: 20px; height: 20px;background-color: rgb(188, 143, 143);\"></td><td title=\"Index: [3, 8]&#10;Color: (188, 143, 143)\" style=\"width: 20px; height: 20px;background-color: rgb(188, 143, 143);\"></td><td title=\"Index: [3, 9]&#10;Color: (188, 143, 143)\" style=\"width: 20px; height: 20px;background-color: rgb(188, 143, 143);\"></td><td title=\"Index: [3, 10]&#10;Color: (188, 143, 143)\" style=\"width: 20px; height: 20px;background-color: rgb(188, 143, 143);\"></td><td title=\"Index: [3, 11]&#10;Color: (188, 143, 143)\" style=\"width: 20px; height: 20px;background-color: rgb(188, 143, 143);\"></td><td title=\"Index: [3, 12]&#10;Color: (188, 143, 143)\" style=\"width: 20px; height: 20px;background-color: rgb(188, 143, 143);\"></td><td title=\"Index: [3, 13]&#10;Color: (188, 143, 143)\" style=\"width: 20px; height: 20px;background-color: rgb(188, 143, 143);\"></td><td title=\"Index: [3, 14]&#10;Color: (188, 143, 143)\" style=\"width: 20px; height: 20px;background-color: rgb(188, 143, 143);\"></td></tr><tr><td title=\"Index: [4, 0]&#10;Color: (188, 143, 143)\" style=\"width: 20px; height: 20px;background-color: rgb(188, 143, 143);\"></td><td title=\"Index: [4, 1]&#10;Color: (188, 143, 143)\" style=\"width: 20px; height: 20px;background-color: rgb(188, 143, 143);\"></td><td title=\"Index: [4, 2]&#10;Color: (188, 143, 143)\" style=\"width: 20px; height: 20px;background-color: rgb(188, 143, 143);\"></td><td title=\"Index: [4, 3]&#10;Color: (188, 143, 143)\" style=\"width: 20px; height: 20px;background-color: rgb(188, 143, 143);\"></td><td title=\"Index: [4, 4]&#10;Color: (0, 128, 0)\" style=\"width: 20px; height: 20px;background-color: rgb(0, 128, 0);\"></td><td title=\"Index: [4, 5]&#10;Color: (188, 143, 143)\" style=\"width: 20px; height: 20px;background-color: rgb(188, 143, 143);\"></td><td title=\"Index: [4, 6]&#10;Color: (188, 143, 143)\" style=\"width: 20px; height: 20px;background-color: rgb(188, 143, 143);\"></td><td title=\"Index: [4, 7]&#10;Color: (188, 143, 143)\" style=\"width: 20px; height: 20px;background-color: rgb(188, 143, 143);\"></td><td title=\"Index: [4, 8]&#10;Color: (188, 143, 143)\" style=\"width: 20px; height: 20px;background-color: rgb(188, 143, 143);\"></td><td title=\"Index: [4, 9]&#10;Color: (188, 143, 143)\" style=\"width: 20px; height: 20px;background-color: rgb(188, 143, 143);\"></td><td title=\"Index: [4, 10]&#10;Color: (188, 143, 143)\" style=\"width: 20px; height: 20px;background-color: rgb(188, 143, 143);\"></td><td title=\"Index: [4, 11]&#10;Color: (188, 143, 143)\" style=\"width: 20px; height: 20px;background-color: rgb(188, 143, 143);\"></td><td title=\"Index: [4, 12]&#10;Color: (188, 143, 143)\" style=\"width: 20px; height: 20px;background-color: rgb(188, 143, 143);\"></td><td title=\"Index: [4, 13]&#10;Color: (188, 143, 143)\" style=\"width: 20px; height: 20px;background-color: rgb(188, 143, 143);\"></td><td title=\"Index: [4, 14]&#10;Color: (188, 143, 143)\" style=\"width: 20px; height: 20px;background-color: rgb(188, 143, 143);\"></td></tr><tr><td title=\"Index: [5, 0]&#10;Color: (188, 143, 143)\" style=\"width: 20px; height: 20px;background-color: rgb(188, 143, 143);\"></td><td title=\"Index: [5, 1]&#10;Color: (188, 143, 143)\" style=\"width: 20px; height: 20px;background-color: rgb(188, 143, 143);\"></td><td title=\"Index: [5, 2]&#10;Color: (188, 143, 143)\" style=\"width: 20px; height: 20px;background-color: rgb(188, 143, 143);\"></td><td title=\"Index: [5, 3]&#10;Color: (188, 143, 143)\" style=\"width: 20px; height: 20px;background-color: rgb(188, 143, 143);\"></td><td title=\"Index: [5, 4]&#10;Color: (188, 143, 143)\" style=\"width: 20px; height: 20px;background-color: rgb(188, 143, 143);\"></td><td title=\"Index: [5, 5]&#10;Color: (0, 128, 0)\" style=\"width: 20px; height: 20px;background-color: rgb(0, 128, 0);\"></td><td title=\"Index: [5, 6]&#10;Color: (188, 143, 143)\" style=\"width: 20px; height: 20px;background-color: rgb(188, 143, 143);\"></td><td title=\"Index: [5, 7]&#10;Color: (188, 143, 143)\" style=\"width: 20px; height: 20px;background-color: rgb(188, 143, 143);\"></td><td title=\"Index: [5, 8]&#10;Color: (188, 143, 143)\" style=\"width: 20px; height: 20px;background-color: rgb(188, 143, 143);\"></td><td title=\"Index: [5, 9]&#10;Color: (188, 143, 143)\" style=\"width: 20px; height: 20px;background-color: rgb(188, 143, 143);\"></td><td title=\"Index: [5, 10]&#10;Color: (188, 143, 143)\" style=\"width: 20px; height: 20px;background-color: rgb(188, 143, 143);\"></td><td title=\"Index: [5, 11]&#10;Color: (188, 143, 143)\" style=\"width: 20px; height: 20px;background-color: rgb(188, 143, 143);\"></td><td title=\"Index: [5, 12]&#10;Color: (188, 143, 143)\" style=\"width: 20px; height: 20px;background-color: rgb(188, 143, 143);\"></td><td title=\"Index: [5, 13]&#10;Color: (188, 143, 143)\" style=\"width: 20px; height: 20px;background-color: rgb(188, 143, 143);\"></td><td title=\"Index: [5, 14]&#10;Color: (188, 143, 143)\" style=\"width: 20px; height: 20px;background-color: rgb(188, 143, 143);\"></td></tr><tr><td title=\"Index: [6, 0]&#10;Color: (188, 143, 143)\" style=\"width: 20px; height: 20px;background-color: rgb(188, 143, 143);\"></td><td title=\"Index: [6, 1]&#10;Color: (188, 143, 143)\" style=\"width: 20px; height: 20px;background-color: rgb(188, 143, 143);\"></td><td title=\"Index: [6, 2]&#10;Color: (188, 143, 143)\" style=\"width: 20px; height: 20px;background-color: rgb(188, 143, 143);\"></td><td title=\"Index: [6, 3]&#10;Color: (188, 143, 143)\" style=\"width: 20px; height: 20px;background-color: rgb(188, 143, 143);\"></td><td title=\"Index: [6, 4]&#10;Color: (188, 143, 143)\" style=\"width: 20px; height: 20px;background-color: rgb(188, 143, 143);\"></td><td title=\"Index: [6, 5]&#10;Color: (188, 143, 143)\" style=\"width: 20px; height: 20px;background-color: rgb(188, 143, 143);\"></td><td title=\"Index: [6, 6]&#10;Color: (0, 128, 0)\" style=\"width: 20px; height: 20px;background-color: rgb(0, 128, 0);\"></td><td title=\"Index: [6, 7]&#10;Color: (188, 143, 143)\" style=\"width: 20px; height: 20px;background-color: rgb(188, 143, 143);\"></td><td title=\"Index: [6, 8]&#10;Color: (188, 143, 143)\" style=\"width: 20px; height: 20px;background-color: rgb(188, 143, 143);\"></td><td title=\"Index: [6, 9]&#10;Color: (188, 143, 143)\" style=\"width: 20px; height: 20px;background-color: rgb(188, 143, 143);\"></td><td title=\"Index: [6, 10]&#10;Color: (188, 143, 143)\" style=\"width: 20px; height: 20px;background-color: rgb(188, 143, 143);\"></td><td title=\"Index: [6, 11]&#10;Color: (188, 143, 143)\" style=\"width: 20px; height: 20px;background-color: rgb(188, 143, 143);\"></td><td title=\"Index: [6, 12]&#10;Color: (188, 143, 143)\" style=\"width: 20px; height: 20px;background-color: rgb(188, 143, 143);\"></td><td title=\"Index: [6, 13]&#10;Color: (188, 143, 143)\" style=\"width: 20px; height: 20px;background-color: rgb(188, 143, 143);\"></td><td title=\"Index: [6, 14]&#10;Color: (188, 143, 143)\" style=\"width: 20px; height: 20px;background-color: rgb(188, 143, 143);\"></td></tr><tr><td title=\"Index: [7, 0]&#10;Color: (188, 143, 143)\" style=\"width: 20px; height: 20px;background-color: rgb(188, 143, 143);\"></td><td title=\"Index: [7, 1]&#10;Color: (188, 143, 143)\" style=\"width: 20px; height: 20px;background-color: rgb(188, 143, 143);\"></td><td title=\"Index: [7, 2]&#10;Color: (188, 143, 143)\" style=\"width: 20px; height: 20px;background-color: rgb(188, 143, 143);\"></td><td title=\"Index: [7, 3]&#10;Color: (188, 143, 143)\" style=\"width: 20px; height: 20px;background-color: rgb(188, 143, 143);\"></td><td title=\"Index: [7, 4]&#10;Color: (188, 143, 143)\" style=\"width: 20px; height: 20px;background-color: rgb(188, 143, 143);\"></td><td title=\"Index: [7, 5]&#10;Color: (188, 143, 143)\" style=\"width: 20px; height: 20px;background-color: rgb(188, 143, 143);\"></td><td title=\"Index: [7, 6]&#10;Color: (188, 143, 143)\" style=\"width: 20px; height: 20px;background-color: rgb(188, 143, 143);\"></td><td title=\"Index: [7, 7]&#10;Color: (0, 128, 0)\" style=\"width: 20px; height: 20px;background-color: rgb(0, 128, 0);\"></td><td title=\"Index: [7, 8]&#10;Color: (188, 143, 143)\" style=\"width: 20px; height: 20px;background-color: rgb(188, 143, 143);\"></td><td title=\"Index: [7, 9]&#10;Color: (188, 143, 143)\" style=\"width: 20px; height: 20px;background-color: rgb(188, 143, 143);\"></td><td title=\"Index: [7, 10]&#10;Color: (188, 143, 143)\" style=\"width: 20px; height: 20px;background-color: rgb(188, 143, 143);\"></td><td title=\"Index: [7, 11]&#10;Color: (188, 143, 143)\" style=\"width: 20px; height: 20px;background-color: rgb(188, 143, 143);\"></td><td title=\"Index: [7, 12]&#10;Color: (188, 143, 143)\" style=\"width: 20px; height: 20px;background-color: rgb(188, 143, 143);\"></td><td title=\"Index: [7, 13]&#10;Color: (188, 143, 143)\" style=\"width: 20px; height: 20px;background-color: rgb(188, 143, 143);\"></td><td title=\"Index: [7, 14]&#10;Color: (188, 143, 143)\" style=\"width: 20px; height: 20px;background-color: rgb(188, 143, 143);\"></td></tr><tr><td title=\"Index: [8, 0]&#10;Color: (188, 143, 143)\" style=\"width: 20px; height: 20px;background-color: rgb(188, 143, 143);\"></td><td title=\"Index: [8, 1]&#10;Color: (188, 143, 143)\" style=\"width: 20px; height: 20px;background-color: rgb(188, 143, 143);\"></td><td title=\"Index: [8, 2]&#10;Color: (188, 143, 143)\" style=\"width: 20px; height: 20px;background-color: rgb(188, 143, 143);\"></td><td title=\"Index: [8, 3]&#10;Color: (188, 143, 143)\" style=\"width: 20px; height: 20px;background-color: rgb(188, 143, 143);\"></td><td title=\"Index: [8, 4]&#10;Color: (188, 143, 143)\" style=\"width: 20px; height: 20px;background-color: rgb(188, 143, 143);\"></td><td title=\"Index: [8, 5]&#10;Color: (188, 143, 143)\" style=\"width: 20px; height: 20px;background-color: rgb(188, 143, 143);\"></td><td title=\"Index: [8, 6]&#10;Color: (188, 143, 143)\" style=\"width: 20px; height: 20px;background-color: rgb(188, 143, 143);\"></td><td title=\"Index: [8, 7]&#10;Color: (188, 143, 143)\" style=\"width: 20px; height: 20px;background-color: rgb(188, 143, 143);\"></td><td title=\"Index: [8, 8]&#10;Color: (0, 128, 0)\" style=\"width: 20px; height: 20px;background-color: rgb(0, 128, 0);\"></td><td title=\"Index: [8, 9]&#10;Color: (188, 143, 143)\" style=\"width: 20px; height: 20px;background-color: rgb(188, 143, 143);\"></td><td title=\"Index: [8, 10]&#10;Color: (188, 143, 143)\" style=\"width: 20px; height: 20px;background-color: rgb(188, 143, 143);\"></td><td title=\"Index: [8, 11]&#10;Color: (188, 143, 143)\" style=\"width: 20px; height: 20px;background-color: rgb(188, 143, 143);\"></td><td title=\"Index: [8, 12]&#10;Color: (188, 143, 143)\" style=\"width: 20px; height: 20px;background-color: rgb(188, 143, 143);\"></td><td title=\"Index: [8, 13]&#10;Color: (188, 143, 143)\" style=\"width: 20px; height: 20px;background-color: rgb(188, 143, 143);\"></td><td title=\"Index: [8, 14]&#10;Color: (188, 143, 143)\" style=\"width: 20px; height: 20px;background-color: rgb(188, 143, 143);\"></td></tr><tr><td title=\"Index: [9, 0]&#10;Color: (188, 143, 143)\" style=\"width: 20px; height: 20px;background-color: rgb(188, 143, 143);\"></td><td title=\"Index: [9, 1]&#10;Color: (188, 143, 143)\" style=\"width: 20px; height: 20px;background-color: rgb(188, 143, 143);\"></td><td title=\"Index: [9, 2]&#10;Color: (188, 143, 143)\" style=\"width: 20px; height: 20px;background-color: rgb(188, 143, 143);\"></td><td title=\"Index: [9, 3]&#10;Color: (188, 143, 143)\" style=\"width: 20px; height: 20px;background-color: rgb(188, 143, 143);\"></td><td title=\"Index: [9, 4]&#10;Color: (188, 143, 143)\" style=\"width: 20px; height: 20px;background-color: rgb(188, 143, 143);\"></td><td title=\"Index: [9, 5]&#10;Color: (188, 143, 143)\" style=\"width: 20px; height: 20px;background-color: rgb(188, 143, 143);\"></td><td title=\"Index: [9, 6]&#10;Color: (188, 143, 143)\" style=\"width: 20px; height: 20px;background-color: rgb(188, 143, 143);\"></td><td title=\"Index: [9, 7]&#10;Color: (188, 143, 143)\" style=\"width: 20px; height: 20px;background-color: rgb(188, 143, 143);\"></td><td title=\"Index: [9, 8]&#10;Color: (188, 143, 143)\" style=\"width: 20px; height: 20px;background-color: rgb(188, 143, 143);\"></td><td title=\"Index: [9, 9]&#10;Color: (0, 128, 0)\" style=\"width: 20px; height: 20px;background-color: rgb(0, 128, 0);\"></td><td title=\"Index: [9, 10]&#10;Color: (188, 143, 143)\" style=\"width: 20px; height: 20px;background-color: rgb(188, 143, 143);\"></td><td title=\"Index: [9, 11]&#10;Color: (188, 143, 143)\" style=\"width: 20px; height: 20px;background-color: rgb(188, 143, 143);\"></td><td title=\"Index: [9, 12]&#10;Color: (188, 143, 143)\" style=\"width: 20px; height: 20px;background-color: rgb(188, 143, 143);\"></td><td title=\"Index: [9, 13]&#10;Color: (188, 143, 143)\" style=\"width: 20px; height: 20px;background-color: rgb(188, 143, 143);\"></td><td title=\"Index: [9, 14]&#10;Color: (188, 143, 143)\" style=\"width: 20px; height: 20px;background-color: rgb(188, 143, 143);\"></td></tr><tr><td title=\"Index: [10, 0]&#10;Color: (188, 143, 143)\" style=\"width: 20px; height: 20px;background-color: rgb(188, 143, 143);\"></td><td title=\"Index: [10, 1]&#10;Color: (188, 143, 143)\" style=\"width: 20px; height: 20px;background-color: rgb(188, 143, 143);\"></td><td title=\"Index: [10, 2]&#10;Color: (188, 143, 143)\" style=\"width: 20px; height: 20px;background-color: rgb(188, 143, 143);\"></td><td title=\"Index: [10, 3]&#10;Color: (188, 143, 143)\" style=\"width: 20px; height: 20px;background-color: rgb(188, 143, 143);\"></td><td title=\"Index: [10, 4]&#10;Color: (188, 143, 143)\" style=\"width: 20px; height: 20px;background-color: rgb(188, 143, 143);\"></td><td title=\"Index: [10, 5]&#10;Color: (188, 143, 143)\" style=\"width: 20px; height: 20px;background-color: rgb(188, 143, 143);\"></td><td title=\"Index: [10, 6]&#10;Color: (188, 143, 143)\" style=\"width: 20px; height: 20px;background-color: rgb(188, 143, 143);\"></td><td title=\"Index: [10, 7]&#10;Color: (188, 143, 143)\" style=\"width: 20px; height: 20px;background-color: rgb(188, 143, 143);\"></td><td title=\"Index: [10, 8]&#10;Color: (188, 143, 143)\" style=\"width: 20px; height: 20px;background-color: rgb(188, 143, 143);\"></td><td title=\"Index: [10, 9]&#10;Color: (188, 143, 143)\" style=\"width: 20px; height: 20px;background-color: rgb(188, 143, 143);\"></td><td title=\"Index: [10, 10]&#10;Color: (0, 128, 0)\" style=\"width: 20px; height: 20px;background-color: rgb(0, 128, 0);\"></td><td title=\"Index: [10, 11]&#10;Color: (188, 143, 143)\" style=\"width: 20px; height: 20px;background-color: rgb(188, 143, 143);\"></td><td title=\"Index: [10, 12]&#10;Color: (188, 143, 143)\" style=\"width: 20px; height: 20px;background-color: rgb(188, 143, 143);\"></td><td title=\"Index: [10, 13]&#10;Color: (188, 143, 143)\" style=\"width: 20px; height: 20px;background-color: rgb(188, 143, 143);\"></td><td title=\"Index: [10, 14]&#10;Color: (188, 143, 143)\" style=\"width: 20px; height: 20px;background-color: rgb(188, 143, 143);\"></td></tr><tr><td title=\"Index: [11, 0]&#10;Color: (188, 143, 143)\" style=\"width: 20px; height: 20px;background-color: rgb(188, 143, 143);\"></td><td title=\"Index: [11, 1]&#10;Color: (188, 143, 143)\" style=\"width: 20px; height: 20px;background-color: rgb(188, 143, 143);\"></td><td title=\"Index: [11, 2]&#10;Color: (188, 143, 143)\" style=\"width: 20px; height: 20px;background-color: rgb(188, 143, 143);\"></td><td title=\"Index: [11, 3]&#10;Color: (188, 143, 143)\" style=\"width: 20px; height: 20px;background-color: rgb(188, 143, 143);\"></td><td title=\"Index: [11, 4]&#10;Color: (188, 143, 143)\" style=\"width: 20px; height: 20px;background-color: rgb(188, 143, 143);\"></td><td title=\"Index: [11, 5]&#10;Color: (188, 143, 143)\" style=\"width: 20px; height: 20px;background-color: rgb(188, 143, 143);\"></td><td title=\"Index: [11, 6]&#10;Color: (188, 143, 143)\" style=\"width: 20px; height: 20px;background-color: rgb(188, 143, 143);\"></td><td title=\"Index: [11, 7]&#10;Color: (188, 143, 143)\" style=\"width: 20px; height: 20px;background-color: rgb(188, 143, 143);\"></td><td title=\"Index: [11, 8]&#10;Color: (188, 143, 143)\" style=\"width: 20px; height: 20px;background-color: rgb(188, 143, 143);\"></td><td title=\"Index: [11, 9]&#10;Color: (188, 143, 143)\" style=\"width: 20px; height: 20px;background-color: rgb(188, 143, 143);\"></td><td title=\"Index: [11, 10]&#10;Color: (188, 143, 143)\" style=\"width: 20px; height: 20px;background-color: rgb(188, 143, 143);\"></td><td title=\"Index: [11, 11]&#10;Color: (0, 128, 0)\" style=\"width: 20px; height: 20px;background-color: rgb(0, 128, 0);\"></td><td title=\"Index: [11, 12]&#10;Color: (188, 143, 143)\" style=\"width: 20px; height: 20px;background-color: rgb(188, 143, 143);\"></td><td title=\"Index: [11, 13]&#10;Color: (188, 143, 143)\" style=\"width: 20px; height: 20px;background-color: rgb(188, 143, 143);\"></td><td title=\"Index: [11, 14]&#10;Color: (188, 143, 143)\" style=\"width: 20px; height: 20px;background-color: rgb(188, 143, 143);\"></td></tr><tr><td title=\"Index: [12, 0]&#10;Color: (188, 143, 143)\" style=\"width: 20px; height: 20px;background-color: rgb(188, 143, 143);\"></td><td title=\"Index: [12, 1]&#10;Color: (188, 143, 143)\" style=\"width: 20px; height: 20px;background-color: rgb(188, 143, 143);\"></td><td title=\"Index: [12, 2]&#10;Color: (188, 143, 143)\" style=\"width: 20px; height: 20px;background-color: rgb(188, 143, 143);\"></td><td title=\"Index: [12, 3]&#10;Color: (188, 143, 143)\" style=\"width: 20px; height: 20px;background-color: rgb(188, 143, 143);\"></td><td title=\"Index: [12, 4]&#10;Color: (188, 143, 143)\" style=\"width: 20px; height: 20px;background-color: rgb(188, 143, 143);\"></td><td title=\"Index: [12, 5]&#10;Color: (188, 143, 143)\" style=\"width: 20px; height: 20px;background-color: rgb(188, 143, 143);\"></td><td title=\"Index: [12, 6]&#10;Color: (188, 143, 143)\" style=\"width: 20px; height: 20px;background-color: rgb(188, 143, 143);\"></td><td title=\"Index: [12, 7]&#10;Color: (188, 143, 143)\" style=\"width: 20px; height: 20px;background-color: rgb(188, 143, 143);\"></td><td title=\"Index: [12, 8]&#10;Color: (188, 143, 143)\" style=\"width: 20px; height: 20px;background-color: rgb(188, 143, 143);\"></td><td title=\"Index: [12, 9]&#10;Color: (188, 143, 143)\" style=\"width: 20px; height: 20px;background-color: rgb(188, 143, 143);\"></td><td title=\"Index: [12, 10]&#10;Color: (188, 143, 143)\" style=\"width: 20px; height: 20px;background-color: rgb(188, 143, 143);\"></td><td title=\"Index: [12, 11]&#10;Color: (188, 143, 143)\" style=\"width: 20px; height: 20px;background-color: rgb(188, 143, 143);\"></td><td title=\"Index: [12, 12]&#10;Color: (0, 128, 0)\" style=\"width: 20px; height: 20px;background-color: rgb(0, 128, 0);\"></td><td title=\"Index: [12, 13]&#10;Color: (188, 143, 143)\" style=\"width: 20px; height: 20px;background-color: rgb(188, 143, 143);\"></td><td title=\"Index: [12, 14]&#10;Color: (188, 143, 143)\" style=\"width: 20px; height: 20px;background-color: rgb(188, 143, 143);\"></td></tr><tr><td title=\"Index: [13, 0]&#10;Color: (188, 143, 143)\" style=\"width: 20px; height: 20px;background-color: rgb(188, 143, 143);\"></td><td title=\"Index: [13, 1]&#10;Color: (188, 143, 143)\" style=\"width: 20px; height: 20px;background-color: rgb(188, 143, 143);\"></td><td title=\"Index: [13, 2]&#10;Color: (188, 143, 143)\" style=\"width: 20px; height: 20px;background-color: rgb(188, 143, 143);\"></td><td title=\"Index: [13, 3]&#10;Color: (188, 143, 143)\" style=\"width: 20px; height: 20px;background-color: rgb(188, 143, 143);\"></td><td title=\"Index: [13, 4]&#10;Color: (188, 143, 143)\" style=\"width: 20px; height: 20px;background-color: rgb(188, 143, 143);\"></td><td title=\"Index: [13, 5]&#10;Color: (188, 143, 143)\" style=\"width: 20px; height: 20px;background-color: rgb(188, 143, 143);\"></td><td title=\"Index: [13, 6]&#10;Color: (188, 143, 143)\" style=\"width: 20px; height: 20px;background-color: rgb(188, 143, 143);\"></td><td title=\"Index: [13, 7]&#10;Color: (188, 143, 143)\" style=\"width: 20px; height: 20px;background-color: rgb(188, 143, 143);\"></td><td title=\"Index: [13, 8]&#10;Color: (188, 143, 143)\" style=\"width: 20px; height: 20px;background-color: rgb(188, 143, 143);\"></td><td title=\"Index: [13, 9]&#10;Color: (188, 143, 143)\" style=\"width: 20px; height: 20px;background-color: rgb(188, 143, 143);\"></td><td title=\"Index: [13, 10]&#10;Color: (188, 143, 143)\" style=\"width: 20px; height: 20px;background-color: rgb(188, 143, 143);\"></td><td title=\"Index: [13, 11]&#10;Color: (188, 143, 143)\" style=\"width: 20px; height: 20px;background-color: rgb(188, 143, 143);\"></td><td title=\"Index: [13, 12]&#10;Color: (188, 143, 143)\" style=\"width: 20px; height: 20px;background-color: rgb(188, 143, 143);\"></td><td title=\"Index: [13, 13]&#10;Color: (0, 128, 0)\" style=\"width: 20px; height: 20px;background-color: rgb(0, 128, 0);\"></td><td title=\"Index: [13, 14]&#10;Color: (188, 143, 143)\" style=\"width: 20px; height: 20px;background-color: rgb(188, 143, 143);\"></td></tr><tr><td title=\"Index: [14, 0]&#10;Color: (188, 143, 143)\" style=\"width: 20px; height: 20px;background-color: rgb(188, 143, 143);\"></td><td title=\"Index: [14, 1]&#10;Color: (188, 143, 143)\" style=\"width: 20px; height: 20px;background-color: rgb(188, 143, 143);\"></td><td title=\"Index: [14, 2]&#10;Color: (188, 143, 143)\" style=\"width: 20px; height: 20px;background-color: rgb(188, 143, 143);\"></td><td title=\"Index: [14, 3]&#10;Color: (188, 143, 143)\" style=\"width: 20px; height: 20px;background-color: rgb(188, 143, 143);\"></td><td title=\"Index: [14, 4]&#10;Color: (188, 143, 143)\" style=\"width: 20px; height: 20px;background-color: rgb(188, 143, 143);\"></td><td title=\"Index: [14, 5]&#10;Color: (188, 143, 143)\" style=\"width: 20px; height: 20px;background-color: rgb(188, 143, 143);\"></td><td title=\"Index: [14, 6]&#10;Color: (188, 143, 143)\" style=\"width: 20px; height: 20px;background-color: rgb(188, 143, 143);\"></td><td title=\"Index: [14, 7]&#10;Color: (188, 143, 143)\" style=\"width: 20px; height: 20px;background-color: rgb(188, 143, 143);\"></td><td title=\"Index: [14, 8]&#10;Color: (188, 143, 143)\" style=\"width: 20px; height: 20px;background-color: rgb(188, 143, 143);\"></td><td title=\"Index: [14, 9]&#10;Color: (188, 143, 143)\" style=\"width: 20px; height: 20px;background-color: rgb(188, 143, 143);\"></td><td title=\"Index: [14, 10]&#10;Color: (188, 143, 143)\" style=\"width: 20px; height: 20px;background-color: rgb(188, 143, 143);\"></td><td title=\"Index: [14, 11]&#10;Color: (188, 143, 143)\" style=\"width: 20px; height: 20px;background-color: rgb(188, 143, 143);\"></td><td title=\"Index: [14, 12]&#10;Color: (188, 143, 143)\" style=\"width: 20px; height: 20px;background-color: rgb(188, 143, 143);\"></td><td title=\"Index: [14, 13]&#10;Color: (188, 143, 143)\" style=\"width: 20px; height: 20px;background-color: rgb(188, 143, 143);\"></td><td title=\"Index: [14, 14]&#10;Color: (0, 128, 0)\" style=\"width: 20px; height: 20px;background-color: rgb(0, 128, 0);\"></td></tr></tbody></table>"
            ],
            "text/plain": [
              "<IPython.core.display.HTML object>"
            ]
          },
          "metadata": {}
        }
      ]
    },
    {
      "cell_type": "code",
      "metadata": {
        "id": "f4JG3Y2AouWO"
      },
      "source": [
        "for i in range(5): \n",
        "  print(i)\n",
        "  if i == 3:\n",
        "    break"
      ],
      "execution_count": null,
      "outputs": []
    },
    {
      "cell_type": "code",
      "metadata": {
        "id": "4SBHpLUiPC-D"
      },
      "source": [
        "i = 1\n",
        "while i < 6:\n",
        "  print(i)\n",
        "  if i == 3:\n",
        "    break\n",
        "  i += 1"
      ],
      "execution_count": null,
      "outputs": []
    },
    {
      "cell_type": "markdown",
      "source": [
        "## Python Tutor: Acompanhando Loops passo a passo\n",
        "\n",
        "Aqui você pode acompanhar a execução do código passo a passo..."
      ],
      "metadata": {
        "id": "M_O1OaGSU6z6"
      }
    },
    {
      "cell_type": "code",
      "metadata": {
        "id": "jeVmlK8Ac-xT",
        "outputId": "df82648b-3aa9-4f55-ae40-41c61adefc98",
        "colab": {
          "base_uri": "https://localhost:8080/",
          "height": 108
        }
      },
      "source": [
        "i = 1\n",
        "while i < 6:\n",
        "  print('Passando aqui...', i , '-ésima vez')\n",
        "  i += 1             # > o mesmo que i = i + 1\n"
      ],
      "execution_count": null,
      "outputs": [
        {
          "output_type": "stream",
          "text": [
            "Passando aqui... 1 -ésima vez\n",
            "Passando aqui... 2 -ésima vez\n",
            "Passando aqui... 3 -ésima vez\n",
            "Passando aqui... 4 -ésima vez\n",
            "Passando aqui... 5 -ésima vez\n"
          ],
          "name": "stdout"
        }
      ]
    },
    {
      "cell_type": "code",
      "metadata": {
        "id": "dQL1nE2VY_0c",
        "outputId": "7c6a8449-f1e7-476e-c157-60aae4c8b6af",
        "colab": {
          "base_uri": "https://localhost:8080/",
          "height": 371
        }
      },
      "source": [
        "from IPython.display import IFrame\n",
        "url = \"https://pythontutor.com/iframe-embed.html#code=i%20%3D%201%0Awhile%20i%20%3C%206%3A%0A%20%20print%28'Passando%20aqui...',%20i%20,%20'-%C3%A9sima%20vez'%29%0A%20%20i%20%2B%3D%201%20%20%20%20%20%20%20%20%20%20%20%20%20%23%20%3E%20o%20mesmo%20que%20i%20%3D%20i%20%2B%201&codeDivHeight=400&codeDivWidth=350&cumulative=false&curInstr=10&heapPrimitives=nevernest&origin=opt-frontend.js&py=3&rawInputLstJSON=%5B%5D&textReferences=false\"\n",
        "IFrame(url, width='1000', height=350)\n",
        "\n"
      ],
      "execution_count": null,
      "outputs": [
        {
          "output_type": "execute_result",
          "data": {
            "text/html": [
              "\n",
              "        <iframe\n",
              "            width=\"1000\"\n",
              "            height=\"350\"\n",
              "            src=\"https://pythontutor.com/iframe-embed.html#code=i%20%3D%201%0Awhile%20i%20%3C%206%3A%0A%20%20print%28'Passando%20aqui...',%20i%20,%20'-%C3%A9sima%20vez'%29%0A%20%20i%20%2B%3D%201%20%20%20%20%20%20%20%20%20%20%20%20%20%23%20%3E%20o%20mesmo%20que%20i%20%3D%20i%20%2B%201&codeDivHeight=400&codeDivWidth=350&cumulative=false&curInstr=10&heapPrimitives=nevernest&origin=opt-frontend.js&py=3&rawInputLstJSON=%5B%5D&textReferences=false\"\n",
              "            frameborder=\"0\"\n",
              "            allowfullscreen\n",
              "        ></iframe>\n",
              "        "
            ],
            "text/plain": [
              "<IPython.lib.display.IFrame at 0x7ff8c4bd77f0>"
            ]
          },
          "metadata": {
            "tags": []
          },
          "execution_count": 2
        }
      ]
    },
    {
      "cell_type": "markdown",
      "metadata": {
        "id": "kxhHxbpycwXi"
      },
      "source": [
        "As iterações também podem ser feitas sobre listas de valores, numéricos ou não."
      ]
    },
    {
      "cell_type": "code",
      "metadata": {
        "colab": {
          "base_uri": "https://localhost:8080/"
        },
        "id": "SPsO7IpDculz",
        "outputId": "36d4abf8-54fc-4f87-c990-14e0d9b7232e"
      },
      "source": [
        "for i in [12,18,84]:\n",
        "  print(i)\n",
        "\n",
        "for nome in ['Adriana','Daniel','Henrique']:\n",
        "  print(nome)    "
      ],
      "execution_count": null,
      "outputs": [
        {
          "output_type": "stream",
          "text": [
            "12\n",
            "18\n",
            "84\n",
            "Adriana\n",
            "Daniel\n",
            "Henrique\n"
          ],
          "name": "stdout"
        }
      ]
    },
    {
      "cell_type": "code",
      "source": [
        "grid = BlockGrid(15, 15, fill = colors.RosyBrown)\n",
        "\n",
        "linhas = [0,1,2,4,5,6,8,9,10]\n",
        "colunas= [0,1,5,9]\n",
        "\n",
        "for i in linhas:\n",
        "  for j in colunas:\n",
        "    grid[i,j] = colors.Blue\n",
        "    grid.flash(display_time=0.1)\n",
        "\n",
        "grid.show()"
      ],
      "metadata": {
        "colab": {
          "base_uri": "https://localhost:8080/",
          "height": 379
        },
        "id": "Gbqi54GzVgyW",
        "outputId": "99c6c863-4159-4e06-8185-8d34823b08d4"
      },
      "execution_count": null,
      "outputs": [
        {
          "output_type": "display_data",
          "data": {
            "text/html": [
              "<style type=\"text/css\">table.blockgrid {border: none;} .blockgrid tr {border: none;} .blockgrid td {padding: 0px;} #blocksc2f60408-0f16-460f-88de-e578170118fc td {border: 1px solid white;}</style><table id=\"blocksc2f60408-0f16-460f-88de-e578170118fc\" class=\"blockgrid\"><tbody><tr><td title=\"Index: [0, 0]&#10;Color: (0, 0, 255)\" style=\"width: 20px; height: 20px;background-color: rgb(0, 0, 255);\"></td><td title=\"Index: [0, 1]&#10;Color: (0, 0, 255)\" style=\"width: 20px; height: 20px;background-color: rgb(0, 0, 255);\"></td><td title=\"Index: [0, 2]&#10;Color: (188, 143, 143)\" style=\"width: 20px; height: 20px;background-color: rgb(188, 143, 143);\"></td><td title=\"Index: [0, 3]&#10;Color: (188, 143, 143)\" style=\"width: 20px; height: 20px;background-color: rgb(188, 143, 143);\"></td><td title=\"Index: [0, 4]&#10;Color: (188, 143, 143)\" style=\"width: 20px; height: 20px;background-color: rgb(188, 143, 143);\"></td><td title=\"Index: [0, 5]&#10;Color: (0, 0, 255)\" style=\"width: 20px; height: 20px;background-color: rgb(0, 0, 255);\"></td><td title=\"Index: [0, 6]&#10;Color: (188, 143, 143)\" style=\"width: 20px; height: 20px;background-color: rgb(188, 143, 143);\"></td><td title=\"Index: [0, 7]&#10;Color: (188, 143, 143)\" style=\"width: 20px; height: 20px;background-color: rgb(188, 143, 143);\"></td><td title=\"Index: [0, 8]&#10;Color: (188, 143, 143)\" style=\"width: 20px; height: 20px;background-color: rgb(188, 143, 143);\"></td><td title=\"Index: [0, 9]&#10;Color: (0, 0, 255)\" style=\"width: 20px; height: 20px;background-color: rgb(0, 0, 255);\"></td><td title=\"Index: [0, 10]&#10;Color: (188, 143, 143)\" style=\"width: 20px; height: 20px;background-color: rgb(188, 143, 143);\"></td><td title=\"Index: [0, 11]&#10;Color: (188, 143, 143)\" style=\"width: 20px; height: 20px;background-color: rgb(188, 143, 143);\"></td><td title=\"Index: [0, 12]&#10;Color: (188, 143, 143)\" style=\"width: 20px; height: 20px;background-color: rgb(188, 143, 143);\"></td><td title=\"Index: [0, 13]&#10;Color: (188, 143, 143)\" style=\"width: 20px; height: 20px;background-color: rgb(188, 143, 143);\"></td><td title=\"Index: [0, 14]&#10;Color: (188, 143, 143)\" style=\"width: 20px; height: 20px;background-color: rgb(188, 143, 143);\"></td></tr><tr><td title=\"Index: [1, 0]&#10;Color: (0, 0, 255)\" style=\"width: 20px; height: 20px;background-color: rgb(0, 0, 255);\"></td><td title=\"Index: [1, 1]&#10;Color: (0, 0, 255)\" style=\"width: 20px; height: 20px;background-color: rgb(0, 0, 255);\"></td><td title=\"Index: [1, 2]&#10;Color: (188, 143, 143)\" style=\"width: 20px; height: 20px;background-color: rgb(188, 143, 143);\"></td><td title=\"Index: [1, 3]&#10;Color: (188, 143, 143)\" style=\"width: 20px; height: 20px;background-color: rgb(188, 143, 143);\"></td><td title=\"Index: [1, 4]&#10;Color: (188, 143, 143)\" style=\"width: 20px; height: 20px;background-color: rgb(188, 143, 143);\"></td><td title=\"Index: [1, 5]&#10;Color: (0, 0, 255)\" style=\"width: 20px; height: 20px;background-color: rgb(0, 0, 255);\"></td><td title=\"Index: [1, 6]&#10;Color: (188, 143, 143)\" style=\"width: 20px; height: 20px;background-color: rgb(188, 143, 143);\"></td><td title=\"Index: [1, 7]&#10;Color: (188, 143, 143)\" style=\"width: 20px; height: 20px;background-color: rgb(188, 143, 143);\"></td><td title=\"Index: [1, 8]&#10;Color: (188, 143, 143)\" style=\"width: 20px; height: 20px;background-color: rgb(188, 143, 143);\"></td><td title=\"Index: [1, 9]&#10;Color: (0, 0, 255)\" style=\"width: 20px; height: 20px;background-color: rgb(0, 0, 255);\"></td><td title=\"Index: [1, 10]&#10;Color: (188, 143, 143)\" style=\"width: 20px; height: 20px;background-color: rgb(188, 143, 143);\"></td><td title=\"Index: [1, 11]&#10;Color: (188, 143, 143)\" style=\"width: 20px; height: 20px;background-color: rgb(188, 143, 143);\"></td><td title=\"Index: [1, 12]&#10;Color: (188, 143, 143)\" style=\"width: 20px; height: 20px;background-color: rgb(188, 143, 143);\"></td><td title=\"Index: [1, 13]&#10;Color: (188, 143, 143)\" style=\"width: 20px; height: 20px;background-color: rgb(188, 143, 143);\"></td><td title=\"Index: [1, 14]&#10;Color: (188, 143, 143)\" style=\"width: 20px; height: 20px;background-color: rgb(188, 143, 143);\"></td></tr><tr><td title=\"Index: [2, 0]&#10;Color: (0, 0, 255)\" style=\"width: 20px; height: 20px;background-color: rgb(0, 0, 255);\"></td><td title=\"Index: [2, 1]&#10;Color: (0, 0, 255)\" style=\"width: 20px; height: 20px;background-color: rgb(0, 0, 255);\"></td><td title=\"Index: [2, 2]&#10;Color: (188, 143, 143)\" style=\"width: 20px; height: 20px;background-color: rgb(188, 143, 143);\"></td><td title=\"Index: [2, 3]&#10;Color: (188, 143, 143)\" style=\"width: 20px; height: 20px;background-color: rgb(188, 143, 143);\"></td><td title=\"Index: [2, 4]&#10;Color: (188, 143, 143)\" style=\"width: 20px; height: 20px;background-color: rgb(188, 143, 143);\"></td><td title=\"Index: [2, 5]&#10;Color: (0, 0, 255)\" style=\"width: 20px; height: 20px;background-color: rgb(0, 0, 255);\"></td><td title=\"Index: [2, 6]&#10;Color: (188, 143, 143)\" style=\"width: 20px; height: 20px;background-color: rgb(188, 143, 143);\"></td><td title=\"Index: [2, 7]&#10;Color: (188, 143, 143)\" style=\"width: 20px; height: 20px;background-color: rgb(188, 143, 143);\"></td><td title=\"Index: [2, 8]&#10;Color: (188, 143, 143)\" style=\"width: 20px; height: 20px;background-color: rgb(188, 143, 143);\"></td><td title=\"Index: [2, 9]&#10;Color: (0, 0, 255)\" style=\"width: 20px; height: 20px;background-color: rgb(0, 0, 255);\"></td><td title=\"Index: [2, 10]&#10;Color: (188, 143, 143)\" style=\"width: 20px; height: 20px;background-color: rgb(188, 143, 143);\"></td><td title=\"Index: [2, 11]&#10;Color: (188, 143, 143)\" style=\"width: 20px; height: 20px;background-color: rgb(188, 143, 143);\"></td><td title=\"Index: [2, 12]&#10;Color: (188, 143, 143)\" style=\"width: 20px; height: 20px;background-color: rgb(188, 143, 143);\"></td><td title=\"Index: [2, 13]&#10;Color: (188, 143, 143)\" style=\"width: 20px; height: 20px;background-color: rgb(188, 143, 143);\"></td><td title=\"Index: [2, 14]&#10;Color: (188, 143, 143)\" style=\"width: 20px; height: 20px;background-color: rgb(188, 143, 143);\"></td></tr><tr><td title=\"Index: [3, 0]&#10;Color: (188, 143, 143)\" style=\"width: 20px; height: 20px;background-color: rgb(188, 143, 143);\"></td><td title=\"Index: [3, 1]&#10;Color: (188, 143, 143)\" style=\"width: 20px; height: 20px;background-color: rgb(188, 143, 143);\"></td><td title=\"Index: [3, 2]&#10;Color: (188, 143, 143)\" style=\"width: 20px; height: 20px;background-color: rgb(188, 143, 143);\"></td><td title=\"Index: [3, 3]&#10;Color: (188, 143, 143)\" style=\"width: 20px; height: 20px;background-color: rgb(188, 143, 143);\"></td><td title=\"Index: [3, 4]&#10;Color: (188, 143, 143)\" style=\"width: 20px; height: 20px;background-color: rgb(188, 143, 143);\"></td><td title=\"Index: [3, 5]&#10;Color: (188, 143, 143)\" style=\"width: 20px; height: 20px;background-color: rgb(188, 143, 143);\"></td><td title=\"Index: [3, 6]&#10;Color: (188, 143, 143)\" style=\"width: 20px; height: 20px;background-color: rgb(188, 143, 143);\"></td><td title=\"Index: [3, 7]&#10;Color: (188, 143, 143)\" style=\"width: 20px; height: 20px;background-color: rgb(188, 143, 143);\"></td><td title=\"Index: [3, 8]&#10;Color: (188, 143, 143)\" style=\"width: 20px; height: 20px;background-color: rgb(188, 143, 143);\"></td><td title=\"Index: [3, 9]&#10;Color: (188, 143, 143)\" style=\"width: 20px; height: 20px;background-color: rgb(188, 143, 143);\"></td><td title=\"Index: [3, 10]&#10;Color: (188, 143, 143)\" style=\"width: 20px; height: 20px;background-color: rgb(188, 143, 143);\"></td><td title=\"Index: [3, 11]&#10;Color: (188, 143, 143)\" style=\"width: 20px; height: 20px;background-color: rgb(188, 143, 143);\"></td><td title=\"Index: [3, 12]&#10;Color: (188, 143, 143)\" style=\"width: 20px; height: 20px;background-color: rgb(188, 143, 143);\"></td><td title=\"Index: [3, 13]&#10;Color: (188, 143, 143)\" style=\"width: 20px; height: 20px;background-color: rgb(188, 143, 143);\"></td><td title=\"Index: [3, 14]&#10;Color: (188, 143, 143)\" style=\"width: 20px; height: 20px;background-color: rgb(188, 143, 143);\"></td></tr><tr><td title=\"Index: [4, 0]&#10;Color: (0, 0, 255)\" style=\"width: 20px; height: 20px;background-color: rgb(0, 0, 255);\"></td><td title=\"Index: [4, 1]&#10;Color: (0, 0, 255)\" style=\"width: 20px; height: 20px;background-color: rgb(0, 0, 255);\"></td><td title=\"Index: [4, 2]&#10;Color: (188, 143, 143)\" style=\"width: 20px; height: 20px;background-color: rgb(188, 143, 143);\"></td><td title=\"Index: [4, 3]&#10;Color: (188, 143, 143)\" style=\"width: 20px; height: 20px;background-color: rgb(188, 143, 143);\"></td><td title=\"Index: [4, 4]&#10;Color: (188, 143, 143)\" style=\"width: 20px; height: 20px;background-color: rgb(188, 143, 143);\"></td><td title=\"Index: [4, 5]&#10;Color: (0, 0, 255)\" style=\"width: 20px; height: 20px;background-color: rgb(0, 0, 255);\"></td><td title=\"Index: [4, 6]&#10;Color: (188, 143, 143)\" style=\"width: 20px; height: 20px;background-color: rgb(188, 143, 143);\"></td><td title=\"Index: [4, 7]&#10;Color: (188, 143, 143)\" style=\"width: 20px; height: 20px;background-color: rgb(188, 143, 143);\"></td><td title=\"Index: [4, 8]&#10;Color: (188, 143, 143)\" style=\"width: 20px; height: 20px;background-color: rgb(188, 143, 143);\"></td><td title=\"Index: [4, 9]&#10;Color: (0, 0, 255)\" style=\"width: 20px; height: 20px;background-color: rgb(0, 0, 255);\"></td><td title=\"Index: [4, 10]&#10;Color: (188, 143, 143)\" style=\"width: 20px; height: 20px;background-color: rgb(188, 143, 143);\"></td><td title=\"Index: [4, 11]&#10;Color: (188, 143, 143)\" style=\"width: 20px; height: 20px;background-color: rgb(188, 143, 143);\"></td><td title=\"Index: [4, 12]&#10;Color: (188, 143, 143)\" style=\"width: 20px; height: 20px;background-color: rgb(188, 143, 143);\"></td><td title=\"Index: [4, 13]&#10;Color: (188, 143, 143)\" style=\"width: 20px; height: 20px;background-color: rgb(188, 143, 143);\"></td><td title=\"Index: [4, 14]&#10;Color: (188, 143, 143)\" style=\"width: 20px; height: 20px;background-color: rgb(188, 143, 143);\"></td></tr><tr><td title=\"Index: [5, 0]&#10;Color: (0, 0, 255)\" style=\"width: 20px; height: 20px;background-color: rgb(0, 0, 255);\"></td><td title=\"Index: [5, 1]&#10;Color: (0, 0, 255)\" style=\"width: 20px; height: 20px;background-color: rgb(0, 0, 255);\"></td><td title=\"Index: [5, 2]&#10;Color: (188, 143, 143)\" style=\"width: 20px; height: 20px;background-color: rgb(188, 143, 143);\"></td><td title=\"Index: [5, 3]&#10;Color: (188, 143, 143)\" style=\"width: 20px; height: 20px;background-color: rgb(188, 143, 143);\"></td><td title=\"Index: [5, 4]&#10;Color: (188, 143, 143)\" style=\"width: 20px; height: 20px;background-color: rgb(188, 143, 143);\"></td><td title=\"Index: [5, 5]&#10;Color: (0, 0, 255)\" style=\"width: 20px; height: 20px;background-color: rgb(0, 0, 255);\"></td><td title=\"Index: [5, 6]&#10;Color: (188, 143, 143)\" style=\"width: 20px; height: 20px;background-color: rgb(188, 143, 143);\"></td><td title=\"Index: [5, 7]&#10;Color: (188, 143, 143)\" style=\"width: 20px; height: 20px;background-color: rgb(188, 143, 143);\"></td><td title=\"Index: [5, 8]&#10;Color: (188, 143, 143)\" style=\"width: 20px; height: 20px;background-color: rgb(188, 143, 143);\"></td><td title=\"Index: [5, 9]&#10;Color: (0, 0, 255)\" style=\"width: 20px; height: 20px;background-color: rgb(0, 0, 255);\"></td><td title=\"Index: [5, 10]&#10;Color: (188, 143, 143)\" style=\"width: 20px; height: 20px;background-color: rgb(188, 143, 143);\"></td><td title=\"Index: [5, 11]&#10;Color: (188, 143, 143)\" style=\"width: 20px; height: 20px;background-color: rgb(188, 143, 143);\"></td><td title=\"Index: [5, 12]&#10;Color: (188, 143, 143)\" style=\"width: 20px; height: 20px;background-color: rgb(188, 143, 143);\"></td><td title=\"Index: [5, 13]&#10;Color: (188, 143, 143)\" style=\"width: 20px; height: 20px;background-color: rgb(188, 143, 143);\"></td><td title=\"Index: [5, 14]&#10;Color: (188, 143, 143)\" style=\"width: 20px; height: 20px;background-color: rgb(188, 143, 143);\"></td></tr><tr><td title=\"Index: [6, 0]&#10;Color: (0, 0, 255)\" style=\"width: 20px; height: 20px;background-color: rgb(0, 0, 255);\"></td><td title=\"Index: [6, 1]&#10;Color: (0, 0, 255)\" style=\"width: 20px; height: 20px;background-color: rgb(0, 0, 255);\"></td><td title=\"Index: [6, 2]&#10;Color: (188, 143, 143)\" style=\"width: 20px; height: 20px;background-color: rgb(188, 143, 143);\"></td><td title=\"Index: [6, 3]&#10;Color: (188, 143, 143)\" style=\"width: 20px; height: 20px;background-color: rgb(188, 143, 143);\"></td><td title=\"Index: [6, 4]&#10;Color: (188, 143, 143)\" style=\"width: 20px; height: 20px;background-color: rgb(188, 143, 143);\"></td><td title=\"Index: [6, 5]&#10;Color: (0, 0, 255)\" style=\"width: 20px; height: 20px;background-color: rgb(0, 0, 255);\"></td><td title=\"Index: [6, 6]&#10;Color: (188, 143, 143)\" style=\"width: 20px; height: 20px;background-color: rgb(188, 143, 143);\"></td><td title=\"Index: [6, 7]&#10;Color: (188, 143, 143)\" style=\"width: 20px; height: 20px;background-color: rgb(188, 143, 143);\"></td><td title=\"Index: [6, 8]&#10;Color: (188, 143, 143)\" style=\"width: 20px; height: 20px;background-color: rgb(188, 143, 143);\"></td><td title=\"Index: [6, 9]&#10;Color: (0, 0, 255)\" style=\"width: 20px; height: 20px;background-color: rgb(0, 0, 255);\"></td><td title=\"Index: [6, 10]&#10;Color: (188, 143, 143)\" style=\"width: 20px; height: 20px;background-color: rgb(188, 143, 143);\"></td><td title=\"Index: [6, 11]&#10;Color: (188, 143, 143)\" style=\"width: 20px; height: 20px;background-color: rgb(188, 143, 143);\"></td><td title=\"Index: [6, 12]&#10;Color: (188, 143, 143)\" style=\"width: 20px; height: 20px;background-color: rgb(188, 143, 143);\"></td><td title=\"Index: [6, 13]&#10;Color: (188, 143, 143)\" style=\"width: 20px; height: 20px;background-color: rgb(188, 143, 143);\"></td><td title=\"Index: [6, 14]&#10;Color: (188, 143, 143)\" style=\"width: 20px; height: 20px;background-color: rgb(188, 143, 143);\"></td></tr><tr><td title=\"Index: [7, 0]&#10;Color: (188, 143, 143)\" style=\"width: 20px; height: 20px;background-color: rgb(188, 143, 143);\"></td><td title=\"Index: [7, 1]&#10;Color: (188, 143, 143)\" style=\"width: 20px; height: 20px;background-color: rgb(188, 143, 143);\"></td><td title=\"Index: [7, 2]&#10;Color: (188, 143, 143)\" style=\"width: 20px; height: 20px;background-color: rgb(188, 143, 143);\"></td><td title=\"Index: [7, 3]&#10;Color: (188, 143, 143)\" style=\"width: 20px; height: 20px;background-color: rgb(188, 143, 143);\"></td><td title=\"Index: [7, 4]&#10;Color: (188, 143, 143)\" style=\"width: 20px; height: 20px;background-color: rgb(188, 143, 143);\"></td><td title=\"Index: [7, 5]&#10;Color: (188, 143, 143)\" style=\"width: 20px; height: 20px;background-color: rgb(188, 143, 143);\"></td><td title=\"Index: [7, 6]&#10;Color: (188, 143, 143)\" style=\"width: 20px; height: 20px;background-color: rgb(188, 143, 143);\"></td><td title=\"Index: [7, 7]&#10;Color: (188, 143, 143)\" style=\"width: 20px; height: 20px;background-color: rgb(188, 143, 143);\"></td><td title=\"Index: [7, 8]&#10;Color: (188, 143, 143)\" style=\"width: 20px; height: 20px;background-color: rgb(188, 143, 143);\"></td><td title=\"Index: [7, 9]&#10;Color: (188, 143, 143)\" style=\"width: 20px; height: 20px;background-color: rgb(188, 143, 143);\"></td><td title=\"Index: [7, 10]&#10;Color: (188, 143, 143)\" style=\"width: 20px; height: 20px;background-color: rgb(188, 143, 143);\"></td><td title=\"Index: [7, 11]&#10;Color: (188, 143, 143)\" style=\"width: 20px; height: 20px;background-color: rgb(188, 143, 143);\"></td><td title=\"Index: [7, 12]&#10;Color: (188, 143, 143)\" style=\"width: 20px; height: 20px;background-color: rgb(188, 143, 143);\"></td><td title=\"Index: [7, 13]&#10;Color: (188, 143, 143)\" style=\"width: 20px; height: 20px;background-color: rgb(188, 143, 143);\"></td><td title=\"Index: [7, 14]&#10;Color: (188, 143, 143)\" style=\"width: 20px; height: 20px;background-color: rgb(188, 143, 143);\"></td></tr><tr><td title=\"Index: [8, 0]&#10;Color: (0, 0, 255)\" style=\"width: 20px; height: 20px;background-color: rgb(0, 0, 255);\"></td><td title=\"Index: [8, 1]&#10;Color: (0, 0, 255)\" style=\"width: 20px; height: 20px;background-color: rgb(0, 0, 255);\"></td><td title=\"Index: [8, 2]&#10;Color: (188, 143, 143)\" style=\"width: 20px; height: 20px;background-color: rgb(188, 143, 143);\"></td><td title=\"Index: [8, 3]&#10;Color: (188, 143, 143)\" style=\"width: 20px; height: 20px;background-color: rgb(188, 143, 143);\"></td><td title=\"Index: [8, 4]&#10;Color: (188, 143, 143)\" style=\"width: 20px; height: 20px;background-color: rgb(188, 143, 143);\"></td><td title=\"Index: [8, 5]&#10;Color: (0, 0, 255)\" style=\"width: 20px; height: 20px;background-color: rgb(0, 0, 255);\"></td><td title=\"Index: [8, 6]&#10;Color: (188, 143, 143)\" style=\"width: 20px; height: 20px;background-color: rgb(188, 143, 143);\"></td><td title=\"Index: [8, 7]&#10;Color: (188, 143, 143)\" style=\"width: 20px; height: 20px;background-color: rgb(188, 143, 143);\"></td><td title=\"Index: [8, 8]&#10;Color: (188, 143, 143)\" style=\"width: 20px; height: 20px;background-color: rgb(188, 143, 143);\"></td><td title=\"Index: [8, 9]&#10;Color: (0, 0, 255)\" style=\"width: 20px; height: 20px;background-color: rgb(0, 0, 255);\"></td><td title=\"Index: [8, 10]&#10;Color: (188, 143, 143)\" style=\"width: 20px; height: 20px;background-color: rgb(188, 143, 143);\"></td><td title=\"Index: [8, 11]&#10;Color: (188, 143, 143)\" style=\"width: 20px; height: 20px;background-color: rgb(188, 143, 143);\"></td><td title=\"Index: [8, 12]&#10;Color: (188, 143, 143)\" style=\"width: 20px; height: 20px;background-color: rgb(188, 143, 143);\"></td><td title=\"Index: [8, 13]&#10;Color: (188, 143, 143)\" style=\"width: 20px; height: 20px;background-color: rgb(188, 143, 143);\"></td><td title=\"Index: [8, 14]&#10;Color: (188, 143, 143)\" style=\"width: 20px; height: 20px;background-color: rgb(188, 143, 143);\"></td></tr><tr><td title=\"Index: [9, 0]&#10;Color: (0, 0, 255)\" style=\"width: 20px; height: 20px;background-color: rgb(0, 0, 255);\"></td><td title=\"Index: [9, 1]&#10;Color: (0, 0, 255)\" style=\"width: 20px; height: 20px;background-color: rgb(0, 0, 255);\"></td><td title=\"Index: [9, 2]&#10;Color: (188, 143, 143)\" style=\"width: 20px; height: 20px;background-color: rgb(188, 143, 143);\"></td><td title=\"Index: [9, 3]&#10;Color: (188, 143, 143)\" style=\"width: 20px; height: 20px;background-color: rgb(188, 143, 143);\"></td><td title=\"Index: [9, 4]&#10;Color: (188, 143, 143)\" style=\"width: 20px; height: 20px;background-color: rgb(188, 143, 143);\"></td><td title=\"Index: [9, 5]&#10;Color: (0, 0, 255)\" style=\"width: 20px; height: 20px;background-color: rgb(0, 0, 255);\"></td><td title=\"Index: [9, 6]&#10;Color: (188, 143, 143)\" style=\"width: 20px; height: 20px;background-color: rgb(188, 143, 143);\"></td><td title=\"Index: [9, 7]&#10;Color: (188, 143, 143)\" style=\"width: 20px; height: 20px;background-color: rgb(188, 143, 143);\"></td><td title=\"Index: [9, 8]&#10;Color: (188, 143, 143)\" style=\"width: 20px; height: 20px;background-color: rgb(188, 143, 143);\"></td><td title=\"Index: [9, 9]&#10;Color: (0, 0, 255)\" style=\"width: 20px; height: 20px;background-color: rgb(0, 0, 255);\"></td><td title=\"Index: [9, 10]&#10;Color: (188, 143, 143)\" style=\"width: 20px; height: 20px;background-color: rgb(188, 143, 143);\"></td><td title=\"Index: [9, 11]&#10;Color: (188, 143, 143)\" style=\"width: 20px; height: 20px;background-color: rgb(188, 143, 143);\"></td><td title=\"Index: [9, 12]&#10;Color: (188, 143, 143)\" style=\"width: 20px; height: 20px;background-color: rgb(188, 143, 143);\"></td><td title=\"Index: [9, 13]&#10;Color: (188, 143, 143)\" style=\"width: 20px; height: 20px;background-color: rgb(188, 143, 143);\"></td><td title=\"Index: [9, 14]&#10;Color: (188, 143, 143)\" style=\"width: 20px; height: 20px;background-color: rgb(188, 143, 143);\"></td></tr><tr><td title=\"Index: [10, 0]&#10;Color: (0, 0, 255)\" style=\"width: 20px; height: 20px;background-color: rgb(0, 0, 255);\"></td><td title=\"Index: [10, 1]&#10;Color: (0, 0, 255)\" style=\"width: 20px; height: 20px;background-color: rgb(0, 0, 255);\"></td><td title=\"Index: [10, 2]&#10;Color: (188, 143, 143)\" style=\"width: 20px; height: 20px;background-color: rgb(188, 143, 143);\"></td><td title=\"Index: [10, 3]&#10;Color: (188, 143, 143)\" style=\"width: 20px; height: 20px;background-color: rgb(188, 143, 143);\"></td><td title=\"Index: [10, 4]&#10;Color: (188, 143, 143)\" style=\"width: 20px; height: 20px;background-color: rgb(188, 143, 143);\"></td><td title=\"Index: [10, 5]&#10;Color: (0, 0, 255)\" style=\"width: 20px; height: 20px;background-color: rgb(0, 0, 255);\"></td><td title=\"Index: [10, 6]&#10;Color: (188, 143, 143)\" style=\"width: 20px; height: 20px;background-color: rgb(188, 143, 143);\"></td><td title=\"Index: [10, 7]&#10;Color: (188, 143, 143)\" style=\"width: 20px; height: 20px;background-color: rgb(188, 143, 143);\"></td><td title=\"Index: [10, 8]&#10;Color: (188, 143, 143)\" style=\"width: 20px; height: 20px;background-color: rgb(188, 143, 143);\"></td><td title=\"Index: [10, 9]&#10;Color: (0, 0, 255)\" style=\"width: 20px; height: 20px;background-color: rgb(0, 0, 255);\"></td><td title=\"Index: [10, 10]&#10;Color: (188, 143, 143)\" style=\"width: 20px; height: 20px;background-color: rgb(188, 143, 143);\"></td><td title=\"Index: [10, 11]&#10;Color: (188, 143, 143)\" style=\"width: 20px; height: 20px;background-color: rgb(188, 143, 143);\"></td><td title=\"Index: [10, 12]&#10;Color: (188, 143, 143)\" style=\"width: 20px; height: 20px;background-color: rgb(188, 143, 143);\"></td><td title=\"Index: [10, 13]&#10;Color: (188, 143, 143)\" style=\"width: 20px; height: 20px;background-color: rgb(188, 143, 143);\"></td><td title=\"Index: [10, 14]&#10;Color: (188, 143, 143)\" style=\"width: 20px; height: 20px;background-color: rgb(188, 143, 143);\"></td></tr><tr><td title=\"Index: [11, 0]&#10;Color: (188, 143, 143)\" style=\"width: 20px; height: 20px;background-color: rgb(188, 143, 143);\"></td><td title=\"Index: [11, 1]&#10;Color: (188, 143, 143)\" style=\"width: 20px; height: 20px;background-color: rgb(188, 143, 143);\"></td><td title=\"Index: [11, 2]&#10;Color: (188, 143, 143)\" style=\"width: 20px; height: 20px;background-color: rgb(188, 143, 143);\"></td><td title=\"Index: [11, 3]&#10;Color: (188, 143, 143)\" style=\"width: 20px; height: 20px;background-color: rgb(188, 143, 143);\"></td><td title=\"Index: [11, 4]&#10;Color: (188, 143, 143)\" style=\"width: 20px; height: 20px;background-color: rgb(188, 143, 143);\"></td><td title=\"Index: [11, 5]&#10;Color: (188, 143, 143)\" style=\"width: 20px; height: 20px;background-color: rgb(188, 143, 143);\"></td><td title=\"Index: [11, 6]&#10;Color: (188, 143, 143)\" style=\"width: 20px; height: 20px;background-color: rgb(188, 143, 143);\"></td><td title=\"Index: [11, 7]&#10;Color: (188, 143, 143)\" style=\"width: 20px; height: 20px;background-color: rgb(188, 143, 143);\"></td><td title=\"Index: [11, 8]&#10;Color: (188, 143, 143)\" style=\"width: 20px; height: 20px;background-color: rgb(188, 143, 143);\"></td><td title=\"Index: [11, 9]&#10;Color: (188, 143, 143)\" style=\"width: 20px; height: 20px;background-color: rgb(188, 143, 143);\"></td><td title=\"Index: [11, 10]&#10;Color: (188, 143, 143)\" style=\"width: 20px; height: 20px;background-color: rgb(188, 143, 143);\"></td><td title=\"Index: [11, 11]&#10;Color: (188, 143, 143)\" style=\"width: 20px; height: 20px;background-color: rgb(188, 143, 143);\"></td><td title=\"Index: [11, 12]&#10;Color: (188, 143, 143)\" style=\"width: 20px; height: 20px;background-color: rgb(188, 143, 143);\"></td><td title=\"Index: [11, 13]&#10;Color: (188, 143, 143)\" style=\"width: 20px; height: 20px;background-color: rgb(188, 143, 143);\"></td><td title=\"Index: [11, 14]&#10;Color: (188, 143, 143)\" style=\"width: 20px; height: 20px;background-color: rgb(188, 143, 143);\"></td></tr><tr><td title=\"Index: [12, 0]&#10;Color: (188, 143, 143)\" style=\"width: 20px; height: 20px;background-color: rgb(188, 143, 143);\"></td><td title=\"Index: [12, 1]&#10;Color: (188, 143, 143)\" style=\"width: 20px; height: 20px;background-color: rgb(188, 143, 143);\"></td><td title=\"Index: [12, 2]&#10;Color: (188, 143, 143)\" style=\"width: 20px; height: 20px;background-color: rgb(188, 143, 143);\"></td><td title=\"Index: [12, 3]&#10;Color: (188, 143, 143)\" style=\"width: 20px; height: 20px;background-color: rgb(188, 143, 143);\"></td><td title=\"Index: [12, 4]&#10;Color: (188, 143, 143)\" style=\"width: 20px; height: 20px;background-color: rgb(188, 143, 143);\"></td><td title=\"Index: [12, 5]&#10;Color: (188, 143, 143)\" style=\"width: 20px; height: 20px;background-color: rgb(188, 143, 143);\"></td><td title=\"Index: [12, 6]&#10;Color: (188, 143, 143)\" style=\"width: 20px; height: 20px;background-color: rgb(188, 143, 143);\"></td><td title=\"Index: [12, 7]&#10;Color: (188, 143, 143)\" style=\"width: 20px; height: 20px;background-color: rgb(188, 143, 143);\"></td><td title=\"Index: [12, 8]&#10;Color: (188, 143, 143)\" style=\"width: 20px; height: 20px;background-color: rgb(188, 143, 143);\"></td><td title=\"Index: [12, 9]&#10;Color: (188, 143, 143)\" style=\"width: 20px; height: 20px;background-color: rgb(188, 143, 143);\"></td><td title=\"Index: [12, 10]&#10;Color: (188, 143, 143)\" style=\"width: 20px; height: 20px;background-color: rgb(188, 143, 143);\"></td><td title=\"Index: [12, 11]&#10;Color: (188, 143, 143)\" style=\"width: 20px; height: 20px;background-color: rgb(188, 143, 143);\"></td><td title=\"Index: [12, 12]&#10;Color: (188, 143, 143)\" style=\"width: 20px; height: 20px;background-color: rgb(188, 143, 143);\"></td><td title=\"Index: [12, 13]&#10;Color: (188, 143, 143)\" style=\"width: 20px; height: 20px;background-color: rgb(188, 143, 143);\"></td><td title=\"Index: [12, 14]&#10;Color: (188, 143, 143)\" style=\"width: 20px; height: 20px;background-color: rgb(188, 143, 143);\"></td></tr><tr><td title=\"Index: [13, 0]&#10;Color: (188, 143, 143)\" style=\"width: 20px; height: 20px;background-color: rgb(188, 143, 143);\"></td><td title=\"Index: [13, 1]&#10;Color: (188, 143, 143)\" style=\"width: 20px; height: 20px;background-color: rgb(188, 143, 143);\"></td><td title=\"Index: [13, 2]&#10;Color: (188, 143, 143)\" style=\"width: 20px; height: 20px;background-color: rgb(188, 143, 143);\"></td><td title=\"Index: [13, 3]&#10;Color: (188, 143, 143)\" style=\"width: 20px; height: 20px;background-color: rgb(188, 143, 143);\"></td><td title=\"Index: [13, 4]&#10;Color: (188, 143, 143)\" style=\"width: 20px; height: 20px;background-color: rgb(188, 143, 143);\"></td><td title=\"Index: [13, 5]&#10;Color: (188, 143, 143)\" style=\"width: 20px; height: 20px;background-color: rgb(188, 143, 143);\"></td><td title=\"Index: [13, 6]&#10;Color: (188, 143, 143)\" style=\"width: 20px; height: 20px;background-color: rgb(188, 143, 143);\"></td><td title=\"Index: [13, 7]&#10;Color: (188, 143, 143)\" style=\"width: 20px; height: 20px;background-color: rgb(188, 143, 143);\"></td><td title=\"Index: [13, 8]&#10;Color: (188, 143, 143)\" style=\"width: 20px; height: 20px;background-color: rgb(188, 143, 143);\"></td><td title=\"Index: [13, 9]&#10;Color: (188, 143, 143)\" style=\"width: 20px; height: 20px;background-color: rgb(188, 143, 143);\"></td><td title=\"Index: [13, 10]&#10;Color: (188, 143, 143)\" style=\"width: 20px; height: 20px;background-color: rgb(188, 143, 143);\"></td><td title=\"Index: [13, 11]&#10;Color: (188, 143, 143)\" style=\"width: 20px; height: 20px;background-color: rgb(188, 143, 143);\"></td><td title=\"Index: [13, 12]&#10;Color: (188, 143, 143)\" style=\"width: 20px; height: 20px;background-color: rgb(188, 143, 143);\"></td><td title=\"Index: [13, 13]&#10;Color: (188, 143, 143)\" style=\"width: 20px; height: 20px;background-color: rgb(188, 143, 143);\"></td><td title=\"Index: [13, 14]&#10;Color: (188, 143, 143)\" style=\"width: 20px; height: 20px;background-color: rgb(188, 143, 143);\"></td></tr><tr><td title=\"Index: [14, 0]&#10;Color: (188, 143, 143)\" style=\"width: 20px; height: 20px;background-color: rgb(188, 143, 143);\"></td><td title=\"Index: [14, 1]&#10;Color: (188, 143, 143)\" style=\"width: 20px; height: 20px;background-color: rgb(188, 143, 143);\"></td><td title=\"Index: [14, 2]&#10;Color: (188, 143, 143)\" style=\"width: 20px; height: 20px;background-color: rgb(188, 143, 143);\"></td><td title=\"Index: [14, 3]&#10;Color: (188, 143, 143)\" style=\"width: 20px; height: 20px;background-color: rgb(188, 143, 143);\"></td><td title=\"Index: [14, 4]&#10;Color: (188, 143, 143)\" style=\"width: 20px; height: 20px;background-color: rgb(188, 143, 143);\"></td><td title=\"Index: [14, 5]&#10;Color: (188, 143, 143)\" style=\"width: 20px; height: 20px;background-color: rgb(188, 143, 143);\"></td><td title=\"Index: [14, 6]&#10;Color: (188, 143, 143)\" style=\"width: 20px; height: 20px;background-color: rgb(188, 143, 143);\"></td><td title=\"Index: [14, 7]&#10;Color: (188, 143, 143)\" style=\"width: 20px; height: 20px;background-color: rgb(188, 143, 143);\"></td><td title=\"Index: [14, 8]&#10;Color: (188, 143, 143)\" style=\"width: 20px; height: 20px;background-color: rgb(188, 143, 143);\"></td><td title=\"Index: [14, 9]&#10;Color: (188, 143, 143)\" style=\"width: 20px; height: 20px;background-color: rgb(188, 143, 143);\"></td><td title=\"Index: [14, 10]&#10;Color: (188, 143, 143)\" style=\"width: 20px; height: 20px;background-color: rgb(188, 143, 143);\"></td><td title=\"Index: [14, 11]&#10;Color: (188, 143, 143)\" style=\"width: 20px; height: 20px;background-color: rgb(188, 143, 143);\"></td><td title=\"Index: [14, 12]&#10;Color: (188, 143, 143)\" style=\"width: 20px; height: 20px;background-color: rgb(188, 143, 143);\"></td><td title=\"Index: [14, 13]&#10;Color: (188, 143, 143)\" style=\"width: 20px; height: 20px;background-color: rgb(188, 143, 143);\"></td><td title=\"Index: [14, 14]&#10;Color: (188, 143, 143)\" style=\"width: 20px; height: 20px;background-color: rgb(188, 143, 143);\"></td></tr></tbody></table>"
            ],
            "text/plain": [
              "<IPython.core.display.HTML object>"
            ]
          },
          "metadata": {}
        }
      ]
    },
    {
      "cell_type": "code",
      "source": [
        ""
      ],
      "metadata": {
        "id": "jAjXWDUrfHBA"
      },
      "execution_count": null,
      "outputs": []
    },
    {
      "cell_type": "markdown",
      "source": [
        "## ***Tente você***:\n",
        "\n",
        "> Elabore um programa que calcule e apresente o valor de S, dado por:\n",
        "\n",
        "$$𝑆 = \\frac{1}{N} + \\frac{2}{N-1} + \\frac{3}{N-2} + ... + \\frac{N-1}{2} + N$$\n",
        "\n",
        "Sendo N fornecido."
      ],
      "metadata": {
        "id": "8OvHShtRfIWH"
      }
    },
    {
      "cell_type": "markdown",
      "source": [
        "Double-Click **aqui** para ver a solução \n",
        "<!--\n",
        "n = int(input(\"Digite o valor de n: \"))\n",
        "S = 0\n",
        "denominador = n\n",
        "\n",
        "for i in range(1,n+1,1):  \n",
        "    # print(\"termo\",i ,\"=\",i,\"/\",denominador)\n",
        "    \n",
        "    S = S + i/denominador\n",
        "    denominador = denominador - 1\n",
        "\n",
        "print(\"\\nA soma é\", \"%.2f\" %S)\n",
        "-->"
      ],
      "metadata": {
        "id": "McbJslOahDFH"
      }
    },
    {
      "cell_type": "markdown",
      "source": [
        "## ***Tente você***: \n",
        "\n",
        "> *Crie um tabuleiro de xadrez ou damas pintando de branco e preto as respectivas casas do tabuleiro.*\n"
      ],
      "metadata": {
        "id": "1SucvESuXJ_U"
      }
    },
    {
      "cell_type": "markdown",
      "source": [
        "Double-Click **aqui** para ver a solução \n",
        "<!--\n",
        "grid = BlockGrid(8, 8, fill = colors.RosyBrown)\n",
        "\n",
        "for i in range(8):\n",
        "  for j in range(8):\n",
        "    if (i%2 == 0 and j%2 == 0) or (i%2 != 0 and j%2 != 0):\n",
        "      grid[i,j] = colors.Black\n",
        "    else:\n",
        "      grid[i,j] = colors.White\n",
        "\n",
        "grid.show()\n",
        "-->"
      ],
      "metadata": {
        "id": "lCyz7X6EYPXO"
      }
    },
    {
      "cell_type": "markdown",
      "metadata": {
        "id": "5incAwfJouWS"
      },
      "source": [
        "## Funções\n",
        "\n",
        "As funções são declaradas com o comando `def`. As variáveis de uma função tem escopo local, mas elas podem também acessar variáveis globais do seu programa.\n"
      ]
    },
    {
      "cell_type": "code",
      "metadata": {
        "id": "43Mk7FeNouWU",
        "colab": {
          "base_uri": "https://localhost:8080/",
          "height": 34
        },
        "outputId": "7a295374-02c4-4bf7-ca1a-237e23dc5a76"
      },
      "source": [
        "\n",
        "def mymax(a,b):\n",
        "  if a > b:\n",
        "    return a\n",
        "  else:\n",
        "    return b\n",
        "\n",
        "mymax(1984,1964)"
      ],
      "execution_count": null,
      "outputs": [
        {
          "output_type": "execute_result",
          "data": {
            "text/plain": [
              "1984"
            ]
          },
          "metadata": {
            "tags": []
          },
          "execution_count": 43
        }
      ]
    },
    {
      "cell_type": "markdown",
      "source": [
        "## ***Discussão***: Por que usar funções? "
      ],
      "metadata": {
        "id": "-FQT51xpYfb2"
      }
    },
    {
      "cell_type": "markdown",
      "metadata": {
        "id": "rSR3gzKFPRcH"
      },
      "source": [
        "## Coleções de Dados Básicas\n",
        "\n",
        "Coleções de dados como `Lists`, `Sets`, `Tuples` e `Dictionary` desempenham um papel fundamental tanto para programação em geral como para aplicações gerais como análise de dados. \n",
        "\n",
        "Existem quatro tipos básicos de coleções em Python:\n",
        "\n",
        "- Lista (**list**) é uma coleção que é ordenada e mutável. Permite membros duplicados.\n",
        "- Tupla (**tuple**) é uma coleção que é ordenada e imutável. Permite membros duplicados.\n",
        "- Conjunto (**set**) é uma coleção não ordenada e não indexada. Nenhum membro duplicado.\n",
        "- Dicionário (**dictionary**) é uma coleção desordenada, mutável e indexada. Nenhum membro duplicado.\n",
        "\n",
        "Vamos nos deter aqui apenas nas estruturas de listas e dicionários que terão mais utilidade para os nossos propósitos."
      ]
    },
    {
      "cell_type": "markdown",
      "metadata": {
        "id": "tECT16U2ouVX"
      },
      "source": [
        "### List\n",
        "\n",
        "Lista (**list**) é uma coleção que é **ordenada** e **mutável**. Permite membros **duplicados**. Associada a lista você encontra uma série métodos que implementam funções úteis para esses objetos. "
      ]
    },
    {
      "cell_type": "code",
      "metadata": {
        "id": "ee3FM2LxR5Ot"
      },
      "source": [
        "mylist = ['A', 'B', 'C', 'A', 'B']\n",
        "\n",
        "# Empregue...\n",
        "# > help(mylist) \n",
        "# para ver todos os métodos associados a listas\n"
      ],
      "execution_count": null,
      "outputs": []
    },
    {
      "cell_type": "code",
      "metadata": {
        "id": "EkLCApTBouVe",
        "colab": {
          "base_uri": "https://localhost:8080/"
        },
        "outputId": "c1e25fb0-b535-46ee-f010-5dc60486b3f2"
      },
      "source": [
        "# Métodos comuns associados a listas\n",
        "len(mylist)\n",
        "print(mylist.count('B'))\n",
        "print(mylist.index('B'))\n",
        "print(mylist.index('B', 2))\n",
        "mylist.append('D')\n",
        "print(mylist, 'depois de inserir D')\n",
        "mylist.sort() \n",
        "print(mylist, 'depois de ordenar a lista')\n",
        "mylist[1] = 'ZZ'\n",
        "print(mylist, 'depois de alterar o elementos de índice 1')\n",
        "\n",
        "print('A' in mylist)\n",
        "if 'A' in mylist:\n",
        "  print('Sim, A está na lista')\n"
      ],
      "execution_count": null,
      "outputs": [
        {
          "output_type": "stream",
          "text": [
            "2\n",
            "2\n",
            "2\n",
            "['A', 'ZZ', 'B', 'B', 'C', 'D', 'D'] depois de inserir D\n",
            "['A', 'B', 'B', 'C', 'D', 'D', 'ZZ'] depois de ordenar a lista\n",
            "['A', 'ZZ', 'B', 'C', 'D', 'D', 'ZZ'] depois de alterar o elementos de índice 1\n",
            "True\n",
            "Sim, A está na lista\n"
          ],
          "name": "stdout"
        }
      ]
    },
    {
      "cell_type": "markdown",
      "metadata": {
        "id": "DZHZn1Opfaj8"
      },
      "source": [
        "Listas podem conter quaisquer tipos de elementos, incluindo outras listas, e podem ser empregadas para implementar arrays numéricos embora, para operações eficientes sobre arrays numéricos, seja preferível empregar arrays do pacote `numpy`."
      ]
    },
    {
      "cell_type": "code",
      "metadata": {
        "colab": {
          "base_uri": "https://localhost:8080/"
        },
        "id": "XUgfLp0heou7",
        "outputId": "b2458ff8-f49b-418f-d1b6-79161ba12c2e"
      },
      "source": [
        "# Arrays numéricos\n",
        "mylist = [[1,2,3], [11,22,33], [9,9,9]]\n",
        "print(mylist[1])  # [11,22,33]\n",
        "print(mylist[1][0])  # 11\n",
        "\n",
        "# Arrays de quaisquer tipos de dados\n",
        "print([ [1,2,3], ['Adriana','Daniel','Henrique'], 3, 'Anna', 2.5 ])"
      ],
      "execution_count": null,
      "outputs": [
        {
          "output_type": "stream",
          "text": [
            "[11, 22, 33]\n",
            "11\n",
            "[[1, 2, 3], ['Adriana', 'Daniel', 'Henrique'], 3, 'Anna', 2.5]\n"
          ],
          "name": "stdout"
        }
      ]
    },
    {
      "cell_type": "markdown",
      "metadata": {
        "id": "Zn4bWeeuouVp"
      },
      "source": [
        "### Percorrendo listas\n",
        "\n",
        "Essa é uma operação que empregaremos bastante. Existem basicamente duas forma de percorrer uma lista.\n",
        "\n",
        "* **Por índice**, empregue quando precisar do índice (posição) ou alterar os elementos da lista\n",
        "\n",
        "* **Por iterador**, empregue apenas para recuperar (ler) os elementos (não permite alteração dos elementos ao percorrer a lista)\n",
        "\n",
        "A segunda forma não está disponível em linguagens como C ou Java, mas ela é a forma mais elegante e, se não for necessário alterar os elementos ou obter o índice ao percorrer a lista é o melhor modo a ser empregado.\n"
      ]
    },
    {
      "cell_type": "code",
      "metadata": {
        "id": "L2nN1HjGouVq",
        "colab": {
          "base_uri": "https://localhost:8080/"
        },
        "outputId": "b294a07c-827e-4aff-cd53-4aa117ed26cc"
      },
      "source": [
        "mylist = ['A', 'B', 'C', 'A', 'B']\n",
        " \n",
        "for i in range(len(mylist)):    # empregue esse modo para obter o índice ou alterar elementos ao percorrer a lista\n",
        "    print(i, mylist[i])\n",
        "\n",
        "for item in mylist:             # prefida esse modo se não precisar do índice ou de alterar os elementos ao percorrer a lista\n",
        "    print(item) \n",
        "    \n",
        "   "
      ],
      "execution_count": null,
      "outputs": [
        {
          "output_type": "stream",
          "text": [
            "0 A\n",
            "1 B\n",
            "2 C\n",
            "3 A\n",
            "4 B\n",
            "A\n",
            "B\n",
            "C\n",
            "A\n",
            "B\n"
          ],
          "name": "stdout"
        }
      ]
    },
    {
      "cell_type": "markdown",
      "source": [
        "## Percorrendo Listas com o Python Tutor"
      ],
      "metadata": {
        "id": "u1QA0x2lZXl_"
      }
    },
    {
      "cell_type": "code",
      "source": [
        "mylist = ['A', 'B', 'C', 'A', 'B']\n",
        " \n",
        "for i in range(len(mylist)):    # empregue esse modo para obter o índice ou alterar elementos ao percorrer a lista\n",
        "    print(i, mylist[i])"
      ],
      "metadata": {
        "id": "-bEbt_xCZcuX"
      },
      "execution_count": null,
      "outputs": []
    },
    {
      "cell_type": "code",
      "source": [
        "from IPython.display import IFrame\n",
        "url = \"https://pythontutor.com/visualize.html#code=mylist%20%3D%20%5B'A',%20'B',%20'C',%20'A',%20'B'%5D%0A%20%0Afor%20i%20in%20range%28len%28mylist%29%29%3A%20%20%20%20%23%20empregue%20esse%20modo%20para%20obter%20o%20%C3%ADndice%20ou%20alterar%20elementos%20ao%20percorrer%20a%20lista%0A%20%20%20%20print%28i,%20mylist%5Bi%5D%29&cumulative=false&curInstr=9&heapPrimitives=nevernest&mode=display&origin=opt-frontend.js&py=3&rawInputLstJSON=%5B%5D&textReferences=false\"\n",
        "IFrame(url, width='1000', height=350)\n",
        "\n"
      ],
      "metadata": {
        "id": "bpT4BoJvZsJH",
        "outputId": "5d34734b-0140-4546-97f2-043ce881a527",
        "colab": {
          "base_uri": "https://localhost:8080/",
          "height": 391
        }
      },
      "execution_count": null,
      "outputs": [
        {
          "output_type": "execute_result",
          "data": {
            "text/html": [
              "\n",
              "        <iframe\n",
              "            width=\"1000\"\n",
              "            height=\"350\"\n",
              "            src=\"https://pythontutor.com/visualize.html#code=mylist%20%3D%20%5B'A',%20'B',%20'C',%20'A',%20'B'%5D%0A%20%0Afor%20i%20in%20range%28len%28mylist%29%29%3A%20%20%20%20%23%20empregue%20esse%20modo%20para%20obter%20o%20%C3%ADndice%20ou%20alterar%20elementos%20ao%20percorrer%20a%20lista%0A%20%20%20%20print%28i,%20mylist%5Bi%5D%29&cumulative=false&curInstr=9&heapPrimitives=nevernest&mode=display&origin=opt-frontend.js&py=3&rawInputLstJSON=%5B%5D&textReferences=false\"\n",
              "            frameborder=\"0\"\n",
              "            allowfullscreen\n",
              "        ></iframe>\n",
              "        "
            ],
            "text/plain": [
              "<IPython.lib.display.IFrame at 0x7f2f8f976250>"
            ]
          },
          "metadata": {},
          "execution_count": 80
        }
      ]
    },
    {
      "cell_type": "markdown",
      "metadata": {
        "id": "sC5hqb0fZ3M1"
      },
      "source": [
        "E podemos empregar em conjunto com o método `append` visto antes para popular uma lista."
      ]
    },
    {
      "cell_type": "code",
      "metadata": {
        "id": "wkk_jCtGZ3M5",
        "colab": {
          "base_uri": "https://localhost:8080/"
        },
        "outputId": "39b2ed13-a6a6-45eb-f561-9f0cfc5be7df"
      },
      "source": [
        "mylist = []\n",
        " \n",
        "for elem in ['Beatriz', 'Henrique', 'Adriana', 'Daniel']:\n",
        "    mylist.append(elem)\n",
        "\n",
        "print(mylist)\n",
        "\n",
        "  "
      ],
      "execution_count": null,
      "outputs": [
        {
          "output_type": "stream",
          "text": [
            "['Beatriz', 'Henrique', 'Adriana', 'Daniel']\n"
          ],
          "name": "stdout"
        }
      ]
    },
    {
      "cell_type": "markdown",
      "metadata": {
        "id": "1fJXhUmiouV8"
      },
      "source": [
        "### Dictionary\n",
        "\n",
        "Dicionários (**dictionary**) são uma coleção desordenada, mutável e indexada em formato de `chave: valor`. Elas não tem nenhum membro duplicado, e se você já teve algum contato com uma estrutura de dados `JSON` essa é uma estrutura bastante semelhante em `Python`. O principal vantagem dos dicionário é permitir recuperar os valores diretamente a partir do valor de chave. \n"
      ]
    },
    {
      "cell_type": "code",
      "metadata": {
        "id": "_k8p8tFDouV9",
        "colab": {
          "base_uri": "https://localhost:8080/"
        },
        "outputId": "a584c927-d2fb-42ca-9983-cd0251714bb2"
      },
      "source": [
        "aniversarios = {'Beatriz':1978, 'Henrique':2004, 'Adriana':1984, 'Daniel':1996} \n",
        "  \n",
        "print(aniversarios.keys())\n",
        "print(aniversarios['Adriana'])   \n"
      ],
      "execution_count": null,
      "outputs": [
        {
          "output_type": "stream",
          "text": [
            "dict_keys(['Beatriz', 'Henrique', 'Adriana', 'Daniel'])\n",
            "1984\n"
          ],
          "name": "stdout"
        }
      ]
    },
    {
      "cell_type": "markdown",
      "metadata": {
        "id": "-SBVkxZriuSS"
      },
      "source": [
        "Assim como nas listas, os dicionários suportam quaiquer tipos de dados como valores."
      ]
    },
    {
      "cell_type": "code",
      "metadata": {
        "colab": {
          "base_uri": "https://localhost:8080/"
        },
        "id": "H9kUs8PXjHkz",
        "outputId": "1a0e286b-7f4f-4c4a-adb1-17ac4920c102"
      },
      "source": [
        "contatos = { 'Adriana': { 'aniversario': 1984, 'telefone': '6767-6868' , 'amigos': {'Henrique':2004, 'Anna':1988} } }\n",
        "\n",
        "print(contatos.keys())\n",
        "print(contatos['Adriana'])             \n",
        "print(contatos['Adriana']['amigos'])   \n"
      ],
      "execution_count": null,
      "outputs": [
        {
          "output_type": "stream",
          "text": [
            "dict_keys(['Adriana'])\n",
            "{'aniversario': 1984, 'telefone': '6767-6868', 'amigos': {'Henrique': 2004, 'Anna': 1988}}\n",
            "{'Henrique': 2004, 'Anna': 1988}\n"
          ],
          "name": "stdout"
        }
      ]
    },
    {
      "cell_type": "markdown",
      "metadata": {
        "id": "XmJSMfvmbQac"
      },
      "source": [
        "### Percorrendo um Dicionário  \n",
        "\n",
        "Do mesmo modo que listas é importante sabermos percorrer os elementos de um dicionário. "
      ]
    },
    {
      "cell_type": "code",
      "metadata": {
        "id": "ytthr2VQbZ3V",
        "colab": {
          "base_uri": "https://localhost:8080/"
        },
        "outputId": "ea22202d-726d-4c75-cbff-c3304738c50c"
      },
      "source": [
        "for key, item in aniversarios.items():\n",
        "    print(key, item)\n",
        "# ou\n",
        "for item in aniversarios:\n",
        "    print(item, aniversarios[item])    \n",
        "# ou      \n",
        "for key in aniversarios.keys():\n",
        "    print(key)   \n",
        "# ou      \n",
        "for item in aniversarios.values():\n",
        "    print(item)   \n"
      ],
      "execution_count": null,
      "outputs": [
        {
          "output_type": "stream",
          "text": [
            "Beatriz 1978\n",
            "Henrique 2004\n",
            "Adriana 1984\n",
            "Daniel 1996\n",
            "Beatriz 1978\n",
            "Henrique 2004\n",
            "Adriana 1984\n",
            "Daniel 1996\n",
            "Beatriz\n",
            "Henrique\n",
            "Adriana\n",
            "Daniel\n",
            "1978\n",
            "2004\n",
            "1984\n",
            "1996\n"
          ],
          "name": "stdout"
        }
      ]
    },
    {
      "cell_type": "markdown",
      "metadata": {
        "id": "iAnghYWGbsP2"
      },
      "source": [
        "### Populando um Dicionário "
      ]
    },
    {
      "cell_type": "code",
      "metadata": {
        "id": "on7R1B5Xb6IQ",
        "colab": {
          "base_uri": "https://localhost:8080/",
          "height": 34
        },
        "outputId": "2c85b4c5-99e5-457b-f6a6-9f5f69a16c59"
      },
      "source": [
        "lista_nomes = [ 'Carolina', 'Henrique' ]\n",
        "lista_niver = [ 2001, 2005 ]\n",
        "\n",
        "mydict = {}\n",
        "\n",
        "for i in range(len(lista_nomes)): \n",
        "  if lista_nomes[i] not in mydict.keys(): # Se não está no dicionário acrescenta\n",
        "    mydict[lista_nomes[i]] = lista_niver[i]\n",
        "\n",
        "if 'Kate' not in mydict.keys():           # Se não está no dicionário acrescenta\n",
        "  mydict['kate'] = 2002\n",
        "\n",
        "print(mydict)"
      ],
      "execution_count": null,
      "outputs": [
        {
          "output_type": "stream",
          "text": [
            "{'Carolina': 2001, 'Henrique': 2005, 'kate': 2002}\n"
          ],
          "name": "stdout"
        }
      ]
    },
    {
      "cell_type": "markdown",
      "metadata": {
        "id": "hlt2vO94ouWa"
      },
      "source": [
        "## File Handling\n",
        "\n",
        "Operações com arquivos tipo texto serão pouco comuns no nosso caso pois, na maior parte dos casos obteremos dados de tabelas e bases de dados em formato de `DataFrames` `Pandas`. De qualquer modo isso pode ser útil para você em algum caso. \n"
      ]
    },
    {
      "cell_type": "code",
      "metadata": {
        "id": "DEet1o7iouWc",
        "colab": {
          "base_uri": "https://localhost:8080/",
          "height": 34
        },
        "outputId": "0c4a3108-56a2-460f-a20f-b3056570b6ac"
      },
      "source": [
        "note = ['This is a note'] \n",
        "\n",
        "f = open(\"note.txt\", \"w\") \n",
        "for line in note:\n",
        "    f.write(line)\n",
        "f.close()\n",
        "\n",
        "f = open(\"note.txt\", \"r\")\n",
        "for line in f:\n",
        "    print(line)\n",
        "    \n"
      ],
      "execution_count": null,
      "outputs": [
        {
          "output_type": "stream",
          "text": [
            "This is a note\n"
          ],
          "name": "stdout"
        }
      ]
    },
    {
      "cell_type": "markdown",
      "metadata": {
        "id": "JKDJ6cQwouWg"
      },
      "source": [
        "Para acesso a arquivos desse tipo via internet (não locais) é necessário empregar a classe `urllib.request` e você, se tiver familiaridade com comando `Linux` ainda pode empregar o comando `!wget` em um notebook `Python` para fazer o download do arquivo e empregá-lo local como fizemos acima.\n",
        "\n"
      ]
    },
    {
      "cell_type": "code",
      "metadata": {
        "id": "eQhcsWvHouWj",
        "colab": {
          "base_uri": "https://localhost:8080/"
        },
        "outputId": "347df800-a61c-4c1d-d2e8-ec5958f2eb71"
      },
      "source": [
        "import urllib.request  \n",
        "\n",
        "data = urllib.request.urlopen('http://meusite.mackenzie.br/rogerio/TIC/PlayBallcsv.csv')\n",
        "\n",
        "for line in data:\n",
        "    print(line.decode('utf-8'))\n",
        "    break"
      ],
      "execution_count": null,
      "outputs": [
        {
          "output_type": "stream",
          "text": [
            "Day,Outlook,Temperature,Humidity,Wind,Play ball\r\n",
            "\n"
          ],
          "name": "stdout"
        }
      ]
    },
    {
      "cell_type": "markdown",
      "metadata": {
        "id": "_MR9xbCr2fR9"
      },
      "source": [
        "Este é um ponto que também, em cursos básicos de programação, ganha bastante atenção. Mas a maior parte dos dados que você irá empregar ao longo desta, e de outras componentes, empregam outras formas de arquivo (como Pandas ou mesmo dados em Bancos de Dados) e a leitura de arquivos sequenciais aqui será mais exceção que a regra aqui. São, assim, suficientes essas operações básicas. "
      ]
    },
    {
      "cell_type": "markdown",
      "metadata": {
        "id": "yCSClyJ8ouWs"
      },
      "source": [
        "# Numpy \n",
        "\n",
        "O `NumPy` é um pacote para computação científica em `Python` que dá suporte a arrays e matrizes multidimensionais e faz operações matemáticas de modo eficiente sobre essas estruturas.\n",
        "\n",
        "Na maior parte dos casos empregaremos as funções matemáticas do `NumPy` como operações para manipulação de matrizes e vetores, funções trigonométricas, estatísticas e de randomização. O `Pandas` o, pacote de manipulação de dados que empregamos, é construído sobre o `NumPy` e, assim, manipulações de séries de dados empregarão automaticamente a biblioteca `Numpy`.\n",
        "\n",
        "Não temos necessidade aqui de entender todas as operações de `Numpy` e um pequeno conjunto de operações será suficiente para nossos propósitos aqui. \n",
        "\n"
      ]
    },
    {
      "cell_type": "markdown",
      "metadata": {
        "id": "J4T0DNJLpW4T"
      },
      "source": [
        "## Criando arrays\n",
        "\n",
        "Os arrays podem ser de uma ou mais dimensões mas, diferentemente das listas, e como matrizes numéricas, todos elementos devem ter o mesmo tamanho e tipo. Eles são indexados iniciando por 0 e seguem as mesmas regras de indexação de listas e strings (o limite superior indicando o limite $<$ do range de valores a ser selecionado). "
      ]
    },
    {
      "cell_type": "code",
      "metadata": {
        "colab": {
          "base_uri": "https://localhost:8080/"
        },
        "id": "3jyv8q38pr0D",
        "outputId": "c89f6487-809f-4a99-d46b-404f3dd7ac36"
      },
      "source": [
        "import numpy as np\n",
        "\n",
        "array1D = np.array([1,2,3])\n",
        "array2D = np.array([[1,2,3,4],[11,12,13,14],[21,22,23,24]])\n",
        "\n",
        "print(array1D.ndim, array2D.ndim) # dimensões\n",
        "print(array1D.shape, array2D.shape) # tamanho de cada dimensão\n",
        "print(array1D)\n",
        "print(array2D)\n",
        "print(array1D[1])\n",
        "print(array2D[1:3])\n",
        "print(array2D[1][3])\n",
        "\n"
      ],
      "execution_count": null,
      "outputs": [
        {
          "output_type": "stream",
          "text": [
            "1 2\n",
            "(3,) (3, 4)\n",
            "[1 2 3]\n",
            "[[ 1  2  3  4]\n",
            " [11 12 13 14]\n",
            " [21 22 23 24]]\n",
            "2\n",
            "[[11 12 13 14]\n",
            " [21 22 23 24]]\n",
            "14\n"
          ],
          "name": "stdout"
        }
      ]
    },
    {
      "cell_type": "markdown",
      "metadata": {
        "id": "fiuBJuQ6qssy"
      },
      "source": [
        "Os vetores do `NumPy` operam como listas indexadas e você pode empregar a mesma forma de índices que empregamos para percorrer arrays `NumPy` (incluindo o método `append`)."
      ]
    },
    {
      "cell_type": "code",
      "metadata": {
        "colab": {
          "base_uri": "https://localhost:8080/"
        },
        "id": "ktybvoGbreFQ",
        "outputId": "4b0452ab-a401-47c5-85ba-d005744bc440"
      },
      "source": [
        "for i in range(array1D.shape[0]):    \n",
        "    print(i, array1D[i])\n",
        "\n",
        "for i in range(array2D.shape[0]):       # percorre as linhas \n",
        "  for j in range(array2D.shape[1]):     # percorre as colunas      \n",
        "    print(i, j, array2D[i,j])\n"
      ],
      "execution_count": null,
      "outputs": [
        {
          "output_type": "stream",
          "text": [
            "0 1\n",
            "1 2\n",
            "2 3\n",
            "0 0 1\n",
            "0 1 2\n",
            "0 2 3\n",
            "0 3 4\n",
            "1 0 11\n",
            "1 1 12\n",
            "1 2 13\n",
            "1 3 14\n",
            "2 0 21\n",
            "2 1 22\n",
            "2 2 23\n",
            "2 3 24\n"
          ],
          "name": "stdout"
        }
      ]
    },
    {
      "cell_type": "markdown",
      "metadata": {
        "id": "J_JDHeums6WB"
      },
      "source": [
        "## Operações sobre arrays `NumPy`\n",
        "\n",
        "Um dos recursos mais úteis do `NumPy` que não encontramos em arrays de outras linguagens como C e Java é que diversas  operações podem ser executadas diretamente sobre o arrays sem a necessidade de implementar iterações ou laços de programa. "
      ]
    },
    {
      "cell_type": "code",
      "metadata": {
        "colab": {
          "base_uri": "https://localhost:8080/"
        },
        "id": "it89cSyVteNT",
        "outputId": "e6ecb37b-d9f2-491d-aab6-1a962fe65ac9"
      },
      "source": [
        "x = np.array([1,2,3])\n",
        "print( np.mean(x), np.sum(x), np.power(x,2) )\n",
        "print( 2*x, x+x, x**2 + 2*x + 1, np.log(x) )"
      ],
      "execution_count": null,
      "outputs": [
        {
          "output_type": "stream",
          "text": [
            "2.0 6 [1 4 9]\n",
            "[2 4 6] [2 4 6] [ 4  9 16] [0.         0.69314718 1.09861229]\n"
          ],
          "name": "stdout"
        }
      ]
    },
    {
      "cell_type": "markdown",
      "metadata": {
        "id": "E2CWZ8hWtvzB"
      },
      "source": [
        "## Outras Operações Úteis\n",
        "\n",
        "Finalmente, abaixo, algumas operações que serão muito úteis nas seções seguintes."
      ]
    },
    {
      "cell_type": "code",
      "metadata": {
        "id": "5YLuCzPDouWt",
        "colab": {
          "base_uri": "https://localhost:8080/"
        },
        "outputId": "34228ed4-bc5a-41b9-910c-8be5079bbd3c"
      },
      "source": [
        "x = np.array([1,2,3])\n",
        "\n",
        "x_list = x.tolist()  # convertendo um Numpy array para uma lista Python\n",
        "print(x, x_list)\n",
        "\n",
        "np.random.seed(1984)                                    # semente de geração aleatória \n",
        "print( np.random.randint(low=1, high=6, size=10) )      # gerando inteiros aleatórios\n",
        "print( np.random.rand(4) )                              # gerando valores aleatórios entre [0,1]\n",
        "print( np.random.sample(5) )                            # gerando um sample de dados aleatórios\n",
        "\n",
        "print( np.arange( 10, 20, 2) )     # gerando uma lista de valores no intervalo [10,20[ com incrementos de 2 \n",
        "\n",
        "print( np.linspace( 10, 20, 50) )  # gerando uma lista de valores de 50 valores no intervalo [10,20[\n"
      ],
      "execution_count": null,
      "outputs": [
        {
          "output_type": "stream",
          "text": [
            "[1 2 3] [1, 2, 3]\n",
            "[5 4 2 1 1 3 3 2 3 1]\n",
            "[0.99873856 0.89441845 0.26139183 0.73330439]\n",
            "[0.14629798 0.17234917 0.61481704 0.59564882 0.68232631]\n",
            "[10 12 14 16 18]\n",
            "[10.         10.20408163 10.40816327 10.6122449  10.81632653 11.02040816\n",
            " 11.2244898  11.42857143 11.63265306 11.83673469 12.04081633 12.24489796\n",
            " 12.44897959 12.65306122 12.85714286 13.06122449 13.26530612 13.46938776\n",
            " 13.67346939 13.87755102 14.08163265 14.28571429 14.48979592 14.69387755\n",
            " 14.89795918 15.10204082 15.30612245 15.51020408 15.71428571 15.91836735\n",
            " 16.12244898 16.32653061 16.53061224 16.73469388 16.93877551 17.14285714\n",
            " 17.34693878 17.55102041 17.75510204 17.95918367 18.16326531 18.36734694\n",
            " 18.57142857 18.7755102  18.97959184 19.18367347 19.3877551  19.59183673\n",
            " 19.79591837 20.        ]\n"
          ],
          "name": "stdout"
        }
      ]
    },
    {
      "cell_type": "markdown",
      "metadata": {
        "id": "-Rh3-Vt9Nev9"
      },
      "source": [
        "# Para saber mais\n",
        "\n",
        "Assista ao vídeo <a href=\"https://www.youtube.com/watch?v=inN8seMm7UI\">Introdução ao Colab</a> ou simplesmente comece a usá-lo https://colab.research.google.com/. \n",
        "\n",
        "Explore a barra de ferramentas do Colab, a edição de células de texto e código e consulte:\n",
        "\n",
        "- [Visão geral do Colaboratory](/notebooks/basic_features_overview.ipynb)\n",
        "- [Guia sobre Markdown](/notebooks/markdown_guide.ipynb)\n",
        "\n",
        "Acesse um tutorial prático de Python [aqui](https://www.w3schools.com/python/).\n",
        "\n",
        "**`w3Schools`** https://www.w3schools.com/ Tutoriais básicos de `Python`, `Numpy`, `Pandas` e `Matplotlib` dentre outros."
      ]
    },
    {
      "cell_type": "markdown",
      "metadata": {
        "id": "h_6fwcVkCsLf"
      },
      "source": [
        "# Algumas Referências\n",
        "\n",
        "\n",
        "<img src=\"https://mitpress.mit.edu/sites/default/files/styles/large_book_cover/http/mitp-content-server.mit.edu%3A18180/books/covers/cover/%3Fcollid%3Dbooks_covers_0%26isbn%3D9780262542364%26type%3D.jpg?itok=uAeGxK04\" width=200> \n",
        "\n",
        "[John V. Guttag, With Julie Sussman. **Introduction to Computation and Programming Using Python, Third Edition**](https://mitpress.mit.edu/books/introduction-computation-and-programming-using-python-third-edition)\n",
        "\n",
        "[2nd Edition aqui](https://github.com/Rogerio-mack/Mack_Python_Introducao/blob/main/imagens/Guttag.pdf)\n",
        "\n",
        "<br>\n",
        "\n",
        "<br>\n",
        "\n",
        "\n",
        "\n",
        "<img src=\"https://jakevdp.github.io/PythonDataScienceHandbook/figures/PDSH-cover.png \n",
        "\" width=200> \n",
        "\n",
        "[Jake VanderPlas. **Python Data Science Handbook**](https://jakevdp.github.io/PythonDataScienceHandbook/)\n",
        "\n",
        "<br>\n",
        "\n",
        "<br>\n",
        "\n",
        "<img src=\"https://github.com/ipython-books/cookbook-2nd/raw/master/cover-cookbook-2nd.png \n",
        "\" width=200> \n",
        "\n",
        "[Cyrille Rossant. **IPython Interactive Computing and Visualization Cookbook, Second Edition (2018)**](https://github.com/ipython-books/cookbook-2nd)\n",
        "\n",
        "<br>\n",
        "<br>\n",
        "\n",
        "___. Python Tutorial (https://docs.python.org/3/tutorial/)\n",
        "\n",
        "___. Scipy Lectures. https://scipy-lectures.org/\n",
        "\n",
        "\n",
        "\n",
        "\n"
      ]
    }
  ]
}